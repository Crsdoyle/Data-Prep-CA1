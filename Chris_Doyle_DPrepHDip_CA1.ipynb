{
 "cells": [
  {
   "cell_type": "code",
   "execution_count": 294,
   "id": "91d12f54",
   "metadata": {},
   "outputs": [],
   "source": [
    "import pandas as pd\n",
    "import numpy as np\n",
    "import matplotlib.pyplot as plt\n",
    "%matplotlib inline\n",
    "from sklearn.decomposition import PCA\n",
    "import seaborn as sns\n",
    "sns.set\n",
    "import warnings\n",
    "import sklearn.preprocessing as preproc\n",
    "warnings.filterwarnings('ignore')"
   ]
  },
  {
   "cell_type": "markdown",
   "id": "b377cd7f",
   "metadata": {},
   "source": [
    "Here I imported all the various libraries needed to preform the task of analyzing this data set."
   ]
  },
  {
   "cell_type": "code",
   "execution_count": 295,
   "id": "50fd0b77",
   "metadata": {},
   "outputs": [],
   "source": [
    "df=pd.read_csv(\"student_data.csv\")"
   ]
  },
  {
   "cell_type": "markdown",
   "id": "03ea32f5",
   "metadata": {},
   "source": [
    "Firstly I uploaded the data set named \"student_data.csv\", then I began to use EDA Exploratary Data Analysis."
   ]
  },
  {
   "cell_type": "code",
   "execution_count": 296,
   "id": "8c1d1950",
   "metadata": {
    "scrolled": false
   },
   "outputs": [
    {
     "data": {
      "text/html": [
       "<div>\n",
       "<style scoped>\n",
       "    .dataframe tbody tr th:only-of-type {\n",
       "        vertical-align: middle;\n",
       "    }\n",
       "\n",
       "    .dataframe tbody tr th {\n",
       "        vertical-align: top;\n",
       "    }\n",
       "\n",
       "    .dataframe thead th {\n",
       "        text-align: right;\n",
       "    }\n",
       "</style>\n",
       "<table border=\"1\" class=\"dataframe\">\n",
       "  <thead>\n",
       "    <tr style=\"text-align: right;\">\n",
       "      <th></th>\n",
       "      <th>Marital status</th>\n",
       "      <th>Application mode</th>\n",
       "      <th>Application order</th>\n",
       "      <th>Course</th>\n",
       "      <th>Daytime/evening attendance</th>\n",
       "      <th>Previous qualification</th>\n",
       "      <th>Previous qualification (grade)</th>\n",
       "      <th>Nacionality</th>\n",
       "      <th>Mother's qualification</th>\n",
       "      <th>Father's qualification</th>\n",
       "      <th>...</th>\n",
       "      <th>Curricular units 2nd sem (credited)</th>\n",
       "      <th>Curricular units 2nd sem (enrolled)</th>\n",
       "      <th>Curricular units 2nd sem (evaluations)</th>\n",
       "      <th>Curricular units 2nd sem (approved)</th>\n",
       "      <th>Curricular units 2nd sem (grade)</th>\n",
       "      <th>Curricular units 2nd sem (without evaluations)</th>\n",
       "      <th>Unemployment rate</th>\n",
       "      <th>Inflation rate</th>\n",
       "      <th>GDP</th>\n",
       "      <th>Target</th>\n",
       "    </tr>\n",
       "  </thead>\n",
       "  <tbody>\n",
       "    <tr>\n",
       "      <th>0</th>\n",
       "      <td>1</td>\n",
       "      <td>17</td>\n",
       "      <td>5</td>\n",
       "      <td>171.0</td>\n",
       "      <td>1</td>\n",
       "      <td>1</td>\n",
       "      <td>122.0</td>\n",
       "      <td>1</td>\n",
       "      <td>19</td>\n",
       "      <td>12.0</td>\n",
       "      <td>...</td>\n",
       "      <td>0</td>\n",
       "      <td>0.0</td>\n",
       "      <td>0</td>\n",
       "      <td>0</td>\n",
       "      <td>0.000000</td>\n",
       "      <td>0</td>\n",
       "      <td>10.8</td>\n",
       "      <td>1.4</td>\n",
       "      <td>1.74</td>\n",
       "      <td>Dropout</td>\n",
       "    </tr>\n",
       "    <tr>\n",
       "      <th>1</th>\n",
       "      <td>1</td>\n",
       "      <td>15</td>\n",
       "      <td>1</td>\n",
       "      <td>9254.0</td>\n",
       "      <td>1</td>\n",
       "      <td>1</td>\n",
       "      <td>160.0</td>\n",
       "      <td>1</td>\n",
       "      <td>1</td>\n",
       "      <td>3.0</td>\n",
       "      <td>...</td>\n",
       "      <td>0</td>\n",
       "      <td>6.0</td>\n",
       "      <td>6</td>\n",
       "      <td>6</td>\n",
       "      <td>13.666667</td>\n",
       "      <td>0</td>\n",
       "      <td>13.9</td>\n",
       "      <td>-0.3</td>\n",
       "      <td>0.79</td>\n",
       "      <td>Graduate</td>\n",
       "    </tr>\n",
       "    <tr>\n",
       "      <th>2</th>\n",
       "      <td>1</td>\n",
       "      <td>1</td>\n",
       "      <td>5</td>\n",
       "      <td>9070.0</td>\n",
       "      <td>1</td>\n",
       "      <td>1</td>\n",
       "      <td>122.0</td>\n",
       "      <td>1</td>\n",
       "      <td>37</td>\n",
       "      <td>37.0</td>\n",
       "      <td>...</td>\n",
       "      <td>0</td>\n",
       "      <td>6.0</td>\n",
       "      <td>0</td>\n",
       "      <td>0</td>\n",
       "      <td>0.000000</td>\n",
       "      <td>0</td>\n",
       "      <td>10.8</td>\n",
       "      <td>1.4</td>\n",
       "      <td>1.74</td>\n",
       "      <td>Dropout</td>\n",
       "    </tr>\n",
       "    <tr>\n",
       "      <th>3</th>\n",
       "      <td>1</td>\n",
       "      <td>17</td>\n",
       "      <td>2</td>\n",
       "      <td>9773.0</td>\n",
       "      <td>1</td>\n",
       "      <td>1</td>\n",
       "      <td>122.0</td>\n",
       "      <td>1</td>\n",
       "      <td>38</td>\n",
       "      <td>37.0</td>\n",
       "      <td>...</td>\n",
       "      <td>0</td>\n",
       "      <td>6.0</td>\n",
       "      <td>10</td>\n",
       "      <td>5</td>\n",
       "      <td>12.400000</td>\n",
       "      <td>0</td>\n",
       "      <td>9.4</td>\n",
       "      <td>-0.8</td>\n",
       "      <td>-3.12</td>\n",
       "      <td>Graduate</td>\n",
       "    </tr>\n",
       "    <tr>\n",
       "      <th>4</th>\n",
       "      <td>2</td>\n",
       "      <td>39</td>\n",
       "      <td>1</td>\n",
       "      <td>8014.0</td>\n",
       "      <td>0</td>\n",
       "      <td>1</td>\n",
       "      <td>100.0</td>\n",
       "      <td>1</td>\n",
       "      <td>37</td>\n",
       "      <td>38.0</td>\n",
       "      <td>...</td>\n",
       "      <td>0</td>\n",
       "      <td>6.0</td>\n",
       "      <td>6</td>\n",
       "      <td>6</td>\n",
       "      <td>13.000000</td>\n",
       "      <td>0</td>\n",
       "      <td>13.9</td>\n",
       "      <td>-0.3</td>\n",
       "      <td>0.79</td>\n",
       "      <td>Graduate</td>\n",
       "    </tr>\n",
       "  </tbody>\n",
       "</table>\n",
       "<p>5 rows × 37 columns</p>\n",
       "</div>"
      ],
      "text/plain": [
       "  Marital status  Application mode  Application order  Course  \\\n",
       "0              1                17                  5   171.0   \n",
       "1              1                15                  1  9254.0   \n",
       "2              1                 1                  5  9070.0   \n",
       "3              1                17                  2  9773.0   \n",
       "4              2                39                  1  8014.0   \n",
       "\n",
       "   Daytime/evening attendance  Previous qualification  \\\n",
       "0                           1                       1   \n",
       "1                           1                       1   \n",
       "2                           1                       1   \n",
       "3                           1                       1   \n",
       "4                           0                       1   \n",
       "\n",
       "   Previous qualification (grade)  Nacionality  Mother's qualification  \\\n",
       "0                           122.0            1                      19   \n",
       "1                           160.0            1                       1   \n",
       "2                           122.0            1                      37   \n",
       "3                           122.0            1                      38   \n",
       "4                           100.0            1                      37   \n",
       "\n",
       "   Father's qualification  ...  Curricular units 2nd sem (credited)  \\\n",
       "0                    12.0  ...                                    0   \n",
       "1                     3.0  ...                                    0   \n",
       "2                    37.0  ...                                    0   \n",
       "3                    37.0  ...                                    0   \n",
       "4                    38.0  ...                                    0   \n",
       "\n",
       "   Curricular units 2nd sem (enrolled)  \\\n",
       "0                                  0.0   \n",
       "1                                  6.0   \n",
       "2                                  6.0   \n",
       "3                                  6.0   \n",
       "4                                  6.0   \n",
       "\n",
       "   Curricular units 2nd sem (evaluations) Curricular units 2nd sem (approved)  \\\n",
       "0                                       0                                   0   \n",
       "1                                       6                                   6   \n",
       "2                                       0                                   0   \n",
       "3                                      10                                   5   \n",
       "4                                       6                                   6   \n",
       "\n",
       "   Curricular units 2nd sem (grade)  \\\n",
       "0                          0.000000   \n",
       "1                         13.666667   \n",
       "2                          0.000000   \n",
       "3                         12.400000   \n",
       "4                         13.000000   \n",
       "\n",
       "   Curricular units 2nd sem (without evaluations) Unemployment rate  \\\n",
       "0                                               0              10.8   \n",
       "1                                               0              13.9   \n",
       "2                                               0              10.8   \n",
       "3                                               0               9.4   \n",
       "4                                               0              13.9   \n",
       "\n",
       "   Inflation rate   GDP    Target  \n",
       "0             1.4  1.74   Dropout  \n",
       "1            -0.3  0.79  Graduate  \n",
       "2             1.4  1.74   Dropout  \n",
       "3            -0.8 -3.12  Graduate  \n",
       "4            -0.3  0.79  Graduate  \n",
       "\n",
       "[5 rows x 37 columns]"
      ]
     },
     "execution_count": 296,
     "metadata": {},
     "output_type": "execute_result"
    }
   ],
   "source": [
    "df.head()"
   ]
  },
  {
   "cell_type": "markdown",
   "id": "54e46b17",
   "metadata": {},
   "source": [
    "to get an understanding of how many features this data set contained I used \".head()\", 37 featurtes are in this data set, .head() will show the first 5 observations, I could aslso use .tail() this would show me the last 5 observations of the data set."
   ]
  },
  {
   "cell_type": "code",
   "execution_count": 297,
   "id": "77ca11f6",
   "metadata": {
    "scrolled": false
   },
   "outputs": [
    {
     "data": {
      "text/html": [
       "<div>\n",
       "<style scoped>\n",
       "    .dataframe tbody tr th:only-of-type {\n",
       "        vertical-align: middle;\n",
       "    }\n",
       "\n",
       "    .dataframe tbody tr th {\n",
       "        vertical-align: top;\n",
       "    }\n",
       "\n",
       "    .dataframe thead th {\n",
       "        text-align: right;\n",
       "    }\n",
       "</style>\n",
       "<table border=\"1\" class=\"dataframe\">\n",
       "  <thead>\n",
       "    <tr style=\"text-align: right;\">\n",
       "      <th></th>\n",
       "      <th>Application mode</th>\n",
       "      <th>Application order</th>\n",
       "      <th>Course</th>\n",
       "      <th>Daytime/evening attendance</th>\n",
       "      <th>Previous qualification</th>\n",
       "      <th>Previous qualification (grade)</th>\n",
       "      <th>Nacionality</th>\n",
       "      <th>Mother's qualification</th>\n",
       "      <th>Father's qualification</th>\n",
       "      <th>Mother's occupation</th>\n",
       "      <th>...</th>\n",
       "      <th>Curricular units 1st sem (without evaluations)</th>\n",
       "      <th>Curricular units 2nd sem (credited)</th>\n",
       "      <th>Curricular units 2nd sem (enrolled)</th>\n",
       "      <th>Curricular units 2nd sem (evaluations)</th>\n",
       "      <th>Curricular units 2nd sem (approved)</th>\n",
       "      <th>Curricular units 2nd sem (grade)</th>\n",
       "      <th>Curricular units 2nd sem (without evaluations)</th>\n",
       "      <th>Unemployment rate</th>\n",
       "      <th>Inflation rate</th>\n",
       "      <th>GDP</th>\n",
       "    </tr>\n",
       "  </thead>\n",
       "  <tbody>\n",
       "    <tr>\n",
       "      <th>count</th>\n",
       "      <td>4424.000000</td>\n",
       "      <td>4424.000000</td>\n",
       "      <td>4423.000000</td>\n",
       "      <td>4424.000000</td>\n",
       "      <td>4424.000000</td>\n",
       "      <td>4424.000000</td>\n",
       "      <td>4424.000000</td>\n",
       "      <td>4424.000000</td>\n",
       "      <td>4423.000000</td>\n",
       "      <td>4424.000000</td>\n",
       "      <td>...</td>\n",
       "      <td>4424.000000</td>\n",
       "      <td>4424.000000</td>\n",
       "      <td>4423.000000</td>\n",
       "      <td>4424.000000</td>\n",
       "      <td>4424.000000</td>\n",
       "      <td>4423.000000</td>\n",
       "      <td>4424.000000</td>\n",
       "      <td>4424.000000</td>\n",
       "      <td>4424.000000</td>\n",
       "      <td>4424.000000</td>\n",
       "    </tr>\n",
       "    <tr>\n",
       "      <th>mean</th>\n",
       "      <td>18.669078</td>\n",
       "      <td>1.727848</td>\n",
       "      <td>8856.458738</td>\n",
       "      <td>0.890823</td>\n",
       "      <td>4.577758</td>\n",
       "      <td>132.613314</td>\n",
       "      <td>1.873192</td>\n",
       "      <td>19.561935</td>\n",
       "      <td>22.271987</td>\n",
       "      <td>10.960895</td>\n",
       "      <td>...</td>\n",
       "      <td>0.137658</td>\n",
       "      <td>0.541817</td>\n",
       "      <td>6.231743</td>\n",
       "      <td>8.063291</td>\n",
       "      <td>4.435805</td>\n",
       "      <td>10.229941</td>\n",
       "      <td>0.150316</td>\n",
       "      <td>11.566139</td>\n",
       "      <td>1.228029</td>\n",
       "      <td>0.001969</td>\n",
       "    </tr>\n",
       "    <tr>\n",
       "      <th>std</th>\n",
       "      <td>17.484682</td>\n",
       "      <td>1.313793</td>\n",
       "      <td>2063.763479</td>\n",
       "      <td>0.311897</td>\n",
       "      <td>10.216592</td>\n",
       "      <td>13.188332</td>\n",
       "      <td>6.914514</td>\n",
       "      <td>15.603186</td>\n",
       "      <td>15.343244</td>\n",
       "      <td>26.418253</td>\n",
       "      <td>...</td>\n",
       "      <td>0.690880</td>\n",
       "      <td>1.918546</td>\n",
       "      <td>2.196038</td>\n",
       "      <td>3.947951</td>\n",
       "      <td>3.014764</td>\n",
       "      <td>5.211367</td>\n",
       "      <td>0.753774</td>\n",
       "      <td>2.663850</td>\n",
       "      <td>1.382711</td>\n",
       "      <td>2.269935</td>\n",
       "    </tr>\n",
       "    <tr>\n",
       "      <th>min</th>\n",
       "      <td>1.000000</td>\n",
       "      <td>0.000000</td>\n",
       "      <td>33.000000</td>\n",
       "      <td>0.000000</td>\n",
       "      <td>1.000000</td>\n",
       "      <td>95.000000</td>\n",
       "      <td>1.000000</td>\n",
       "      <td>1.000000</td>\n",
       "      <td>1.000000</td>\n",
       "      <td>0.000000</td>\n",
       "      <td>...</td>\n",
       "      <td>0.000000</td>\n",
       "      <td>0.000000</td>\n",
       "      <td>0.000000</td>\n",
       "      <td>0.000000</td>\n",
       "      <td>0.000000</td>\n",
       "      <td>0.000000</td>\n",
       "      <td>0.000000</td>\n",
       "      <td>7.600000</td>\n",
       "      <td>-0.800000</td>\n",
       "      <td>-4.060000</td>\n",
       "    </tr>\n",
       "    <tr>\n",
       "      <th>25%</th>\n",
       "      <td>1.000000</td>\n",
       "      <td>1.000000</td>\n",
       "      <td>9085.000000</td>\n",
       "      <td>1.000000</td>\n",
       "      <td>1.000000</td>\n",
       "      <td>125.000000</td>\n",
       "      <td>1.000000</td>\n",
       "      <td>2.000000</td>\n",
       "      <td>3.000000</td>\n",
       "      <td>4.000000</td>\n",
       "      <td>...</td>\n",
       "      <td>0.000000</td>\n",
       "      <td>0.000000</td>\n",
       "      <td>5.000000</td>\n",
       "      <td>6.000000</td>\n",
       "      <td>2.000000</td>\n",
       "      <td>10.750000</td>\n",
       "      <td>0.000000</td>\n",
       "      <td>9.400000</td>\n",
       "      <td>0.300000</td>\n",
       "      <td>-1.700000</td>\n",
       "    </tr>\n",
       "    <tr>\n",
       "      <th>50%</th>\n",
       "      <td>17.000000</td>\n",
       "      <td>1.000000</td>\n",
       "      <td>9238.000000</td>\n",
       "      <td>1.000000</td>\n",
       "      <td>1.000000</td>\n",
       "      <td>133.100000</td>\n",
       "      <td>1.000000</td>\n",
       "      <td>19.000000</td>\n",
       "      <td>19.000000</td>\n",
       "      <td>5.000000</td>\n",
       "      <td>...</td>\n",
       "      <td>0.000000</td>\n",
       "      <td>0.000000</td>\n",
       "      <td>6.000000</td>\n",
       "      <td>8.000000</td>\n",
       "      <td>5.000000</td>\n",
       "      <td>12.200000</td>\n",
       "      <td>0.000000</td>\n",
       "      <td>11.100000</td>\n",
       "      <td>1.400000</td>\n",
       "      <td>0.320000</td>\n",
       "    </tr>\n",
       "    <tr>\n",
       "      <th>75%</th>\n",
       "      <td>39.000000</td>\n",
       "      <td>2.000000</td>\n",
       "      <td>9556.000000</td>\n",
       "      <td>1.000000</td>\n",
       "      <td>1.000000</td>\n",
       "      <td>140.000000</td>\n",
       "      <td>1.000000</td>\n",
       "      <td>37.000000</td>\n",
       "      <td>37.000000</td>\n",
       "      <td>9.000000</td>\n",
       "      <td>...</td>\n",
       "      <td>0.000000</td>\n",
       "      <td>0.000000</td>\n",
       "      <td>7.000000</td>\n",
       "      <td>10.000000</td>\n",
       "      <td>6.000000</td>\n",
       "      <td>13.333333</td>\n",
       "      <td>0.000000</td>\n",
       "      <td>13.900000</td>\n",
       "      <td>2.600000</td>\n",
       "      <td>1.790000</td>\n",
       "    </tr>\n",
       "    <tr>\n",
       "      <th>max</th>\n",
       "      <td>57.000000</td>\n",
       "      <td>9.000000</td>\n",
       "      <td>9991.000000</td>\n",
       "      <td>1.000000</td>\n",
       "      <td>43.000000</td>\n",
       "      <td>190.000000</td>\n",
       "      <td>109.000000</td>\n",
       "      <td>44.000000</td>\n",
       "      <td>44.000000</td>\n",
       "      <td>194.000000</td>\n",
       "      <td>...</td>\n",
       "      <td>12.000000</td>\n",
       "      <td>19.000000</td>\n",
       "      <td>23.000000</td>\n",
       "      <td>33.000000</td>\n",
       "      <td>20.000000</td>\n",
       "      <td>18.571429</td>\n",
       "      <td>12.000000</td>\n",
       "      <td>16.200000</td>\n",
       "      <td>3.700000</td>\n",
       "      <td>3.510000</td>\n",
       "    </tr>\n",
       "  </tbody>\n",
       "</table>\n",
       "<p>8 rows × 31 columns</p>\n",
       "</div>"
      ],
      "text/plain": [
       "       Application mode  Application order       Course  \\\n",
       "count       4424.000000        4424.000000  4423.000000   \n",
       "mean          18.669078           1.727848  8856.458738   \n",
       "std           17.484682           1.313793  2063.763479   \n",
       "min            1.000000           0.000000    33.000000   \n",
       "25%            1.000000           1.000000  9085.000000   \n",
       "50%           17.000000           1.000000  9238.000000   \n",
       "75%           39.000000           2.000000  9556.000000   \n",
       "max           57.000000           9.000000  9991.000000   \n",
       "\n",
       "       Daytime/evening attendance  Previous qualification  \\\n",
       "count                 4424.000000             4424.000000   \n",
       "mean                     0.890823                4.577758   \n",
       "std                      0.311897               10.216592   \n",
       "min                      0.000000                1.000000   \n",
       "25%                      1.000000                1.000000   \n",
       "50%                      1.000000                1.000000   \n",
       "75%                      1.000000                1.000000   \n",
       "max                      1.000000               43.000000   \n",
       "\n",
       "       Previous qualification (grade)  Nacionality  Mother's qualification  \\\n",
       "count                     4424.000000  4424.000000             4424.000000   \n",
       "mean                       132.613314     1.873192               19.561935   \n",
       "std                         13.188332     6.914514               15.603186   \n",
       "min                         95.000000     1.000000                1.000000   \n",
       "25%                        125.000000     1.000000                2.000000   \n",
       "50%                        133.100000     1.000000               19.000000   \n",
       "75%                        140.000000     1.000000               37.000000   \n",
       "max                        190.000000   109.000000               44.000000   \n",
       "\n",
       "       Father's qualification  Mother's occupation  ...  \\\n",
       "count             4423.000000          4424.000000  ...   \n",
       "mean                22.271987            10.960895  ...   \n",
       "std                 15.343244            26.418253  ...   \n",
       "min                  1.000000             0.000000  ...   \n",
       "25%                  3.000000             4.000000  ...   \n",
       "50%                 19.000000             5.000000  ...   \n",
       "75%                 37.000000             9.000000  ...   \n",
       "max                 44.000000           194.000000  ...   \n",
       "\n",
       "       Curricular units 1st sem (without evaluations)  \\\n",
       "count                                     4424.000000   \n",
       "mean                                         0.137658   \n",
       "std                                          0.690880   \n",
       "min                                          0.000000   \n",
       "25%                                          0.000000   \n",
       "50%                                          0.000000   \n",
       "75%                                          0.000000   \n",
       "max                                         12.000000   \n",
       "\n",
       "       Curricular units 2nd sem (credited)  \\\n",
       "count                          4424.000000   \n",
       "mean                              0.541817   \n",
       "std                               1.918546   \n",
       "min                               0.000000   \n",
       "25%                               0.000000   \n",
       "50%                               0.000000   \n",
       "75%                               0.000000   \n",
       "max                              19.000000   \n",
       "\n",
       "       Curricular units 2nd sem (enrolled)  \\\n",
       "count                          4423.000000   \n",
       "mean                              6.231743   \n",
       "std                               2.196038   \n",
       "min                               0.000000   \n",
       "25%                               5.000000   \n",
       "50%                               6.000000   \n",
       "75%                               7.000000   \n",
       "max                              23.000000   \n",
       "\n",
       "       Curricular units 2nd sem (evaluations)  \\\n",
       "count                             4424.000000   \n",
       "mean                                 8.063291   \n",
       "std                                  3.947951   \n",
       "min                                  0.000000   \n",
       "25%                                  6.000000   \n",
       "50%                                  8.000000   \n",
       "75%                                 10.000000   \n",
       "max                                 33.000000   \n",
       "\n",
       "       Curricular units 2nd sem (approved)  Curricular units 2nd sem (grade)  \\\n",
       "count                          4424.000000                       4423.000000   \n",
       "mean                              4.435805                         10.229941   \n",
       "std                               3.014764                          5.211367   \n",
       "min                               0.000000                          0.000000   \n",
       "25%                               2.000000                         10.750000   \n",
       "50%                               5.000000                         12.200000   \n",
       "75%                               6.000000                         13.333333   \n",
       "max                              20.000000                         18.571429   \n",
       "\n",
       "       Curricular units 2nd sem (without evaluations)  Unemployment rate  \\\n",
       "count                                     4424.000000        4424.000000   \n",
       "mean                                         0.150316          11.566139   \n",
       "std                                          0.753774           2.663850   \n",
       "min                                          0.000000           7.600000   \n",
       "25%                                          0.000000           9.400000   \n",
       "50%                                          0.000000          11.100000   \n",
       "75%                                          0.000000          13.900000   \n",
       "max                                         12.000000          16.200000   \n",
       "\n",
       "       Inflation rate          GDP  \n",
       "count     4424.000000  4424.000000  \n",
       "mean         1.228029     0.001969  \n",
       "std          1.382711     2.269935  \n",
       "min         -0.800000    -4.060000  \n",
       "25%          0.300000    -1.700000  \n",
       "50%          1.400000     0.320000  \n",
       "75%          2.600000     1.790000  \n",
       "max          3.700000     3.510000  \n",
       "\n",
       "[8 rows x 31 columns]"
      ]
     },
     "execution_count": 297,
     "metadata": {},
     "output_type": "execute_result"
    }
   ],
   "source": [
    "df.describe()"
   ]
  },
  {
   "cell_type": "markdown",
   "id": "00a8d5cd",
   "metadata": {},
   "source": [
    "then I used .describe() to review the mean, std deviation, and looked for similarities between values. If the mean and the standared deviation are close in values this would indicate a normal Gaussian distrubution. this was not the case with this data set.\n"
   ]
  },
  {
   "cell_type": "code",
   "execution_count": 298,
   "id": "d52cec44",
   "metadata": {
    "scrolled": false
   },
   "outputs": [
    {
     "data": {
      "text/plain": [
       "(4424, 37)"
      ]
     },
     "execution_count": 298,
     "metadata": {},
     "output_type": "execute_result"
    }
   ],
   "source": [
    "df.shape"
   ]
  },
  {
   "cell_type": "markdown",
   "id": "30674ad5",
   "metadata": {},
   "source": [
    "to know exactly how many features and observations I had I used \".shape()"
   ]
  },
  {
   "cell_type": "code",
   "execution_count": 299,
   "id": "eb98ff79",
   "metadata": {
    "scrolled": true
   },
   "outputs": [
    {
     "name": "stdout",
     "output_type": "stream",
     "text": [
      "<class 'pandas.core.frame.DataFrame'>\n",
      "RangeIndex: 4424 entries, 0 to 4423\n",
      "Data columns (total 37 columns):\n",
      " #   Column                                          Non-Null Count  Dtype  \n",
      "---  ------                                          --------------  -----  \n",
      " 0   Marital status                                  4424 non-null   object \n",
      " 1   Application mode                                4424 non-null   int64  \n",
      " 2   Application order                               4424 non-null   int64  \n",
      " 3   Course                                          4423 non-null   float64\n",
      " 4   Daytime/evening attendance                      4424 non-null   int64  \n",
      " 5   Previous qualification                          4424 non-null   int64  \n",
      " 6   Previous qualification (grade)                  4424 non-null   float64\n",
      " 7   Nacionality                                     4424 non-null   int64  \n",
      " 8   Mother's qualification                          4424 non-null   int64  \n",
      " 9   Father's qualification                          4423 non-null   float64\n",
      " 10  Mother's occupation                             4424 non-null   int64  \n",
      " 11  Father's occupation                             4424 non-null   int64  \n",
      " 12  Admission grade                                 4423 non-null   float64\n",
      " 13  Displaced                                       4424 non-null   object \n",
      " 14  Educational special needs                       4424 non-null   int64  \n",
      " 15  Debtor                                          4423 non-null   float64\n",
      " 16  Tuition fees up to date                         4423 non-null   object \n",
      " 17  Gender                                          4424 non-null   int64  \n",
      " 18  Scholarship holder                              4424 non-null   int64  \n",
      " 19  Age at enrollment                               4424 non-null   object \n",
      " 20  International                                   4423 non-null   float64\n",
      " 21  Curricular units 1st sem (credited)             4424 non-null   object \n",
      " 22  Curricular units 1st sem (enrolled)             4424 non-null   int64  \n",
      " 23  Curricular units 1st sem (evaluations)          4424 non-null   int64  \n",
      " 24  Curricular units 1st sem (approved)             4424 non-null   int64  \n",
      " 25  Curricular units 1st sem (grade)                4423 non-null   float64\n",
      " 26  Curricular units 1st sem (without evaluations)  4424 non-null   int64  \n",
      " 27  Curricular units 2nd sem (credited)             4424 non-null   int64  \n",
      " 28  Curricular units 2nd sem (enrolled)             4423 non-null   float64\n",
      " 29  Curricular units 2nd sem (evaluations)          4424 non-null   int64  \n",
      " 30  Curricular units 2nd sem (approved)             4424 non-null   int64  \n",
      " 31  Curricular units 2nd sem (grade)                4423 non-null   float64\n",
      " 32  Curricular units 2nd sem (without evaluations)  4424 non-null   int64  \n",
      " 33  Unemployment rate                               4424 non-null   float64\n",
      " 34  Inflation rate                                  4424 non-null   float64\n",
      " 35  GDP                                             4424 non-null   float64\n",
      " 36  Target                                          4424 non-null   object \n",
      "dtypes: float64(12), int64(19), object(6)\n",
      "memory usage: 1.2+ MB\n"
     ]
    }
   ],
   "source": [
    "df.info()"
   ]
  },
  {
   "cell_type": "markdown",
   "id": "46583017",
   "metadata": {},
   "source": [
    ".info() gave me which type of value was contained in each feature, I then looked at the data dictionary to compare."
   ]
  },
  {
   "cell_type": "code",
   "execution_count": 300,
   "id": "43f36a4b",
   "metadata": {
    "scrolled": true
   },
   "outputs": [
    {
     "data": {
      "text/plain": [
       "Marital status                                    0\n",
       "Application mode                                  0\n",
       "Application order                                 0\n",
       "Course                                            1\n",
       "Daytime/evening attendance                        0\n",
       "Previous qualification                            0\n",
       "Previous qualification (grade)                    0\n",
       "Nacionality                                       0\n",
       "Mother's qualification                            0\n",
       "Father's qualification                            1\n",
       "Mother's occupation                               0\n",
       "Father's occupation                               0\n",
       "Admission grade                                   1\n",
       "Displaced                                         0\n",
       "Educational special needs                         0\n",
       "Debtor                                            1\n",
       "Tuition fees up to date                           1\n",
       "Gender                                            0\n",
       "Scholarship holder                                0\n",
       "Age at enrollment                                 0\n",
       "International                                     1\n",
       "Curricular units 1st sem (credited)               0\n",
       "Curricular units 1st sem (enrolled)               0\n",
       "Curricular units 1st sem (evaluations)            0\n",
       "Curricular units 1st sem (approved)               0\n",
       "Curricular units 1st sem (grade)                  1\n",
       "Curricular units 1st sem (without evaluations)    0\n",
       "Curricular units 2nd sem (credited)               0\n",
       "Curricular units 2nd sem (enrolled)               1\n",
       "Curricular units 2nd sem (evaluations)            0\n",
       "Curricular units 2nd sem (approved)               0\n",
       "Curricular units 2nd sem (grade)                  1\n",
       "Curricular units 2nd sem (without evaluations)    0\n",
       "Unemployment rate                                 0\n",
       "Inflation rate                                    0\n",
       "GDP                                               0\n",
       "Target                                            0\n",
       "dtype: int64"
      ]
     },
     "execution_count": 300,
     "metadata": {},
     "output_type": "execute_result"
    }
   ],
   "source": [
    "df.isnull().sum()"
   ]
  },
  {
   "cell_type": "markdown",
   "id": "bef2b996",
   "metadata": {},
   "source": [
    ".isnull().sum() gave me an list of features that contained null values."
   ]
  },
  {
   "cell_type": "code",
   "execution_count": 301,
   "id": "4416d5ff",
   "metadata": {
    "scrolled": false
   },
   "outputs": [
    {
     "data": {
      "text/plain": [
       "array(['1', '2', '4', '?', '3', '5', '6'], dtype=object)"
      ]
     },
     "execution_count": 301,
     "metadata": {},
     "output_type": "execute_result"
    }
   ],
   "source": [
    "df[\"Marital status\"].unique()"
   ]
  },
  {
   "cell_type": "markdown",
   "id": "cf7d48e5",
   "metadata": {},
   "source": [
    "I then began to go through all the features to find all the various types of null values \"?\""
   ]
  },
  {
   "cell_type": "code",
   "execution_count": 302,
   "id": "d8df92d2",
   "metadata": {
    "scrolled": true
   },
   "outputs": [
    {
     "data": {
      "text/plain": [
       "array([ 171., 9254., 9070., 9773., 8014., 9991., 9500., 9238., 9670.,\n",
       "       9853., 9085., 9130., 9556., 9147., 9003.,   33., 9119.,   nan])"
      ]
     },
     "execution_count": 302,
     "metadata": {},
     "output_type": "execute_result"
    }
   ],
   "source": [
    "df[\"Course\"].unique()"
   ]
  },
  {
   "cell_type": "markdown",
   "id": "e63e7abe",
   "metadata": {},
   "source": [
    "\"nan\""
   ]
  },
  {
   "cell_type": "code",
   "execution_count": 303,
   "id": "919bfd26",
   "metadata": {
    "scrolled": true
   },
   "outputs": [
    {
     "data": {
      "text/plain": [
       "array([12.,  3., 37., 38.,  1., 19.,  5.,  4., 34.,  2., 39., 11.,  9.,\n",
       "       nan, 36., 26., 40., 14., 20., 35., 41., 22., 13., 29., 43., 18.,\n",
       "       42., 10.,  6., 30., 25., 44., 33., 27., 31.])"
      ]
     },
     "execution_count": 303,
     "metadata": {},
     "output_type": "execute_result"
    }
   ],
   "source": [
    "df[\"Father's qualification\"].unique()"
   ]
  },
  {
   "cell_type": "markdown",
   "id": "85fb985f",
   "metadata": {},
   "source": [
    "\"nan\""
   ]
  },
  {
   "cell_type": "code",
   "execution_count": 304,
   "id": "43882971",
   "metadata": {
    "scrolled": false
   },
   "outputs": [
    {
     "data": {
      "text/plain": [
       "array(['1', '2', '4', '?', '3', '5', '6'], dtype=object)"
      ]
     },
     "execution_count": 304,
     "metadata": {},
     "output_type": "execute_result"
    }
   ],
   "source": [
    "df[\"Marital status\"].unique()"
   ]
  },
  {
   "cell_type": "markdown",
   "id": "89359812",
   "metadata": {},
   "source": [
    "'?'"
   ]
  },
  {
   "cell_type": "code",
   "execution_count": 305,
   "id": "a5a40d07",
   "metadata": {
    "scrolled": true
   },
   "outputs": [
    {
     "data": {
      "text/plain": [
       "array([ 0.,  1., nan])"
      ]
     },
     "execution_count": 305,
     "metadata": {},
     "output_type": "execute_result"
    }
   ],
   "source": [
    "df[\"Debtor\"].unique()"
   ]
  },
  {
   "cell_type": "markdown",
   "id": "d54e337b",
   "metadata": {},
   "source": [
    "\"nan\""
   ]
  },
  {
   "cell_type": "code",
   "execution_count": 306,
   "id": "a7044c1b",
   "metadata": {},
   "outputs": [],
   "source": [
    "missing_value_formats = [\"n.a.\",\"?\",\"NA\",\"n/a\",\"na\",\"--\",\"nan\",\"UnKnown\",\"Na\"]"
   ]
  },
  {
   "cell_type": "markdown",
   "id": "4a002ff8",
   "metadata": {},
   "source": [
    "I then used \"missing_value_formats\" to identify the null values, I also added in some additional null values that might have been hidden in that set."
   ]
  },
  {
   "cell_type": "code",
   "execution_count": 307,
   "id": "43bab1a3",
   "metadata": {},
   "outputs": [],
   "source": [
    "df = pd.read_csv(\"student_data.csv\",na_values=missing_value_formats)"
   ]
  },
  {
   "cell_type": "markdown",
   "id": "20c10741",
   "metadata": {},
   "source": [
    "I then re read in my data set naming it \"student_no_label\""
   ]
  },
  {
   "cell_type": "code",
   "execution_count": 308,
   "id": "67ddf6c5",
   "metadata": {
    "scrolled": false
   },
   "outputs": [
    {
     "data": {
      "text/plain": [
       "True"
      ]
     },
     "execution_count": 308,
     "metadata": {},
     "output_type": "execute_result"
    }
   ],
   "source": [
    "df.isnull().values.any()"
   ]
  },
  {
   "cell_type": "markdown",
   "id": "d048dc3a",
   "metadata": {},
   "source": [
    "here the original data set has null vales showing True"
   ]
  },
  {
   "cell_type": "code",
   "execution_count": 309,
   "id": "de873da2",
   "metadata": {},
   "outputs": [],
   "source": [
    "student_no_label = df.dropna(axis=0)"
   ]
  },
  {
   "cell_type": "markdown",
   "id": "b3c78ceb",
   "metadata": {},
   "source": [
    "I then dropped all null values using \".dropna(axis=0) axis = observations."
   ]
  },
  {
   "cell_type": "code",
   "execution_count": 310,
   "id": "7aef5886",
   "metadata": {},
   "outputs": [
    {
     "data": {
      "text/plain": [
       "False"
      ]
     },
     "execution_count": 310,
     "metadata": {},
     "output_type": "execute_result"
    }
   ],
   "source": [
    "student_no_label.isnull().values.any()"
   ]
  },
  {
   "cell_type": "markdown",
   "id": "f035c548",
   "metadata": {},
   "source": [
    "new data set named \"student_no_label\" is now showing no null values False."
   ]
  },
  {
   "cell_type": "code",
   "execution_count": 311,
   "id": "b27d49e2",
   "metadata": {},
   "outputs": [
    {
     "data": {
      "text/plain": [
       "Marital status                                    0\n",
       "Application mode                                  0\n",
       "Application order                                 0\n",
       "Course                                            0\n",
       "Daytime/evening attendance                        0\n",
       "Previous qualification                            0\n",
       "Previous qualification (grade)                    0\n",
       "Nacionality                                       0\n",
       "Mother's qualification                            0\n",
       "Father's qualification                            0\n",
       "Mother's occupation                               0\n",
       "Father's occupation                               0\n",
       "Admission grade                                   0\n",
       "Displaced                                         0\n",
       "Educational special needs                         0\n",
       "Debtor                                            0\n",
       "Tuition fees up to date                           0\n",
       "Gender                                            0\n",
       "Scholarship holder                                0\n",
       "Age at enrollment                                 0\n",
       "International                                     0\n",
       "Curricular units 1st sem (credited)               0\n",
       "Curricular units 1st sem (enrolled)               0\n",
       "Curricular units 1st sem (evaluations)            0\n",
       "Curricular units 1st sem (approved)               0\n",
       "Curricular units 1st sem (grade)                  0\n",
       "Curricular units 1st sem (without evaluations)    0\n",
       "Curricular units 2nd sem (credited)               0\n",
       "Curricular units 2nd sem (enrolled)               0\n",
       "Curricular units 2nd sem (evaluations)            0\n",
       "Curricular units 2nd sem (approved)               0\n",
       "Curricular units 2nd sem (grade)                  0\n",
       "Curricular units 2nd sem (without evaluations)    0\n",
       "Unemployment rate                                 0\n",
       "Inflation rate                                    0\n",
       "GDP                                               0\n",
       "Target                                            0\n",
       "dtype: int64"
      ]
     },
     "execution_count": 311,
     "metadata": {},
     "output_type": "execute_result"
    }
   ],
   "source": [
    "student_no_label.isnull().sum()"
   ]
  },
  {
   "cell_type": "code",
   "execution_count": 312,
   "id": "3fb72b53",
   "metadata": {
    "scrolled": true
   },
   "outputs": [
    {
     "data": {
      "text/plain": [
       "array(['Dropout', 'Graduate', 'Enrolled', 'Grad', 'graduate', 'Drop',\n",
       "       'dropout'], dtype=object)"
      ]
     },
     "execution_count": 312,
     "metadata": {},
     "output_type": "execute_result"
    }
   ],
   "source": [
    "df[\"Target\"].unique()"
   ]
  },
  {
   "cell_type": "markdown",
   "id": "88f06d87",
   "metadata": {},
   "source": [
    "I then looked at the individual characteristics of each feature, on this feature I needed to consolidate 7 words that had the same meaning to 3, \"Target\" this is also our dependent variable."
   ]
  },
  {
   "cell_type": "code",
   "execution_count": 313,
   "id": "318bfa96",
   "metadata": {},
   "outputs": [],
   "source": [
    "df[\"Target\"]=df[\"Target\"].replace({\"Drop\":\"Dropout\",\"Grad\":\"Graduate\",\"graduate\":\"Graduate\",\"dropout\":\"Dropout\",})"
   ]
  },
  {
   "cell_type": "markdown",
   "id": "2b3baf86",
   "metadata": {},
   "source": [
    "i used \".replace\" to consolidate from 7 to 3."
   ]
  },
  {
   "cell_type": "code",
   "execution_count": 314,
   "id": "d9711153",
   "metadata": {
    "scrolled": true
   },
   "outputs": [
    {
     "data": {
      "text/plain": [
       "array(['Dropout', 'Graduate', 'Enrolled'], dtype=object)"
      ]
     },
     "execution_count": 314,
     "metadata": {},
     "output_type": "execute_result"
    }
   ],
   "source": [
    "df[\"Target\"].unique()"
   ]
  },
  {
   "cell_type": "markdown",
   "id": "ec3d8a3d",
   "metadata": {},
   "source": [
    "we can now see the 3 values using \".unique()\""
   ]
  },
  {
   "cell_type": "code",
   "execution_count": 315,
   "id": "c28f6b7b",
   "metadata": {},
   "outputs": [],
   "source": [
    "df[\"Target\"]=df[\"Target\"].replace({\"Dropout\":\"1\",\"Graduate\":\"2\",\"Enrolled\":\"3\"})"
   ]
  },
  {
   "cell_type": "raw",
   "id": "f02dde51",
   "metadata": {},
   "source": [
    "I then changed my dependent variable to numerical values, 1,2,3. the thinkig behind this is that having the dependant variable and independant variables all numerical will facilitate cosistency when implementing visulastations and modeling."
   ]
  },
  {
   "cell_type": "code",
   "execution_count": 316,
   "id": "0ee7de41",
   "metadata": {
    "scrolled": true
   },
   "outputs": [
    {
     "data": {
      "text/plain": [
       "array(['1', '2', '3'], dtype=object)"
      ]
     },
     "execution_count": 316,
     "metadata": {},
     "output_type": "execute_result"
    }
   ],
   "source": [
    "df[\"Target\"].unique()"
   ]
  },
  {
   "cell_type": "markdown",
   "id": "c480de81",
   "metadata": {},
   "source": [
    "\"Target\" now showing 1,2,3."
   ]
  },
  {
   "cell_type": "markdown",
   "id": "299fe7df",
   "metadata": {},
   "source": [
    "after reviewing the data dictionary I realized that some features on my data set where showing as \"Float\" values, I then began to ammend the below features to interger's using .astype(int)"
   ]
  },
  {
   "cell_type": "code",
   "execution_count": 317,
   "id": "04a3566c",
   "metadata": {
    "scrolled": true
   },
   "outputs": [],
   "source": [
    "student_no_label[\"Marital status\"]=student_no_label[\"Marital status\"].astype(int)"
   ]
  },
  {
   "cell_type": "code",
   "execution_count": 318,
   "id": "f16c8405",
   "metadata": {},
   "outputs": [],
   "source": [
    "student_no_label[\"Application order\"]=student_no_label[\"Application order\"].astype(int)"
   ]
  },
  {
   "cell_type": "code",
   "execution_count": 319,
   "id": "64fc7444",
   "metadata": {},
   "outputs": [],
   "source": [
    "student_no_label[\"Course\"]=student_no_label[\"Course\"].astype(int)"
   ]
  },
  {
   "cell_type": "code",
   "execution_count": 320,
   "id": "64a5b899",
   "metadata": {
    "scrolled": true
   },
   "outputs": [],
   "source": [
    "student_no_label[\"Father's qualification\"]=student_no_label[\"Father's qualification\"].astype(int)"
   ]
  },
  {
   "cell_type": "code",
   "execution_count": 321,
   "id": "808e2d47",
   "metadata": {},
   "outputs": [],
   "source": [
    "student_no_label[\"Displaced\"]=student_no_label[\"Displaced\"].astype(int)"
   ]
  },
  {
   "cell_type": "code",
   "execution_count": 322,
   "id": "b73b6006",
   "metadata": {},
   "outputs": [],
   "source": [
    "student_no_label[\"Debtor\"]=student_no_label[\"Debtor\"].astype(int)"
   ]
  },
  {
   "cell_type": "code",
   "execution_count": 323,
   "id": "76841ad2",
   "metadata": {
    "scrolled": true
   },
   "outputs": [],
   "source": [
    "student_no_label[\"Tuition fees up to date\"]=student_no_label[\"Tuition fees up to date\"].astype(int)"
   ]
  },
  {
   "cell_type": "code",
   "execution_count": 324,
   "id": "9ce81881",
   "metadata": {
    "scrolled": true
   },
   "outputs": [],
   "source": [
    "student_no_label[\"Age at enrollment\"]=student_no_label[\"Age at enrollment\"].astype(int)"
   ]
  },
  {
   "cell_type": "code",
   "execution_count": 325,
   "id": "3b733779",
   "metadata": {},
   "outputs": [],
   "source": [
    "student_no_label[\"Curricular units 2nd sem (enrolled)\"]=student_no_label[\"Curricular units 2nd sem (enrolled)\"].astype(int)"
   ]
  },
  {
   "cell_type": "code",
   "execution_count": 326,
   "id": "84cdb6d9",
   "metadata": {},
   "outputs": [],
   "source": [
    "student_no_label[\"Curricular units 1st sem (credited)\"]=student_no_label[\"Curricular units 1st sem (credited)\"].astype(int)"
   ]
  },
  {
   "cell_type": "code",
   "execution_count": 327,
   "id": "207cddcc",
   "metadata": {},
   "outputs": [],
   "source": [
    "student_no_label[\"Curricular units 1st sem (grade)\"]=student_no_label[\"Curricular units 1st sem (grade)\"].astype(int)"
   ]
  },
  {
   "cell_type": "code",
   "execution_count": 328,
   "id": "35b06189",
   "metadata": {},
   "outputs": [],
   "source": [
    "student_no_label[\"Curricular units 1st sem (credited)\"]=student_no_label[\"Curricular units 1st sem (credited)\"].astype(int)"
   ]
  },
  {
   "cell_type": "code",
   "execution_count": 329,
   "id": "3dcc4e58",
   "metadata": {},
   "outputs": [],
   "source": [
    "student_no_label[\"Curricular units 2nd sem (grade)\"]=student_no_label[\"Curricular units 2nd sem (grade)\"].astype(int)"
   ]
  },
  {
   "cell_type": "code",
   "execution_count": 330,
   "id": "b5943695",
   "metadata": {
    "scrolled": true
   },
   "outputs": [
    {
     "data": {
      "text/html": [
       "<div>\n",
       "<style scoped>\n",
       "    .dataframe tbody tr th:only-of-type {\n",
       "        vertical-align: middle;\n",
       "    }\n",
       "\n",
       "    .dataframe tbody tr th {\n",
       "        vertical-align: top;\n",
       "    }\n",
       "\n",
       "    .dataframe thead th {\n",
       "        text-align: right;\n",
       "    }\n",
       "</style>\n",
       "<table border=\"1\" class=\"dataframe\">\n",
       "  <thead>\n",
       "    <tr style=\"text-align: right;\">\n",
       "      <th></th>\n",
       "      <th>Marital status</th>\n",
       "      <th>Application mode</th>\n",
       "      <th>Application order</th>\n",
       "      <th>Course</th>\n",
       "      <th>Daytime/evening attendance</th>\n",
       "      <th>Previous qualification</th>\n",
       "      <th>Previous qualification (grade)</th>\n",
       "      <th>Nacionality</th>\n",
       "      <th>Mother's qualification</th>\n",
       "      <th>Father's qualification</th>\n",
       "      <th>...</th>\n",
       "      <th>Curricular units 2nd sem (credited)</th>\n",
       "      <th>Curricular units 2nd sem (enrolled)</th>\n",
       "      <th>Curricular units 2nd sem (evaluations)</th>\n",
       "      <th>Curricular units 2nd sem (approved)</th>\n",
       "      <th>Curricular units 2nd sem (grade)</th>\n",
       "      <th>Curricular units 2nd sem (without evaluations)</th>\n",
       "      <th>Unemployment rate</th>\n",
       "      <th>Inflation rate</th>\n",
       "      <th>GDP</th>\n",
       "      <th>Target</th>\n",
       "    </tr>\n",
       "  </thead>\n",
       "  <tbody>\n",
       "    <tr>\n",
       "      <th>0</th>\n",
       "      <td>1</td>\n",
       "      <td>17</td>\n",
       "      <td>5</td>\n",
       "      <td>171</td>\n",
       "      <td>1</td>\n",
       "      <td>1</td>\n",
       "      <td>122.0</td>\n",
       "      <td>1</td>\n",
       "      <td>19</td>\n",
       "      <td>12</td>\n",
       "      <td>...</td>\n",
       "      <td>0</td>\n",
       "      <td>0</td>\n",
       "      <td>0</td>\n",
       "      <td>0</td>\n",
       "      <td>0</td>\n",
       "      <td>0</td>\n",
       "      <td>10.8</td>\n",
       "      <td>1.4</td>\n",
       "      <td>1.74</td>\n",
       "      <td>Dropout</td>\n",
       "    </tr>\n",
       "    <tr>\n",
       "      <th>1</th>\n",
       "      <td>1</td>\n",
       "      <td>15</td>\n",
       "      <td>1</td>\n",
       "      <td>9254</td>\n",
       "      <td>1</td>\n",
       "      <td>1</td>\n",
       "      <td>160.0</td>\n",
       "      <td>1</td>\n",
       "      <td>1</td>\n",
       "      <td>3</td>\n",
       "      <td>...</td>\n",
       "      <td>0</td>\n",
       "      <td>6</td>\n",
       "      <td>6</td>\n",
       "      <td>6</td>\n",
       "      <td>13</td>\n",
       "      <td>0</td>\n",
       "      <td>13.9</td>\n",
       "      <td>-0.3</td>\n",
       "      <td>0.79</td>\n",
       "      <td>Graduate</td>\n",
       "    </tr>\n",
       "    <tr>\n",
       "      <th>2</th>\n",
       "      <td>1</td>\n",
       "      <td>1</td>\n",
       "      <td>5</td>\n",
       "      <td>9070</td>\n",
       "      <td>1</td>\n",
       "      <td>1</td>\n",
       "      <td>122.0</td>\n",
       "      <td>1</td>\n",
       "      <td>37</td>\n",
       "      <td>37</td>\n",
       "      <td>...</td>\n",
       "      <td>0</td>\n",
       "      <td>6</td>\n",
       "      <td>0</td>\n",
       "      <td>0</td>\n",
       "      <td>0</td>\n",
       "      <td>0</td>\n",
       "      <td>10.8</td>\n",
       "      <td>1.4</td>\n",
       "      <td>1.74</td>\n",
       "      <td>Dropout</td>\n",
       "    </tr>\n",
       "    <tr>\n",
       "      <th>3</th>\n",
       "      <td>1</td>\n",
       "      <td>17</td>\n",
       "      <td>2</td>\n",
       "      <td>9773</td>\n",
       "      <td>1</td>\n",
       "      <td>1</td>\n",
       "      <td>122.0</td>\n",
       "      <td>1</td>\n",
       "      <td>38</td>\n",
       "      <td>37</td>\n",
       "      <td>...</td>\n",
       "      <td>0</td>\n",
       "      <td>6</td>\n",
       "      <td>10</td>\n",
       "      <td>5</td>\n",
       "      <td>12</td>\n",
       "      <td>0</td>\n",
       "      <td>9.4</td>\n",
       "      <td>-0.8</td>\n",
       "      <td>-3.12</td>\n",
       "      <td>Graduate</td>\n",
       "    </tr>\n",
       "    <tr>\n",
       "      <th>4</th>\n",
       "      <td>2</td>\n",
       "      <td>39</td>\n",
       "      <td>1</td>\n",
       "      <td>8014</td>\n",
       "      <td>0</td>\n",
       "      <td>1</td>\n",
       "      <td>100.0</td>\n",
       "      <td>1</td>\n",
       "      <td>37</td>\n",
       "      <td>38</td>\n",
       "      <td>...</td>\n",
       "      <td>0</td>\n",
       "      <td>6</td>\n",
       "      <td>6</td>\n",
       "      <td>6</td>\n",
       "      <td>13</td>\n",
       "      <td>0</td>\n",
       "      <td>13.9</td>\n",
       "      <td>-0.3</td>\n",
       "      <td>0.79</td>\n",
       "      <td>Graduate</td>\n",
       "    </tr>\n",
       "  </tbody>\n",
       "</table>\n",
       "<p>5 rows × 37 columns</p>\n",
       "</div>"
      ],
      "text/plain": [
       "   Marital status  Application mode  Application order  Course  \\\n",
       "0               1                17                  5     171   \n",
       "1               1                15                  1    9254   \n",
       "2               1                 1                  5    9070   \n",
       "3               1                17                  2    9773   \n",
       "4               2                39                  1    8014   \n",
       "\n",
       "   Daytime/evening attendance  Previous qualification  \\\n",
       "0                           1                       1   \n",
       "1                           1                       1   \n",
       "2                           1                       1   \n",
       "3                           1                       1   \n",
       "4                           0                       1   \n",
       "\n",
       "   Previous qualification (grade)  Nacionality  Mother's qualification  \\\n",
       "0                           122.0            1                      19   \n",
       "1                           160.0            1                       1   \n",
       "2                           122.0            1                      37   \n",
       "3                           122.0            1                      38   \n",
       "4                           100.0            1                      37   \n",
       "\n",
       "   Father's qualification  ...  Curricular units 2nd sem (credited)  \\\n",
       "0                      12  ...                                    0   \n",
       "1                       3  ...                                    0   \n",
       "2                      37  ...                                    0   \n",
       "3                      37  ...                                    0   \n",
       "4                      38  ...                                    0   \n",
       "\n",
       "   Curricular units 2nd sem (enrolled)  \\\n",
       "0                                    0   \n",
       "1                                    6   \n",
       "2                                    6   \n",
       "3                                    6   \n",
       "4                                    6   \n",
       "\n",
       "   Curricular units 2nd sem (evaluations)  \\\n",
       "0                                       0   \n",
       "1                                       6   \n",
       "2                                       0   \n",
       "3                                      10   \n",
       "4                                       6   \n",
       "\n",
       "   Curricular units 2nd sem (approved)  Curricular units 2nd sem (grade)  \\\n",
       "0                                    0                                 0   \n",
       "1                                    6                                13   \n",
       "2                                    0                                 0   \n",
       "3                                    5                                12   \n",
       "4                                    6                                13   \n",
       "\n",
       "   Curricular units 2nd sem (without evaluations)  Unemployment rate  \\\n",
       "0                                               0               10.8   \n",
       "1                                               0               13.9   \n",
       "2                                               0               10.8   \n",
       "3                                               0                9.4   \n",
       "4                                               0               13.9   \n",
       "\n",
       "   Inflation rate   GDP    Target  \n",
       "0             1.4  1.74   Dropout  \n",
       "1            -0.3  0.79  Graduate  \n",
       "2             1.4  1.74   Dropout  \n",
       "3            -0.8 -3.12  Graduate  \n",
       "4            -0.3  0.79  Graduate  \n",
       "\n",
       "[5 rows x 37 columns]"
      ]
     },
     "execution_count": 330,
     "metadata": {},
     "output_type": "execute_result"
    }
   ],
   "source": [
    "student_no_label.head()"
   ]
  },
  {
   "cell_type": "markdown",
   "id": "2552deeb",
   "metadata": {},
   "source": [
    "Here we see the full list of features in there correct types according to the data dictionary."
   ]
  },
  {
   "cell_type": "code",
   "execution_count": 331,
   "id": "4b44741b",
   "metadata": {
    "scrolled": true
   },
   "outputs": [
    {
     "data": {
      "text/html": [
       "<div>\n",
       "<style scoped>\n",
       "    .dataframe tbody tr th:only-of-type {\n",
       "        vertical-align: middle;\n",
       "    }\n",
       "\n",
       "    .dataframe tbody tr th {\n",
       "        vertical-align: top;\n",
       "    }\n",
       "\n",
       "    .dataframe thead th {\n",
       "        text-align: right;\n",
       "    }\n",
       "</style>\n",
       "<table border=\"1\" class=\"dataframe\">\n",
       "  <thead>\n",
       "    <tr style=\"text-align: right;\">\n",
       "      <th></th>\n",
       "      <th>Marital status</th>\n",
       "      <th>Application mode</th>\n",
       "      <th>Application order</th>\n",
       "      <th>Course</th>\n",
       "      <th>Daytime/evening attendance</th>\n",
       "      <th>Previous qualification</th>\n",
       "      <th>Previous qualification (grade)</th>\n",
       "      <th>Nacionality</th>\n",
       "      <th>Mother's qualification</th>\n",
       "      <th>Father's qualification</th>\n",
       "      <th>...</th>\n",
       "      <th>Curricular units 1st sem (without evaluations)</th>\n",
       "      <th>Curricular units 2nd sem (credited)</th>\n",
       "      <th>Curricular units 2nd sem (enrolled)</th>\n",
       "      <th>Curricular units 2nd sem (evaluations)</th>\n",
       "      <th>Curricular units 2nd sem (approved)</th>\n",
       "      <th>Curricular units 2nd sem (grade)</th>\n",
       "      <th>Curricular units 2nd sem (without evaluations)</th>\n",
       "      <th>Unemployment rate</th>\n",
       "      <th>Inflation rate</th>\n",
       "      <th>GDP</th>\n",
       "    </tr>\n",
       "  </thead>\n",
       "  <tbody>\n",
       "    <tr>\n",
       "      <th>count</th>\n",
       "      <td>4411.000000</td>\n",
       "      <td>4411.000000</td>\n",
       "      <td>4411.000000</td>\n",
       "      <td>4411.000000</td>\n",
       "      <td>4411.000000</td>\n",
       "      <td>4411.000000</td>\n",
       "      <td>4411.000000</td>\n",
       "      <td>4411.000000</td>\n",
       "      <td>4411.000000</td>\n",
       "      <td>4411.000000</td>\n",
       "      <td>...</td>\n",
       "      <td>4411.000000</td>\n",
       "      <td>4411.000000</td>\n",
       "      <td>4411.000000</td>\n",
       "      <td>4411.000000</td>\n",
       "      <td>4411.000000</td>\n",
       "      <td>4411.000000</td>\n",
       "      <td>4411.000000</td>\n",
       "      <td>4411.000000</td>\n",
       "      <td>4411.000000</td>\n",
       "      <td>4411.000000</td>\n",
       "    </tr>\n",
       "    <tr>\n",
       "      <th>mean</th>\n",
       "      <td>1.178644</td>\n",
       "      <td>18.671276</td>\n",
       "      <td>1.728406</td>\n",
       "      <td>8861.600091</td>\n",
       "      <td>0.890954</td>\n",
       "      <td>4.585355</td>\n",
       "      <td>132.628202</td>\n",
       "      <td>1.866697</td>\n",
       "      <td>19.566992</td>\n",
       "      <td>22.268647</td>\n",
       "      <td>...</td>\n",
       "      <td>0.137837</td>\n",
       "      <td>0.540920</td>\n",
       "      <td>6.233280</td>\n",
       "      <td>8.062798</td>\n",
       "      <td>4.437089</td>\n",
       "      <td>9.912038</td>\n",
       "      <td>0.150079</td>\n",
       "      <td>11.569848</td>\n",
       "      <td>1.230855</td>\n",
       "      <td>0.005933</td>\n",
       "    </tr>\n",
       "    <tr>\n",
       "      <th>std</th>\n",
       "      <td>0.606321</td>\n",
       "      <td>17.470528</td>\n",
       "      <td>1.313857</td>\n",
       "      <td>2053.895552</td>\n",
       "      <td>0.311732</td>\n",
       "      <td>10.228951</td>\n",
       "      <td>13.191683</td>\n",
       "      <td>6.899433</td>\n",
       "      <td>15.601303</td>\n",
       "      <td>15.339888</td>\n",
       "      <td>...</td>\n",
       "      <td>0.691739</td>\n",
       "      <td>1.919193</td>\n",
       "      <td>2.192905</td>\n",
       "      <td>3.944444</td>\n",
       "      <td>3.013473</td>\n",
       "      <td>5.054440</td>\n",
       "      <td>0.754525</td>\n",
       "      <td>2.663520</td>\n",
       "      <td>1.381920</td>\n",
       "      <td>2.267564</td>\n",
       "    </tr>\n",
       "    <tr>\n",
       "      <th>min</th>\n",
       "      <td>1.000000</td>\n",
       "      <td>1.000000</td>\n",
       "      <td>0.000000</td>\n",
       "      <td>33.000000</td>\n",
       "      <td>0.000000</td>\n",
       "      <td>1.000000</td>\n",
       "      <td>95.000000</td>\n",
       "      <td>1.000000</td>\n",
       "      <td>1.000000</td>\n",
       "      <td>1.000000</td>\n",
       "      <td>...</td>\n",
       "      <td>0.000000</td>\n",
       "      <td>0.000000</td>\n",
       "      <td>0.000000</td>\n",
       "      <td>0.000000</td>\n",
       "      <td>0.000000</td>\n",
       "      <td>0.000000</td>\n",
       "      <td>0.000000</td>\n",
       "      <td>7.600000</td>\n",
       "      <td>-0.800000</td>\n",
       "      <td>-4.060000</td>\n",
       "    </tr>\n",
       "    <tr>\n",
       "      <th>25%</th>\n",
       "      <td>1.000000</td>\n",
       "      <td>1.000000</td>\n",
       "      <td>1.000000</td>\n",
       "      <td>9085.000000</td>\n",
       "      <td>1.000000</td>\n",
       "      <td>1.000000</td>\n",
       "      <td>125.000000</td>\n",
       "      <td>1.000000</td>\n",
       "      <td>2.000000</td>\n",
       "      <td>3.000000</td>\n",
       "      <td>...</td>\n",
       "      <td>0.000000</td>\n",
       "      <td>0.000000</td>\n",
       "      <td>5.000000</td>\n",
       "      <td>6.000000</td>\n",
       "      <td>2.000000</td>\n",
       "      <td>10.000000</td>\n",
       "      <td>0.000000</td>\n",
       "      <td>9.400000</td>\n",
       "      <td>0.300000</td>\n",
       "      <td>-1.700000</td>\n",
       "    </tr>\n",
       "    <tr>\n",
       "      <th>50%</th>\n",
       "      <td>1.000000</td>\n",
       "      <td>17.000000</td>\n",
       "      <td>1.000000</td>\n",
       "      <td>9238.000000</td>\n",
       "      <td>1.000000</td>\n",
       "      <td>1.000000</td>\n",
       "      <td>133.100000</td>\n",
       "      <td>1.000000</td>\n",
       "      <td>19.000000</td>\n",
       "      <td>19.000000</td>\n",
       "      <td>...</td>\n",
       "      <td>0.000000</td>\n",
       "      <td>0.000000</td>\n",
       "      <td>6.000000</td>\n",
       "      <td>8.000000</td>\n",
       "      <td>5.000000</td>\n",
       "      <td>12.000000</td>\n",
       "      <td>0.000000</td>\n",
       "      <td>11.100000</td>\n",
       "      <td>1.400000</td>\n",
       "      <td>0.320000</td>\n",
       "    </tr>\n",
       "    <tr>\n",
       "      <th>75%</th>\n",
       "      <td>1.000000</td>\n",
       "      <td>39.000000</td>\n",
       "      <td>2.000000</td>\n",
       "      <td>9556.000000</td>\n",
       "      <td>1.000000</td>\n",
       "      <td>1.000000</td>\n",
       "      <td>140.000000</td>\n",
       "      <td>1.000000</td>\n",
       "      <td>37.000000</td>\n",
       "      <td>37.000000</td>\n",
       "      <td>...</td>\n",
       "      <td>0.000000</td>\n",
       "      <td>0.000000</td>\n",
       "      <td>7.000000</td>\n",
       "      <td>10.000000</td>\n",
       "      <td>6.000000</td>\n",
       "      <td>13.000000</td>\n",
       "      <td>0.000000</td>\n",
       "      <td>13.900000</td>\n",
       "      <td>2.600000</td>\n",
       "      <td>1.790000</td>\n",
       "    </tr>\n",
       "    <tr>\n",
       "      <th>max</th>\n",
       "      <td>6.000000</td>\n",
       "      <td>53.000000</td>\n",
       "      <td>9.000000</td>\n",
       "      <td>9991.000000</td>\n",
       "      <td>1.000000</td>\n",
       "      <td>43.000000</td>\n",
       "      <td>190.000000</td>\n",
       "      <td>109.000000</td>\n",
       "      <td>44.000000</td>\n",
       "      <td>44.000000</td>\n",
       "      <td>...</td>\n",
       "      <td>12.000000</td>\n",
       "      <td>19.000000</td>\n",
       "      <td>23.000000</td>\n",
       "      <td>33.000000</td>\n",
       "      <td>20.000000</td>\n",
       "      <td>18.000000</td>\n",
       "      <td>12.000000</td>\n",
       "      <td>16.200000</td>\n",
       "      <td>3.700000</td>\n",
       "      <td>3.510000</td>\n",
       "    </tr>\n",
       "  </tbody>\n",
       "</table>\n",
       "<p>8 rows × 36 columns</p>\n",
       "</div>"
      ],
      "text/plain": [
       "       Marital status  Application mode  Application order       Course  \\\n",
       "count     4411.000000       4411.000000        4411.000000  4411.000000   \n",
       "mean         1.178644         18.671276           1.728406  8861.600091   \n",
       "std          0.606321         17.470528           1.313857  2053.895552   \n",
       "min          1.000000          1.000000           0.000000    33.000000   \n",
       "25%          1.000000          1.000000           1.000000  9085.000000   \n",
       "50%          1.000000         17.000000           1.000000  9238.000000   \n",
       "75%          1.000000         39.000000           2.000000  9556.000000   \n",
       "max          6.000000         53.000000           9.000000  9991.000000   \n",
       "\n",
       "       Daytime/evening attendance  Previous qualification  \\\n",
       "count                 4411.000000             4411.000000   \n",
       "mean                     0.890954                4.585355   \n",
       "std                      0.311732               10.228951   \n",
       "min                      0.000000                1.000000   \n",
       "25%                      1.000000                1.000000   \n",
       "50%                      1.000000                1.000000   \n",
       "75%                      1.000000                1.000000   \n",
       "max                      1.000000               43.000000   \n",
       "\n",
       "       Previous qualification (grade)  Nacionality  Mother's qualification  \\\n",
       "count                     4411.000000  4411.000000             4411.000000   \n",
       "mean                       132.628202     1.866697               19.566992   \n",
       "std                         13.191683     6.899433               15.601303   \n",
       "min                         95.000000     1.000000                1.000000   \n",
       "25%                        125.000000     1.000000                2.000000   \n",
       "50%                        133.100000     1.000000               19.000000   \n",
       "75%                        140.000000     1.000000               37.000000   \n",
       "max                        190.000000   109.000000               44.000000   \n",
       "\n",
       "       Father's qualification  ...  \\\n",
       "count             4411.000000  ...   \n",
       "mean                22.268647  ...   \n",
       "std                 15.339888  ...   \n",
       "min                  1.000000  ...   \n",
       "25%                  3.000000  ...   \n",
       "50%                 19.000000  ...   \n",
       "75%                 37.000000  ...   \n",
       "max                 44.000000  ...   \n",
       "\n",
       "       Curricular units 1st sem (without evaluations)  \\\n",
       "count                                     4411.000000   \n",
       "mean                                         0.137837   \n",
       "std                                          0.691739   \n",
       "min                                          0.000000   \n",
       "25%                                          0.000000   \n",
       "50%                                          0.000000   \n",
       "75%                                          0.000000   \n",
       "max                                         12.000000   \n",
       "\n",
       "       Curricular units 2nd sem (credited)  \\\n",
       "count                          4411.000000   \n",
       "mean                              0.540920   \n",
       "std                               1.919193   \n",
       "min                               0.000000   \n",
       "25%                               0.000000   \n",
       "50%                               0.000000   \n",
       "75%                               0.000000   \n",
       "max                              19.000000   \n",
       "\n",
       "       Curricular units 2nd sem (enrolled)  \\\n",
       "count                          4411.000000   \n",
       "mean                              6.233280   \n",
       "std                               2.192905   \n",
       "min                               0.000000   \n",
       "25%                               5.000000   \n",
       "50%                               6.000000   \n",
       "75%                               7.000000   \n",
       "max                              23.000000   \n",
       "\n",
       "       Curricular units 2nd sem (evaluations)  \\\n",
       "count                             4411.000000   \n",
       "mean                                 8.062798   \n",
       "std                                  3.944444   \n",
       "min                                  0.000000   \n",
       "25%                                  6.000000   \n",
       "50%                                  8.000000   \n",
       "75%                                 10.000000   \n",
       "max                                 33.000000   \n",
       "\n",
       "       Curricular units 2nd sem (approved)  Curricular units 2nd sem (grade)  \\\n",
       "count                          4411.000000                       4411.000000   \n",
       "mean                              4.437089                          9.912038   \n",
       "std                               3.013473                          5.054440   \n",
       "min                               0.000000                          0.000000   \n",
       "25%                               2.000000                         10.000000   \n",
       "50%                               5.000000                         12.000000   \n",
       "75%                               6.000000                         13.000000   \n",
       "max                              20.000000                         18.000000   \n",
       "\n",
       "       Curricular units 2nd sem (without evaluations)  Unemployment rate  \\\n",
       "count                                     4411.000000        4411.000000   \n",
       "mean                                         0.150079          11.569848   \n",
       "std                                          0.754525           2.663520   \n",
       "min                                          0.000000           7.600000   \n",
       "25%                                          0.000000           9.400000   \n",
       "50%                                          0.000000          11.100000   \n",
       "75%                                          0.000000          13.900000   \n",
       "max                                         12.000000          16.200000   \n",
       "\n",
       "       Inflation rate          GDP  \n",
       "count     4411.000000  4411.000000  \n",
       "mean         1.230855     0.005933  \n",
       "std          1.381920     2.267564  \n",
       "min         -0.800000    -4.060000  \n",
       "25%          0.300000    -1.700000  \n",
       "50%          1.400000     0.320000  \n",
       "75%          2.600000     1.790000  \n",
       "max          3.700000     3.510000  \n",
       "\n",
       "[8 rows x 36 columns]"
      ]
     },
     "execution_count": 331,
     "metadata": {},
     "output_type": "execute_result"
    }
   ],
   "source": [
    "student_no_label.describe()"
   ]
  },
  {
   "cell_type": "markdown",
   "id": "b48e0759",
   "metadata": {},
   "source": [
    "using .describe we can see that there are discrepancies between the mean and the median. below we used some scaling techniques to deal with this issue in the data set. I used minmax as the data was skewed and not sparse.\n"
   ]
  },
  {
   "cell_type": "code",
   "execution_count": 332,
   "id": "fb51103a",
   "metadata": {
    "scrolled": false
   },
   "outputs": [
    {
     "data": {
      "text/plain": [
       "<seaborn.axisgrid.FacetGrid at 0x19488839ed0>"
      ]
     },
     "execution_count": 332,
     "metadata": {},
     "output_type": "execute_result"
    },
    {
     "data": {
      "image/png": "[encoded data removed]",
      "text/plain": [
       "<Figure size 500x500 with 1 Axes>"
      ]
     },
     "metadata": {},
     "output_type": "display_data"
    }
   ],
   "source": [
    "sns.displot(data=student_no_label, x = \"Curricular units 1st sem (without evaluations)\")"
   ]
  },
  {
   "cell_type": "code",
   "execution_count": 333,
   "id": "078c8000",
   "metadata": {
    "scrolled": true
   },
   "outputs": [],
   "source": [
    "student_no_label[\"Curricular units 1st sem (without evaluations)\"] = preproc.minmax_scale(student_no_label[\"Curricular units 1st sem (without evaluations)\"])"
   ]
  },
  {
   "cell_type": "code",
   "execution_count": 334,
   "id": "ed9bab15",
   "metadata": {
    "scrolled": true
   },
   "outputs": [
    {
     "data": {
      "text/plain": [
       "<seaborn.axisgrid.FacetGrid at 0x194888b8c50>"
      ]
     },
     "execution_count": 334,
     "metadata": {},
     "output_type": "execute_result"
    },
    {
     "data": {
      "image/png": "[encoded data removed]",
      "text/plain": [
       "<Figure size 500x500 with 1 Axes>"
      ]
     },
     "metadata": {},
     "output_type": "display_data"
    }
   ],
   "source": [
    "sns.displot(data=student_no_label, x = \"Curricular units 1st sem (without evaluations)\")"
   ]
  },
  {
   "cell_type": "code",
   "execution_count": 335,
   "id": "52d9e34b",
   "metadata": {
    "scrolled": true
   },
   "outputs": [
    {
     "data": {
      "text/plain": [
       "<seaborn.axisgrid.FacetGrid at 0x19489991e10>"
      ]
     },
     "execution_count": 335,
     "metadata": {},
     "output_type": "execute_result"
    },
    {
     "data": {
      "image/png": "[encoded data removed]",
      "text/plain": [
       "<Figure size 500x500 with 1 Axes>"
      ]
     },
     "metadata": {},
     "output_type": "display_data"
    }
   ],
   "source": [
    "sns.displot(data=student_no_label, x = \"Curricular units 2nd sem (grade)\")"
   ]
  },
  {
   "cell_type": "code",
   "execution_count": 336,
   "id": "3456b41e",
   "metadata": {},
   "outputs": [],
   "source": [
    "student_no_label[\"Curricular units 2nd sem (grade)\"] = preproc.minmax_scale(student_no_label[\"Curricular units 2nd sem (grade)\"])"
   ]
  },
  {
   "cell_type": "code",
   "execution_count": 337,
   "id": "ef42ccca",
   "metadata": {
    "scrolled": true
   },
   "outputs": [
    {
     "data": {
      "text/plain": [
       "<seaborn.axisgrid.FacetGrid at 0x19489a57050>"
      ]
     },
     "execution_count": 337,
     "metadata": {},
     "output_type": "execute_result"
    },
    {
     "data": {
      "image/png": "[encoded data removed]",
      "text/plain": [
       "<Figure size 500x500 with 1 Axes>"
      ]
     },
     "metadata": {},
     "output_type": "display_data"
    }
   ],
   "source": [
    "sns.displot(data=student_no_label, x = \"Curricular units 2nd sem (grade)\")"
   ]
  },
  {
   "cell_type": "code",
   "execution_count": 338,
   "id": "a4e55f7c",
   "metadata": {
    "scrolled": true
   },
   "outputs": [
    {
     "data": {
      "text/plain": [
       "<seaborn.axisgrid.FacetGrid at 0x19489afc1d0>"
      ]
     },
     "execution_count": 338,
     "metadata": {},
     "output_type": "execute_result"
    },
    {
     "data": {
      "image/png": "[encoded data removed]",
      "text/plain": [
       "<Figure size 500x500 with 1 Axes>"
      ]
     },
     "metadata": {},
     "output_type": "display_data"
    }
   ],
   "source": [
    "sns.displot(data=student_no_label, x = \"Previous qualification\")"
   ]
  },
  {
   "cell_type": "code",
   "execution_count": 339,
   "id": "649d2b6c",
   "metadata": {},
   "outputs": [],
   "source": [
    "student_no_label[\"Previous qualification\"] = preproc.minmax_scale(student_no_label[\"Previous qualification\"])"
   ]
  },
  {
   "cell_type": "code",
   "execution_count": 340,
   "id": "5583ddcf",
   "metadata": {
    "scrolled": false
   },
   "outputs": [
    {
     "data": {
      "text/plain": [
       "<seaborn.axisgrid.FacetGrid at 0x194899c9050>"
      ]
     },
     "execution_count": 340,
     "metadata": {},
     "output_type": "execute_result"
    },
    {
     "data": {
      "image/png": "[encoded data removed]",
      "text/plain": [
       "<Figure size 500x500 with 1 Axes>"
      ]
     },
     "metadata": {},
     "output_type": "display_data"
    }
   ],
   "source": [
    "sns.displot(data=student_no_label, x = \"Previous qualification\")"
   ]
  },
  {
   "cell_type": "code",
   "execution_count": 341,
   "id": "d2c488fc",
   "metadata": {},
   "outputs": [
    {
     "data": {
      "text/plain": [
       "<seaborn.axisgrid.FacetGrid at 0x1948abd1f90>"
      ]
     },
     "execution_count": 341,
     "metadata": {},
     "output_type": "execute_result"
    },
    {
     "data": {
      "image/png": "[encoded data removed]",
      "text/plain": [
       "<Figure size 500x500 with 1 Axes>"
      ]
     },
     "metadata": {},
     "output_type": "display_data"
    }
   ],
   "source": [
    "sns.displot(data=student_no_label, x = \"Application order\")"
   ]
  },
  {
   "cell_type": "code",
   "execution_count": 342,
   "id": "3127c0ce",
   "metadata": {},
   "outputs": [],
   "source": [
    "student_no_label[\"Application order\"] = preproc.minmax_scale(student_no_label[\"Application order\"])"
   ]
  },
  {
   "cell_type": "code",
   "execution_count": 343,
   "id": "bb4acc03",
   "metadata": {
    "scrolled": true
   },
   "outputs": [
    {
     "data": {
      "text/plain": [
       "<seaborn.axisgrid.FacetGrid at 0x1948aca18d0>"
      ]
     },
     "execution_count": 343,
     "metadata": {},
     "output_type": "execute_result"
    },
    {
     "data": {
      "image/png": "[encoded data removed]",
      "text/plain": [
       "<Figure size 500x500 with 1 Axes>"
      ]
     },
     "metadata": {},
     "output_type": "display_data"
    }
   ],
   "source": [
    "sns.displot(data=student_no_label, x = \"Application order\")"
   ]
  },
  {
   "cell_type": "code",
   "execution_count": 344,
   "id": "645c50e8",
   "metadata": {
    "scrolled": true
   },
   "outputs": [
    {
     "data": {
      "text/plain": [
       "<seaborn.axisgrid.FacetGrid at 0x1948ad83ad0>"
      ]
     },
     "execution_count": 344,
     "metadata": {},
     "output_type": "execute_result"
    },
    {
     "data": {
      "image/png": "[encoded data removed]",
      "text/plain": [
       "<Figure size 500x500 with 1 Axes>"
      ]
     },
     "metadata": {},
     "output_type": "display_data"
    }
   ],
   "source": [
    "sns.displot(data=student_no_label, x = \"Father's qualification\")"
   ]
  },
  {
   "cell_type": "code",
   "execution_count": 345,
   "id": "e65a22c8",
   "metadata": {},
   "outputs": [],
   "source": [
    "student_no_label[\"Father's qualification\"] = preproc.minmax_scale(student_no_label[\"Father's qualification\"])"
   ]
  },
  {
   "cell_type": "code",
   "execution_count": 346,
   "id": "8267941a",
   "metadata": {},
   "outputs": [
    {
     "data": {
      "text/plain": [
       "<seaborn.axisgrid.FacetGrid at 0x1948bebd0d0>"
      ]
     },
     "execution_count": 346,
     "metadata": {},
     "output_type": "execute_result"
    },
    {
     "data": {
      "image/png": "[encoded data removed]",
      "text/plain": [
       "<Figure size 500x500 with 1 Axes>"
      ]
     },
     "metadata": {},
     "output_type": "display_data"
    }
   ],
   "source": [
    "sns.displot(data=student_no_label, x = \"Father's qualification\")"
   ]
  },
  {
   "cell_type": "code",
   "execution_count": 347,
   "id": "8cc84af7",
   "metadata": {
    "scrolled": true
   },
   "outputs": [
    {
     "data": {
      "text/html": [
       "<div>\n",
       "<style scoped>\n",
       "    .dataframe tbody tr th:only-of-type {\n",
       "        vertical-align: middle;\n",
       "    }\n",
       "\n",
       "    .dataframe tbody tr th {\n",
       "        vertical-align: top;\n",
       "    }\n",
       "\n",
       "    .dataframe thead th {\n",
       "        text-align: right;\n",
       "    }\n",
       "</style>\n",
       "<table border=\"1\" class=\"dataframe\">\n",
       "  <thead>\n",
       "    <tr style=\"text-align: right;\">\n",
       "      <th></th>\n",
       "      <th>Marital status</th>\n",
       "      <th>Application mode</th>\n",
       "      <th>Application order</th>\n",
       "      <th>Course</th>\n",
       "      <th>Daytime/evening attendance</th>\n",
       "      <th>Previous qualification</th>\n",
       "      <th>Previous qualification (grade)</th>\n",
       "      <th>Nacionality</th>\n",
       "      <th>Mother's qualification</th>\n",
       "      <th>Father's qualification</th>\n",
       "      <th>...</th>\n",
       "      <th>Curricular units 1st sem (without evaluations)</th>\n",
       "      <th>Curricular units 2nd sem (credited)</th>\n",
       "      <th>Curricular units 2nd sem (enrolled)</th>\n",
       "      <th>Curricular units 2nd sem (evaluations)</th>\n",
       "      <th>Curricular units 2nd sem (approved)</th>\n",
       "      <th>Curricular units 2nd sem (grade)</th>\n",
       "      <th>Curricular units 2nd sem (without evaluations)</th>\n",
       "      <th>Unemployment rate</th>\n",
       "      <th>Inflation rate</th>\n",
       "      <th>GDP</th>\n",
       "    </tr>\n",
       "  </thead>\n",
       "  <tbody>\n",
       "    <tr>\n",
       "      <th>count</th>\n",
       "      <td>4411.000000</td>\n",
       "      <td>4411.000000</td>\n",
       "      <td>4411.000000</td>\n",
       "      <td>4411.000000</td>\n",
       "      <td>4411.000000</td>\n",
       "      <td>4411.000000</td>\n",
       "      <td>4411.000000</td>\n",
       "      <td>4411.000000</td>\n",
       "      <td>4411.000000</td>\n",
       "      <td>4411.000000</td>\n",
       "      <td>...</td>\n",
       "      <td>4411.000000</td>\n",
       "      <td>4411.000000</td>\n",
       "      <td>4411.000000</td>\n",
       "      <td>4411.000000</td>\n",
       "      <td>4411.000000</td>\n",
       "      <td>4411.000000</td>\n",
       "      <td>4411.000000</td>\n",
       "      <td>4411.000000</td>\n",
       "      <td>4411.000000</td>\n",
       "      <td>4411.000000</td>\n",
       "    </tr>\n",
       "    <tr>\n",
       "      <th>mean</th>\n",
       "      <td>1.178644</td>\n",
       "      <td>18.671276</td>\n",
       "      <td>0.192045</td>\n",
       "      <td>8861.600091</td>\n",
       "      <td>0.890954</td>\n",
       "      <td>0.085366</td>\n",
       "      <td>132.628202</td>\n",
       "      <td>1.866697</td>\n",
       "      <td>19.566992</td>\n",
       "      <td>0.494620</td>\n",
       "      <td>...</td>\n",
       "      <td>0.011486</td>\n",
       "      <td>0.540920</td>\n",
       "      <td>6.233280</td>\n",
       "      <td>8.062798</td>\n",
       "      <td>4.437089</td>\n",
       "      <td>0.550669</td>\n",
       "      <td>0.150079</td>\n",
       "      <td>11.569848</td>\n",
       "      <td>1.230855</td>\n",
       "      <td>0.005933</td>\n",
       "    </tr>\n",
       "    <tr>\n",
       "      <th>std</th>\n",
       "      <td>0.606321</td>\n",
       "      <td>17.470528</td>\n",
       "      <td>0.145984</td>\n",
       "      <td>2053.895552</td>\n",
       "      <td>0.311732</td>\n",
       "      <td>0.243546</td>\n",
       "      <td>13.191683</td>\n",
       "      <td>6.899433</td>\n",
       "      <td>15.601303</td>\n",
       "      <td>0.356742</td>\n",
       "      <td>...</td>\n",
       "      <td>0.057645</td>\n",
       "      <td>1.919193</td>\n",
       "      <td>2.192905</td>\n",
       "      <td>3.944444</td>\n",
       "      <td>3.013473</td>\n",
       "      <td>0.280802</td>\n",
       "      <td>0.754525</td>\n",
       "      <td>2.663520</td>\n",
       "      <td>1.381920</td>\n",
       "      <td>2.267564</td>\n",
       "    </tr>\n",
       "    <tr>\n",
       "      <th>min</th>\n",
       "      <td>1.000000</td>\n",
       "      <td>1.000000</td>\n",
       "      <td>0.000000</td>\n",
       "      <td>33.000000</td>\n",
       "      <td>0.000000</td>\n",
       "      <td>0.000000</td>\n",
       "      <td>95.000000</td>\n",
       "      <td>1.000000</td>\n",
       "      <td>1.000000</td>\n",
       "      <td>0.000000</td>\n",
       "      <td>...</td>\n",
       "      <td>0.000000</td>\n",
       "      <td>0.000000</td>\n",
       "      <td>0.000000</td>\n",
       "      <td>0.000000</td>\n",
       "      <td>0.000000</td>\n",
       "      <td>0.000000</td>\n",
       "      <td>0.000000</td>\n",
       "      <td>7.600000</td>\n",
       "      <td>-0.800000</td>\n",
       "      <td>-4.060000</td>\n",
       "    </tr>\n",
       "    <tr>\n",
       "      <th>25%</th>\n",
       "      <td>1.000000</td>\n",
       "      <td>1.000000</td>\n",
       "      <td>0.111111</td>\n",
       "      <td>9085.000000</td>\n",
       "      <td>1.000000</td>\n",
       "      <td>0.000000</td>\n",
       "      <td>125.000000</td>\n",
       "      <td>1.000000</td>\n",
       "      <td>2.000000</td>\n",
       "      <td>0.046512</td>\n",
       "      <td>...</td>\n",
       "      <td>0.000000</td>\n",
       "      <td>0.000000</td>\n",
       "      <td>5.000000</td>\n",
       "      <td>6.000000</td>\n",
       "      <td>2.000000</td>\n",
       "      <td>0.555556</td>\n",
       "      <td>0.000000</td>\n",
       "      <td>9.400000</td>\n",
       "      <td>0.300000</td>\n",
       "      <td>-1.700000</td>\n",
       "    </tr>\n",
       "    <tr>\n",
       "      <th>50%</th>\n",
       "      <td>1.000000</td>\n",
       "      <td>17.000000</td>\n",
       "      <td>0.111111</td>\n",
       "      <td>9238.000000</td>\n",
       "      <td>1.000000</td>\n",
       "      <td>0.000000</td>\n",
       "      <td>133.100000</td>\n",
       "      <td>1.000000</td>\n",
       "      <td>19.000000</td>\n",
       "      <td>0.418605</td>\n",
       "      <td>...</td>\n",
       "      <td>0.000000</td>\n",
       "      <td>0.000000</td>\n",
       "      <td>6.000000</td>\n",
       "      <td>8.000000</td>\n",
       "      <td>5.000000</td>\n",
       "      <td>0.666667</td>\n",
       "      <td>0.000000</td>\n",
       "      <td>11.100000</td>\n",
       "      <td>1.400000</td>\n",
       "      <td>0.320000</td>\n",
       "    </tr>\n",
       "    <tr>\n",
       "      <th>75%</th>\n",
       "      <td>1.000000</td>\n",
       "      <td>39.000000</td>\n",
       "      <td>0.222222</td>\n",
       "      <td>9556.000000</td>\n",
       "      <td>1.000000</td>\n",
       "      <td>0.000000</td>\n",
       "      <td>140.000000</td>\n",
       "      <td>1.000000</td>\n",
       "      <td>37.000000</td>\n",
       "      <td>0.837209</td>\n",
       "      <td>...</td>\n",
       "      <td>0.000000</td>\n",
       "      <td>0.000000</td>\n",
       "      <td>7.000000</td>\n",
       "      <td>10.000000</td>\n",
       "      <td>6.000000</td>\n",
       "      <td>0.722222</td>\n",
       "      <td>0.000000</td>\n",
       "      <td>13.900000</td>\n",
       "      <td>2.600000</td>\n",
       "      <td>1.790000</td>\n",
       "    </tr>\n",
       "    <tr>\n",
       "      <th>max</th>\n",
       "      <td>6.000000</td>\n",
       "      <td>53.000000</td>\n",
       "      <td>1.000000</td>\n",
       "      <td>9991.000000</td>\n",
       "      <td>1.000000</td>\n",
       "      <td>1.000000</td>\n",
       "      <td>190.000000</td>\n",
       "      <td>109.000000</td>\n",
       "      <td>44.000000</td>\n",
       "      <td>1.000000</td>\n",
       "      <td>...</td>\n",
       "      <td>1.000000</td>\n",
       "      <td>19.000000</td>\n",
       "      <td>23.000000</td>\n",
       "      <td>33.000000</td>\n",
       "      <td>20.000000</td>\n",
       "      <td>1.000000</td>\n",
       "      <td>12.000000</td>\n",
       "      <td>16.200000</td>\n",
       "      <td>3.700000</td>\n",
       "      <td>3.510000</td>\n",
       "    </tr>\n",
       "  </tbody>\n",
       "</table>\n",
       "<p>8 rows × 36 columns</p>\n",
       "</div>"
      ],
      "text/plain": [
       "       Marital status  Application mode  Application order       Course  \\\n",
       "count     4411.000000       4411.000000        4411.000000  4411.000000   \n",
       "mean         1.178644         18.671276           0.192045  8861.600091   \n",
       "std          0.606321         17.470528           0.145984  2053.895552   \n",
       "min          1.000000          1.000000           0.000000    33.000000   \n",
       "25%          1.000000          1.000000           0.111111  9085.000000   \n",
       "50%          1.000000         17.000000           0.111111  9238.000000   \n",
       "75%          1.000000         39.000000           0.222222  9556.000000   \n",
       "max          6.000000         53.000000           1.000000  9991.000000   \n",
       "\n",
       "       Daytime/evening attendance  Previous qualification  \\\n",
       "count                 4411.000000             4411.000000   \n",
       "mean                     0.890954                0.085366   \n",
       "std                      0.311732                0.243546   \n",
       "min                      0.000000                0.000000   \n",
       "25%                      1.000000                0.000000   \n",
       "50%                      1.000000                0.000000   \n",
       "75%                      1.000000                0.000000   \n",
       "max                      1.000000                1.000000   \n",
       "\n",
       "       Previous qualification (grade)  Nacionality  Mother's qualification  \\\n",
       "count                     4411.000000  4411.000000             4411.000000   \n",
       "mean                       132.628202     1.866697               19.566992   \n",
       "std                         13.191683     6.899433               15.601303   \n",
       "min                         95.000000     1.000000                1.000000   \n",
       "25%                        125.000000     1.000000                2.000000   \n",
       "50%                        133.100000     1.000000               19.000000   \n",
       "75%                        140.000000     1.000000               37.000000   \n",
       "max                        190.000000   109.000000               44.000000   \n",
       "\n",
       "       Father's qualification  ...  \\\n",
       "count             4411.000000  ...   \n",
       "mean                 0.494620  ...   \n",
       "std                  0.356742  ...   \n",
       "min                  0.000000  ...   \n",
       "25%                  0.046512  ...   \n",
       "50%                  0.418605  ...   \n",
       "75%                  0.837209  ...   \n",
       "max                  1.000000  ...   \n",
       "\n",
       "       Curricular units 1st sem (without evaluations)  \\\n",
       "count                                     4411.000000   \n",
       "mean                                         0.011486   \n",
       "std                                          0.057645   \n",
       "min                                          0.000000   \n",
       "25%                                          0.000000   \n",
       "50%                                          0.000000   \n",
       "75%                                          0.000000   \n",
       "max                                          1.000000   \n",
       "\n",
       "       Curricular units 2nd sem (credited)  \\\n",
       "count                          4411.000000   \n",
       "mean                              0.540920   \n",
       "std                               1.919193   \n",
       "min                               0.000000   \n",
       "25%                               0.000000   \n",
       "50%                               0.000000   \n",
       "75%                               0.000000   \n",
       "max                              19.000000   \n",
       "\n",
       "       Curricular units 2nd sem (enrolled)  \\\n",
       "count                          4411.000000   \n",
       "mean                              6.233280   \n",
       "std                               2.192905   \n",
       "min                               0.000000   \n",
       "25%                               5.000000   \n",
       "50%                               6.000000   \n",
       "75%                               7.000000   \n",
       "max                              23.000000   \n",
       "\n",
       "       Curricular units 2nd sem (evaluations)  \\\n",
       "count                             4411.000000   \n",
       "mean                                 8.062798   \n",
       "std                                  3.944444   \n",
       "min                                  0.000000   \n",
       "25%                                  6.000000   \n",
       "50%                                  8.000000   \n",
       "75%                                 10.000000   \n",
       "max                                 33.000000   \n",
       "\n",
       "       Curricular units 2nd sem (approved)  Curricular units 2nd sem (grade)  \\\n",
       "count                          4411.000000                       4411.000000   \n",
       "mean                              4.437089                          0.550669   \n",
       "std                               3.013473                          0.280802   \n",
       "min                               0.000000                          0.000000   \n",
       "25%                               2.000000                          0.555556   \n",
       "50%                               5.000000                          0.666667   \n",
       "75%                               6.000000                          0.722222   \n",
       "max                              20.000000                          1.000000   \n",
       "\n",
       "       Curricular units 2nd sem (without evaluations)  Unemployment rate  \\\n",
       "count                                     4411.000000        4411.000000   \n",
       "mean                                         0.150079          11.569848   \n",
       "std                                          0.754525           2.663520   \n",
       "min                                          0.000000           7.600000   \n",
       "25%                                          0.000000           9.400000   \n",
       "50%                                          0.000000          11.100000   \n",
       "75%                                          0.000000          13.900000   \n",
       "max                                         12.000000          16.200000   \n",
       "\n",
       "       Inflation rate          GDP  \n",
       "count     4411.000000  4411.000000  \n",
       "mean         1.230855     0.005933  \n",
       "std          1.381920     2.267564  \n",
       "min         -0.800000    -4.060000  \n",
       "25%          0.300000    -1.700000  \n",
       "50%          1.400000     0.320000  \n",
       "75%          2.600000     1.790000  \n",
       "max          3.700000     3.510000  \n",
       "\n",
       "[8 rows x 36 columns]"
      ]
     },
     "execution_count": 347,
     "metadata": {},
     "output_type": "execute_result"
    }
   ],
   "source": [
    "student_no_label.describe()"
   ]
  },
  {
   "cell_type": "markdown",
   "id": "130c3955",
   "metadata": {},
   "source": [
    "we can see the inprovments we have made to the data set."
   ]
  },
  {
   "cell_type": "code",
   "execution_count": 348,
   "id": "41e53c86",
   "metadata": {},
   "outputs": [],
   "source": [
    "student_no_label.drop(columns=[\"Target\"], inplace=True)\n"
   ]
  },
  {
   "cell_type": "markdown",
   "id": "7d57f27c",
   "metadata": {},
   "source": [
    "I then removed the dependent variable named \"Target\", this is essential before we can begin \"PCA\" Principal Component Analysis"
   ]
  },
  {
   "cell_type": "code",
   "execution_count": 349,
   "id": "2d50b3fb",
   "metadata": {
    "scrolled": true
   },
   "outputs": [
    {
     "data": {
      "text/html": [
       "<div>\n",
       "<style scoped>\n",
       "    .dataframe tbody tr th:only-of-type {\n",
       "        vertical-align: middle;\n",
       "    }\n",
       "\n",
       "    .dataframe tbody tr th {\n",
       "        vertical-align: top;\n",
       "    }\n",
       "\n",
       "    .dataframe thead th {\n",
       "        text-align: right;\n",
       "    }\n",
       "</style>\n",
       "<table border=\"1\" class=\"dataframe\">\n",
       "  <thead>\n",
       "    <tr style=\"text-align: right;\">\n",
       "      <th></th>\n",
       "      <th>Marital status</th>\n",
       "      <th>Application mode</th>\n",
       "      <th>Application order</th>\n",
       "      <th>Course</th>\n",
       "      <th>Daytime/evening attendance</th>\n",
       "      <th>Previous qualification</th>\n",
       "      <th>Previous qualification (grade)</th>\n",
       "      <th>Nacionality</th>\n",
       "      <th>Mother's qualification</th>\n",
       "      <th>Father's qualification</th>\n",
       "      <th>...</th>\n",
       "      <th>Curricular units 1st sem (without evaluations)</th>\n",
       "      <th>Curricular units 2nd sem (credited)</th>\n",
       "      <th>Curricular units 2nd sem (enrolled)</th>\n",
       "      <th>Curricular units 2nd sem (evaluations)</th>\n",
       "      <th>Curricular units 2nd sem (approved)</th>\n",
       "      <th>Curricular units 2nd sem (grade)</th>\n",
       "      <th>Curricular units 2nd sem (without evaluations)</th>\n",
       "      <th>Unemployment rate</th>\n",
       "      <th>Inflation rate</th>\n",
       "      <th>GDP</th>\n",
       "    </tr>\n",
       "  </thead>\n",
       "  <tbody>\n",
       "    <tr>\n",
       "      <th>0</th>\n",
       "      <td>1</td>\n",
       "      <td>17</td>\n",
       "      <td>0.555556</td>\n",
       "      <td>171</td>\n",
       "      <td>1</td>\n",
       "      <td>0.0</td>\n",
       "      <td>122.0</td>\n",
       "      <td>1</td>\n",
       "      <td>19</td>\n",
       "      <td>0.255814</td>\n",
       "      <td>...</td>\n",
       "      <td>0.0</td>\n",
       "      <td>0</td>\n",
       "      <td>0</td>\n",
       "      <td>0</td>\n",
       "      <td>0</td>\n",
       "      <td>0.000000</td>\n",
       "      <td>0</td>\n",
       "      <td>10.8</td>\n",
       "      <td>1.4</td>\n",
       "      <td>1.74</td>\n",
       "    </tr>\n",
       "    <tr>\n",
       "      <th>1</th>\n",
       "      <td>1</td>\n",
       "      <td>15</td>\n",
       "      <td>0.111111</td>\n",
       "      <td>9254</td>\n",
       "      <td>1</td>\n",
       "      <td>0.0</td>\n",
       "      <td>160.0</td>\n",
       "      <td>1</td>\n",
       "      <td>1</td>\n",
       "      <td>0.046512</td>\n",
       "      <td>...</td>\n",
       "      <td>0.0</td>\n",
       "      <td>0</td>\n",
       "      <td>6</td>\n",
       "      <td>6</td>\n",
       "      <td>6</td>\n",
       "      <td>0.722222</td>\n",
       "      <td>0</td>\n",
       "      <td>13.9</td>\n",
       "      <td>-0.3</td>\n",
       "      <td>0.79</td>\n",
       "    </tr>\n",
       "    <tr>\n",
       "      <th>2</th>\n",
       "      <td>1</td>\n",
       "      <td>1</td>\n",
       "      <td>0.555556</td>\n",
       "      <td>9070</td>\n",
       "      <td>1</td>\n",
       "      <td>0.0</td>\n",
       "      <td>122.0</td>\n",
       "      <td>1</td>\n",
       "      <td>37</td>\n",
       "      <td>0.837209</td>\n",
       "      <td>...</td>\n",
       "      <td>0.0</td>\n",
       "      <td>0</td>\n",
       "      <td>6</td>\n",
       "      <td>0</td>\n",
       "      <td>0</td>\n",
       "      <td>0.000000</td>\n",
       "      <td>0</td>\n",
       "      <td>10.8</td>\n",
       "      <td>1.4</td>\n",
       "      <td>1.74</td>\n",
       "    </tr>\n",
       "    <tr>\n",
       "      <th>3</th>\n",
       "      <td>1</td>\n",
       "      <td>17</td>\n",
       "      <td>0.222222</td>\n",
       "      <td>9773</td>\n",
       "      <td>1</td>\n",
       "      <td>0.0</td>\n",
       "      <td>122.0</td>\n",
       "      <td>1</td>\n",
       "      <td>38</td>\n",
       "      <td>0.837209</td>\n",
       "      <td>...</td>\n",
       "      <td>0.0</td>\n",
       "      <td>0</td>\n",
       "      <td>6</td>\n",
       "      <td>10</td>\n",
       "      <td>5</td>\n",
       "      <td>0.666667</td>\n",
       "      <td>0</td>\n",
       "      <td>9.4</td>\n",
       "      <td>-0.8</td>\n",
       "      <td>-3.12</td>\n",
       "    </tr>\n",
       "    <tr>\n",
       "      <th>4</th>\n",
       "      <td>2</td>\n",
       "      <td>39</td>\n",
       "      <td>0.111111</td>\n",
       "      <td>8014</td>\n",
       "      <td>0</td>\n",
       "      <td>0.0</td>\n",
       "      <td>100.0</td>\n",
       "      <td>1</td>\n",
       "      <td>37</td>\n",
       "      <td>0.860465</td>\n",
       "      <td>...</td>\n",
       "      <td>0.0</td>\n",
       "      <td>0</td>\n",
       "      <td>6</td>\n",
       "      <td>6</td>\n",
       "      <td>6</td>\n",
       "      <td>0.722222</td>\n",
       "      <td>0</td>\n",
       "      <td>13.9</td>\n",
       "      <td>-0.3</td>\n",
       "      <td>0.79</td>\n",
       "    </tr>\n",
       "  </tbody>\n",
       "</table>\n",
       "<p>5 rows × 36 columns</p>\n",
       "</div>"
      ],
      "text/plain": [
       "   Marital status  Application mode  Application order  Course  \\\n",
       "0               1                17           0.555556     171   \n",
       "1               1                15           0.111111    9254   \n",
       "2               1                 1           0.555556    9070   \n",
       "3               1                17           0.222222    9773   \n",
       "4               2                39           0.111111    8014   \n",
       "\n",
       "   Daytime/evening attendance  Previous qualification  \\\n",
       "0                           1                     0.0   \n",
       "1                           1                     0.0   \n",
       "2                           1                     0.0   \n",
       "3                           1                     0.0   \n",
       "4                           0                     0.0   \n",
       "\n",
       "   Previous qualification (grade)  Nacionality  Mother's qualification  \\\n",
       "0                           122.0            1                      19   \n",
       "1                           160.0            1                       1   \n",
       "2                           122.0            1                      37   \n",
       "3                           122.0            1                      38   \n",
       "4                           100.0            1                      37   \n",
       "\n",
       "   Father's qualification  ...  \\\n",
       "0                0.255814  ...   \n",
       "1                0.046512  ...   \n",
       "2                0.837209  ...   \n",
       "3                0.837209  ...   \n",
       "4                0.860465  ...   \n",
       "\n",
       "   Curricular units 1st sem (without evaluations)  \\\n",
       "0                                             0.0   \n",
       "1                                             0.0   \n",
       "2                                             0.0   \n",
       "3                                             0.0   \n",
       "4                                             0.0   \n",
       "\n",
       "   Curricular units 2nd sem (credited)  Curricular units 2nd sem (enrolled)  \\\n",
       "0                                    0                                    0   \n",
       "1                                    0                                    6   \n",
       "2                                    0                                    6   \n",
       "3                                    0                                    6   \n",
       "4                                    0                                    6   \n",
       "\n",
       "   Curricular units 2nd sem (evaluations)  \\\n",
       "0                                       0   \n",
       "1                                       6   \n",
       "2                                       0   \n",
       "3                                      10   \n",
       "4                                       6   \n",
       "\n",
       "   Curricular units 2nd sem (approved)  Curricular units 2nd sem (grade)  \\\n",
       "0                                    0                          0.000000   \n",
       "1                                    6                          0.722222   \n",
       "2                                    0                          0.000000   \n",
       "3                                    5                          0.666667   \n",
       "4                                    6                          0.722222   \n",
       "\n",
       "   Curricular units 2nd sem (without evaluations)  Unemployment rate  \\\n",
       "0                                               0               10.8   \n",
       "1                                               0               13.9   \n",
       "2                                               0               10.8   \n",
       "3                                               0                9.4   \n",
       "4                                               0               13.9   \n",
       "\n",
       "   Inflation rate   GDP  \n",
       "0             1.4  1.74  \n",
       "1            -0.3  0.79  \n",
       "2             1.4  1.74  \n",
       "3            -0.8 -3.12  \n",
       "4            -0.3  0.79  \n",
       "\n",
       "[5 rows x 36 columns]"
      ]
     },
     "execution_count": 349,
     "metadata": {},
     "output_type": "execute_result"
    }
   ],
   "source": [
    "student_no_label.head()\n"
   ]
  },
  {
   "cell_type": "markdown",
   "id": "f8b2a76f",
   "metadata": {},
   "source": [
    "We now see 36 features after removing \"Target\"."
   ]
  },
  {
   "cell_type": "code",
   "execution_count": 350,
   "id": "2cdce5ef",
   "metadata": {},
   "outputs": [],
   "source": [
    "from matplotlib import pyplot\n",
    "from sklearn.model_selection import train_test_split\n",
    "from sklearn.model_selection import cross_val_score\n",
    "from sklearn.model_selection import StratifiedKFold\n",
    "from sklearn.linear_model import LogisticRegression\n",
    "from sklearn.tree import DecisionTreeClassifier\n",
    "from sklearn.neighbors import KNeighborsClassifier\n",
    "from sklearn.discriminant_analysis import LinearDiscriminantAnalysis\n",
    "from sklearn.naive_bayes import GaussianNB\n",
    "from sklearn.metrics import classification_report\n",
    "from sklearn.metrics import confusion_matrix\n",
    "from sklearn.metrics import accuracy_score\n",
    "from sklearn.svm import SVC"
   ]
  },
  {
   "cell_type": "markdown",
   "id": "484a55e5",
   "metadata": {},
   "source": [
    "I installed all the above libaries."
   ]
  },
  {
   "cell_type": "code",
   "execution_count": 351,
   "id": "aa566899",
   "metadata": {
    "scrolled": true
   },
   "outputs": [],
   "source": [
    "pca = PCA().fit(student_no_label)"
   ]
  },
  {
   "cell_type": "markdown",
   "id": "2d04b1f5",
   "metadata": {},
   "source": [
    "We now load our data set named \"student_no_label\" into \"PCA\""
   ]
  },
  {
   "cell_type": "code",
   "execution_count": 352,
   "id": "078bf44a",
   "metadata": {
    "scrolled": false
   },
   "outputs": [
    {
     "data": {
      "text/plain": [
       "Text(0, 0.5, 'cumulative explained variance')"
      ]
     },
     "execution_count": 352,
     "metadata": {},
     "output_type": "execute_result"
    },
    {
     "data": {
      "image/png": "[encoded data removed]",
      "text/plain": [
       "<Figure size 640x480 with 1 Axes>"
      ]
     },
     "metadata": {},
     "output_type": "display_data"
    }
   ],
   "source": [
    "plt.plot(np.cumsum(pca.explained_variance_ratio_))\n",
    "plt.xlabel(\"number of components\")\n",
    "plt.ylabel(\"cumulative explained variance\")"
   ]
  },
  {
   "cell_type": "markdown",
   "id": "64539294",
   "metadata": {},
   "source": [
    "This graph illistrates the number of components required to maintain a minium of 99.5% of the signal held in the origianl data set. I have chosen 8 features."
   ]
  },
  {
   "cell_type": "code",
   "execution_count": 353,
   "id": "715fd657",
   "metadata": {
    "scrolled": false
   },
   "outputs": [
    {
     "data": {
      "text/plain": [
       "array([[-1.35541674e-05, -5.35205610e-04, -4.30679687e-06, ...,\n",
       "        -6.40070542e-06, -1.03665989e-05,  2.36491256e-05],\n",
       "       [ 6.98518027e-04,  3.01878318e-02, -1.74342252e-04, ...,\n",
       "        -7.49740668e-03,  1.06412112e-03,  8.25084068e-03],\n",
       "       [ 1.05361456e-02,  8.29695042e-01, -1.99854819e-03, ...,\n",
       "         4.99087052e-03,  4.70827404e-04, -6.80667053e-03],\n",
       "       ...,\n",
       "       [ 2.99615298e-03,  6.93843457e-05, -5.40376158e-02, ...,\n",
       "        -2.52358611e-03, -8.08093999e-04, -1.52216690e-03],\n",
       "       [ 6.74847415e-03, -7.35529465e-05,  1.94451809e-02, ...,\n",
       "         3.31997050e-04,  3.34324712e-04, -9.69196426e-04],\n",
       "       [-1.83475133e-03,  5.71534093e-05,  8.53149494e-03, ...,\n",
       "         2.02778584e-03,  2.00325845e-03,  2.66032898e-03]])"
      ]
     },
     "execution_count": 353,
     "metadata": {},
     "output_type": "execute_result"
    }
   ],
   "source": [
    "pca.components_"
   ]
  },
  {
   "cell_type": "markdown",
   "id": "f6434294",
   "metadata": {},
   "source": [
    "This is our new feature list maintaining 95.5% of the original signal."
   ]
  },
  {
   "cell_type": "code",
   "execution_count": 354,
   "id": "bf77638b",
   "metadata": {
    "scrolled": true
   },
   "outputs": [
    {
     "data": {
      "text/plain": [
       "array([4.21850256e+06, 1.28183605e+03, 3.42994257e+02, 2.98230573e+02,\n",
       "       2.28077255e+02, 8.01134796e+01, 6.01378135e+01, 5.14386948e+01,\n",
       "       4.65160128e+01, 3.62248883e+01, 1.31980430e+01, 1.00622163e+01,\n",
       "       8.07200781e+00, 4.06142831e+00, 3.20536993e+00, 1.99731296e+00,\n",
       "       1.80412726e+00, 1.17823652e+00, 7.37925698e-01, 5.21489096e-01,\n",
       "       2.73350436e-01, 2.39531874e-01, 2.18115949e-01, 1.86415930e-01,\n",
       "       1.59248556e-01, 1.26892902e-01, 1.13413120e-01, 8.64007919e-02,\n",
       "       7.03991669e-02, 5.74686929e-02, 4.39510496e-02, 1.71203986e-02,\n",
       "       1.41163227e-02, 1.13113035e-02, 8.95277824e-03, 1.93462740e-03])"
      ]
     },
     "execution_count": 354,
     "metadata": {},
     "output_type": "execute_result"
    }
   ],
   "source": [
    "pca.explained_variance_"
   ]
  },
  {
   "cell_type": "markdown",
   "id": "bf4cdfa7",
   "metadata": {},
   "source": [
    "Here we can see the signal value of each observations, 4.21850617e+06 = 4 % for example."
   ]
  },
  {
   "cell_type": "code",
   "execution_count": 355,
   "id": "fba64e66",
   "metadata": {},
   "outputs": [],
   "source": [
    "pca =PCA(8)\n",
    "projected = pca.fit_transform(student_no_label)"
   ]
  },
  {
   "cell_type": "markdown",
   "id": "00e1f356",
   "metadata": {},
   "source": [
    "we now transform the total number of new features to 8"
   ]
  },
  {
   "cell_type": "code",
   "execution_count": 356,
   "id": "8fd2a385",
   "metadata": {
    "scrolled": true
   },
   "outputs": [
    {
     "data": {
      "text/plain": [
       "(4411, 8)"
      ]
     },
     "execution_count": 356,
     "metadata": {},
     "output_type": "execute_result"
    }
   ],
   "source": [
    "projected.shape"
   ]
  },
  {
   "cell_type": "markdown",
   "id": "76961851",
   "metadata": {},
   "source": [
    "new data set has  8 new features and 4411 observations"
   ]
  },
  {
   "cell_type": "markdown",
   "id": "d42d60f2",
   "metadata": {},
   "source": [
    "Note: our observations have been reduced from our original data set from (4424) to (4411)after we removed null values.\n",
    "and the features have now been reduced from 37 to 8 new features."
   ]
  },
  {
   "cell_type": "code",
   "execution_count": 357,
   "id": "fd08ae28",
   "metadata": {
    "scrolled": true
   },
   "outputs": [
    {
     "data": {
      "text/plain": [
       "array([[ 8.69060912e+03, -6.68588247e-01,  7.59976412e+00, ...,\n",
       "         6.22169104e+00, -2.53656918e+00, -6.96437548e+00],\n",
       "       [-3.92356986e+02, -1.29434970e+01, -2.05376586e+01, ...,\n",
       "        -1.02297523e+01, -6.65806249e-01, -1.80173004e-01],\n",
       "       [-2.08381643e+02, -2.69864108e+00, -6.50242039e+00, ...,\n",
       "         5.85495757e+00,  1.18116072e-01, -1.41993939e+01],\n",
       "       ...,\n",
       "       [-6.38369551e+02, -3.64516426e+00, -1.61111762e+01, ...,\n",
       "        -1.58919436e-01,  7.47052052e-02,  1.57612220e-01],\n",
       "       [-2.85343253e+02, -8.75894564e+00, -2.48412430e+01, ...,\n",
       "        -1.81971552e+01, -5.47093552e-01, -1.44149648e+00],\n",
       "       [-9.11363542e+02, -6.38955422e+00, -1.09292838e+01, ...,\n",
       "         6.51440744e-01,  1.21366149e+00, -2.44714430e+00]])"
      ]
     },
     "execution_count": 357,
     "metadata": {},
     "output_type": "execute_result"
    }
   ],
   "source": [
    "projected"
   ]
  },
  {
   "cell_type": "markdown",
   "id": "83a5f5ae",
   "metadata": {},
   "source": [
    "As these are new features we need to name them, below they are named A1 to A8."
   ]
  },
  {
   "cell_type": "code",
   "execution_count": 358,
   "id": "bf86c5a7",
   "metadata": {
    "scrolled": true
   },
   "outputs": [],
   "source": [
    "student_pca =pd.DataFrame(projected,columns= [\"A1\",\"A2\",\"A3\",\"A4\",\"A5\",\"A6\",\"A7\",\"A8\"])"
   ]
  },
  {
   "cell_type": "code",
   "execution_count": 359,
   "id": "ca5923ef",
   "metadata": {
    "scrolled": true
   },
   "outputs": [
    {
     "data": {
      "text/html": [
       "<div>\n",
       "<style scoped>\n",
       "    .dataframe tbody tr th:only-of-type {\n",
       "        vertical-align: middle;\n",
       "    }\n",
       "\n",
       "    .dataframe tbody tr th {\n",
       "        vertical-align: top;\n",
       "    }\n",
       "\n",
       "    .dataframe thead th {\n",
       "        text-align: right;\n",
       "    }\n",
       "</style>\n",
       "<table border=\"1\" class=\"dataframe\">\n",
       "  <thead>\n",
       "    <tr style=\"text-align: right;\">\n",
       "      <th></th>\n",
       "      <th>A1</th>\n",
       "      <th>A2</th>\n",
       "      <th>A3</th>\n",
       "      <th>A4</th>\n",
       "      <th>A5</th>\n",
       "      <th>A6</th>\n",
       "      <th>A7</th>\n",
       "      <th>A8</th>\n",
       "    </tr>\n",
       "  </thead>\n",
       "  <tbody>\n",
       "    <tr>\n",
       "      <th>0</th>\n",
       "      <td>8690.609124</td>\n",
       "      <td>-0.668588</td>\n",
       "      <td>7.599764</td>\n",
       "      <td>-13.932123</td>\n",
       "      <td>0.885009</td>\n",
       "      <td>6.221691</td>\n",
       "      <td>-2.536569</td>\n",
       "      <td>-6.964375</td>\n",
       "    </tr>\n",
       "    <tr>\n",
       "      <th>1</th>\n",
       "      <td>-392.356986</td>\n",
       "      <td>-12.943497</td>\n",
       "      <td>-20.537659</td>\n",
       "      <td>27.129918</td>\n",
       "      <td>10.475040</td>\n",
       "      <td>-10.229752</td>\n",
       "      <td>-0.665806</td>\n",
       "      <td>-0.180173</td>\n",
       "    </tr>\n",
       "    <tr>\n",
       "      <th>2</th>\n",
       "      <td>-208.381643</td>\n",
       "      <td>-2.698641</td>\n",
       "      <td>-6.502420</td>\n",
       "      <td>-15.211060</td>\n",
       "      <td>-21.164213</td>\n",
       "      <td>5.854958</td>\n",
       "      <td>0.118116</td>\n",
       "      <td>-14.199394</td>\n",
       "    </tr>\n",
       "    <tr>\n",
       "      <th>3</th>\n",
       "      <td>-911.414852</td>\n",
       "      <td>-9.617700</td>\n",
       "      <td>8.187008</td>\n",
       "      <td>-12.511431</td>\n",
       "      <td>-15.629774</td>\n",
       "      <td>2.623932</td>\n",
       "      <td>0.968468</td>\n",
       "      <td>1.997032</td>\n",
       "    </tr>\n",
       "    <tr>\n",
       "      <th>4</th>\n",
       "      <td>847.573076</td>\n",
       "      <td>-0.840041</td>\n",
       "      <td>33.821342</td>\n",
       "      <td>-2.482298</td>\n",
       "      <td>-7.405728</td>\n",
       "      <td>34.317833</td>\n",
       "      <td>3.589074</td>\n",
       "      <td>-2.336979</td>\n",
       "    </tr>\n",
       "  </tbody>\n",
       "</table>\n",
       "</div>"
      ],
      "text/plain": [
       "            A1         A2         A3         A4         A5         A6  \\\n",
       "0  8690.609124  -0.668588   7.599764 -13.932123   0.885009   6.221691   \n",
       "1  -392.356986 -12.943497 -20.537659  27.129918  10.475040 -10.229752   \n",
       "2  -208.381643  -2.698641  -6.502420 -15.211060 -21.164213   5.854958   \n",
       "3  -911.414852  -9.617700   8.187008 -12.511431 -15.629774   2.623932   \n",
       "4   847.573076  -0.840041  33.821342  -2.482298  -7.405728  34.317833   \n",
       "\n",
       "         A7         A8  \n",
       "0 -2.536569  -6.964375  \n",
       "1 -0.665806  -0.180173  \n",
       "2  0.118116 -14.199394  \n",
       "3  0.968468   1.997032  \n",
       "4  3.589074  -2.336979  "
      ]
     },
     "execution_count": 359,
     "metadata": {},
     "output_type": "execute_result"
    }
   ],
   "source": [
    "student_pca.head()"
   ]
  },
  {
   "cell_type": "markdown",
   "id": "a36a4470",
   "metadata": {},
   "source": [
    "Here we see the new data set named \" student_pca.head\" with the new feature names"
   ]
  },
  {
   "cell_type": "code",
   "execution_count": 360,
   "id": "527cf651",
   "metadata": {},
   "outputs": [],
   "source": [
    "student_pca[\"Target\"]=df[\"Target\"]"
   ]
  },
  {
   "cell_type": "code",
   "execution_count": 361,
   "id": "e3348dde",
   "metadata": {
    "scrolled": true
   },
   "outputs": [
    {
     "data": {
      "text/html": [
       "<div>\n",
       "<style scoped>\n",
       "    .dataframe tbody tr th:only-of-type {\n",
       "        vertical-align: middle;\n",
       "    }\n",
       "\n",
       "    .dataframe tbody tr th {\n",
       "        vertical-align: top;\n",
       "    }\n",
       "\n",
       "    .dataframe thead th {\n",
       "        text-align: right;\n",
       "    }\n",
       "</style>\n",
       "<table border=\"1\" class=\"dataframe\">\n",
       "  <thead>\n",
       "    <tr style=\"text-align: right;\">\n",
       "      <th></th>\n",
       "      <th>A1</th>\n",
       "      <th>A2</th>\n",
       "      <th>A3</th>\n",
       "      <th>A4</th>\n",
       "      <th>A5</th>\n",
       "      <th>A6</th>\n",
       "      <th>A7</th>\n",
       "      <th>A8</th>\n",
       "      <th>Target</th>\n",
       "    </tr>\n",
       "  </thead>\n",
       "  <tbody>\n",
       "    <tr>\n",
       "      <th>0</th>\n",
       "      <td>8690.609124</td>\n",
       "      <td>-0.668588</td>\n",
       "      <td>7.599764</td>\n",
       "      <td>-13.932123</td>\n",
       "      <td>0.885009</td>\n",
       "      <td>6.221691</td>\n",
       "      <td>-2.536569</td>\n",
       "      <td>-6.964375</td>\n",
       "      <td>1</td>\n",
       "    </tr>\n",
       "    <tr>\n",
       "      <th>1</th>\n",
       "      <td>-392.356986</td>\n",
       "      <td>-12.943497</td>\n",
       "      <td>-20.537659</td>\n",
       "      <td>27.129918</td>\n",
       "      <td>10.475040</td>\n",
       "      <td>-10.229752</td>\n",
       "      <td>-0.665806</td>\n",
       "      <td>-0.180173</td>\n",
       "      <td>2</td>\n",
       "    </tr>\n",
       "    <tr>\n",
       "      <th>2</th>\n",
       "      <td>-208.381643</td>\n",
       "      <td>-2.698641</td>\n",
       "      <td>-6.502420</td>\n",
       "      <td>-15.211060</td>\n",
       "      <td>-21.164213</td>\n",
       "      <td>5.854958</td>\n",
       "      <td>0.118116</td>\n",
       "      <td>-14.199394</td>\n",
       "      <td>1</td>\n",
       "    </tr>\n",
       "    <tr>\n",
       "      <th>3</th>\n",
       "      <td>-911.414852</td>\n",
       "      <td>-9.617700</td>\n",
       "      <td>8.187008</td>\n",
       "      <td>-12.511431</td>\n",
       "      <td>-15.629774</td>\n",
       "      <td>2.623932</td>\n",
       "      <td>0.968468</td>\n",
       "      <td>1.997032</td>\n",
       "      <td>2</td>\n",
       "    </tr>\n",
       "    <tr>\n",
       "      <th>4</th>\n",
       "      <td>847.573076</td>\n",
       "      <td>-0.840041</td>\n",
       "      <td>33.821342</td>\n",
       "      <td>-2.482298</td>\n",
       "      <td>-7.405728</td>\n",
       "      <td>34.317833</td>\n",
       "      <td>3.589074</td>\n",
       "      <td>-2.336979</td>\n",
       "      <td>2</td>\n",
       "    </tr>\n",
       "  </tbody>\n",
       "</table>\n",
       "</div>"
      ],
      "text/plain": [
       "            A1         A2         A3         A4         A5         A6  \\\n",
       "0  8690.609124  -0.668588   7.599764 -13.932123   0.885009   6.221691   \n",
       "1  -392.356986 -12.943497 -20.537659  27.129918  10.475040 -10.229752   \n",
       "2  -208.381643  -2.698641  -6.502420 -15.211060 -21.164213   5.854958   \n",
       "3  -911.414852  -9.617700   8.187008 -12.511431 -15.629774   2.623932   \n",
       "4   847.573076  -0.840041  33.821342  -2.482298  -7.405728  34.317833   \n",
       "\n",
       "         A7         A8 Target  \n",
       "0 -2.536569  -6.964375      1  \n",
       "1 -0.665806  -0.180173      2  \n",
       "2  0.118116 -14.199394      1  \n",
       "3  0.968468   1.997032      2  \n",
       "4  3.589074  -2.336979      2  "
      ]
     },
     "execution_count": 361,
     "metadata": {},
     "output_type": "execute_result"
    }
   ],
   "source": [
    "student_pca.head()"
   ]
  },
  {
   "cell_type": "markdown",
   "id": "2d1f6cd3",
   "metadata": {},
   "source": [
    "Our new dependent and independent variables"
   ]
  },
  {
   "cell_type": "code",
   "execution_count": 362,
   "id": "700fbe2d",
   "metadata": {},
   "outputs": [
    {
     "data": {
      "text/html": [
       "<div>\n",
       "<style scoped>\n",
       "    .dataframe tbody tr th:only-of-type {\n",
       "        vertical-align: middle;\n",
       "    }\n",
       "\n",
       "    .dataframe tbody tr th {\n",
       "        vertical-align: top;\n",
       "    }\n",
       "\n",
       "    .dataframe thead th {\n",
       "        text-align: right;\n",
       "    }\n",
       "</style>\n",
       "<table border=\"1\" class=\"dataframe\">\n",
       "  <thead>\n",
       "    <tr style=\"text-align: right;\">\n",
       "      <th></th>\n",
       "      <th>A1</th>\n",
       "      <th>A2</th>\n",
       "      <th>A3</th>\n",
       "      <th>A4</th>\n",
       "      <th>A5</th>\n",
       "      <th>A6</th>\n",
       "      <th>A7</th>\n",
       "      <th>A8</th>\n",
       "    </tr>\n",
       "  </thead>\n",
       "  <tbody>\n",
       "    <tr>\n",
       "      <th>count</th>\n",
       "      <td>4.411000e+03</td>\n",
       "      <td>4.411000e+03</td>\n",
       "      <td>4.411000e+03</td>\n",
       "      <td>4.411000e+03</td>\n",
       "      <td>4.411000e+03</td>\n",
       "      <td>4.411000e+03</td>\n",
       "      <td>4.411000e+03</td>\n",
       "      <td>4.411000e+03</td>\n",
       "    </tr>\n",
       "    <tr>\n",
       "      <th>mean</th>\n",
       "      <td>-4.288708e-14</td>\n",
       "      <td>1.134033e-15</td>\n",
       "      <td>4.948509e-15</td>\n",
       "      <td>-8.118647e-15</td>\n",
       "      <td>5.154697e-17</td>\n",
       "      <td>-1.496795e-14</td>\n",
       "      <td>-8.440816e-16</td>\n",
       "      <td>1.630173e-15</td>\n",
       "    </tr>\n",
       "    <tr>\n",
       "      <th>std</th>\n",
       "      <td>2.053899e+03</td>\n",
       "      <td>3.580274e+01</td>\n",
       "      <td>1.852010e+01</td>\n",
       "      <td>1.726935e+01</td>\n",
       "      <td>1.510223e+01</td>\n",
       "      <td>8.950613e+00</td>\n",
       "      <td>7.754857e+00</td>\n",
       "      <td>7.172077e+00</td>\n",
       "    </tr>\n",
       "    <tr>\n",
       "      <th>min</th>\n",
       "      <td>-1.129562e+03</td>\n",
       "      <td>-1.778224e+01</td>\n",
       "      <td>-4.593058e+01</td>\n",
       "      <td>-5.186162e+01</td>\n",
       "      <td>-3.212100e+01</td>\n",
       "      <td>-5.077535e+01</td>\n",
       "      <td>-6.963362e+01</td>\n",
       "      <td>-2.268234e+01</td>\n",
       "    </tr>\n",
       "    <tr>\n",
       "      <th>25%</th>\n",
       "      <td>-6.944076e+02</td>\n",
       "      <td>-9.700183e+00</td>\n",
       "      <td>-1.458636e+01</td>\n",
       "      <td>-1.179643e+01</td>\n",
       "      <td>-1.130725e+01</td>\n",
       "      <td>-4.223641e+00</td>\n",
       "      <td>-1.566987e+00</td>\n",
       "      <td>-2.212956e+00</td>\n",
       "    </tr>\n",
       "    <tr>\n",
       "      <th>50%</th>\n",
       "      <td>-3.764204e+02</td>\n",
       "      <td>-6.701051e+00</td>\n",
       "      <td>-3.737297e+00</td>\n",
       "      <td>-1.671584e+00</td>\n",
       "      <td>-1.494286e+00</td>\n",
       "      <td>4.107715e-01</td>\n",
       "      <td>-1.313239e-01</td>\n",
       "      <td>4.892460e-01</td>\n",
       "    </tr>\n",
       "    <tr>\n",
       "      <th>75%</th>\n",
       "      <td>-2.234070e+02</td>\n",
       "      <td>-3.583722e+00</td>\n",
       "      <td>1.540146e+01</td>\n",
       "      <td>9.642484e+00</td>\n",
       "      <td>1.186573e+01</td>\n",
       "      <td>4.200479e+00</td>\n",
       "      <td>1.189776e+00</td>\n",
       "      <td>2.687621e+00</td>\n",
       "    </tr>\n",
       "    <tr>\n",
       "      <th>max</th>\n",
       "      <td>8.828604e+03</td>\n",
       "      <td>2.588798e+02</td>\n",
       "      <td>4.775584e+01</td>\n",
       "      <td>8.314720e+01</td>\n",
       "      <td>3.449746e+01</td>\n",
       "      <td>5.233526e+01</td>\n",
       "      <td>1.309482e+02</td>\n",
       "      <td>4.505401e+01</td>\n",
       "    </tr>\n",
       "  </tbody>\n",
       "</table>\n",
       "</div>"
      ],
      "text/plain": [
       "                 A1            A2            A3            A4            A5  \\\n",
       "count  4.411000e+03  4.411000e+03  4.411000e+03  4.411000e+03  4.411000e+03   \n",
       "mean  -4.288708e-14  1.134033e-15  4.948509e-15 -8.118647e-15  5.154697e-17   \n",
       "std    2.053899e+03  3.580274e+01  1.852010e+01  1.726935e+01  1.510223e+01   \n",
       "min   -1.129562e+03 -1.778224e+01 -4.593058e+01 -5.186162e+01 -3.212100e+01   \n",
       "25%   -6.944076e+02 -9.700183e+00 -1.458636e+01 -1.179643e+01 -1.130725e+01   \n",
       "50%   -3.764204e+02 -6.701051e+00 -3.737297e+00 -1.671584e+00 -1.494286e+00   \n",
       "75%   -2.234070e+02 -3.583722e+00  1.540146e+01  9.642484e+00  1.186573e+01   \n",
       "max    8.828604e+03  2.588798e+02  4.775584e+01  8.314720e+01  3.449746e+01   \n",
       "\n",
       "                 A6            A7            A8  \n",
       "count  4.411000e+03  4.411000e+03  4.411000e+03  \n",
       "mean  -1.496795e-14 -8.440816e-16  1.630173e-15  \n",
       "std    8.950613e+00  7.754857e+00  7.172077e+00  \n",
       "min   -5.077535e+01 -6.963362e+01 -2.268234e+01  \n",
       "25%   -4.223641e+00 -1.566987e+00 -2.212956e+00  \n",
       "50%    4.107715e-01 -1.313239e-01  4.892460e-01  \n",
       "75%    4.200479e+00  1.189776e+00  2.687621e+00  \n",
       "max    5.233526e+01  1.309482e+02  4.505401e+01  "
      ]
     },
     "execution_count": 362,
     "metadata": {},
     "output_type": "execute_result"
    }
   ],
   "source": [
    "student_pca.describe()"
   ]
  },
  {
   "cell_type": "code",
   "execution_count": 367,
   "id": "4f238d38",
   "metadata": {
    "scrolled": true
   },
   "outputs": [
    {
     "data": {
      "text/plain": [
       "(4411, 9)"
      ]
     },
     "execution_count": 367,
     "metadata": {},
     "output_type": "execute_result"
    }
   ],
   "source": [
    "student_pca.shape"
   ]
  },
  {
   "cell_type": "code",
   "execution_count": 368,
   "id": "b70f3cdf",
   "metadata": {
    "scrolled": false
   },
   "outputs": [
    {
     "data": {
      "text/plain": [
       "A1        0\n",
       "A2        0\n",
       "A3        0\n",
       "A4        0\n",
       "A5        0\n",
       "A6        0\n",
       "A7        0\n",
       "A8        0\n",
       "Target    0\n",
       "dtype: int64"
      ]
     },
     "execution_count": 368,
     "metadata": {},
     "output_type": "execute_result"
    }
   ],
   "source": [
    "student_pca.isnull().sum()"
   ]
  },
  {
   "cell_type": "markdown",
   "id": "905a829b",
   "metadata": {},
   "source": [
    "No null values in our new data list of Features "
   ]
  },
  {
   "cell_type": "code",
   "execution_count": 369,
   "id": "75321c2f",
   "metadata": {
    "scrolled": true
   },
   "outputs": [],
   "source": [
    "student_array = student_pca.values"
   ]
  },
  {
   "cell_type": "code",
   "execution_count": 370,
   "id": "3d69aaf5",
   "metadata": {
    "scrolled": true
   },
   "outputs": [
    {
     "data": {
      "text/plain": [
       "array([[8690.609124482598, -0.6685882473155453, 7.599764122500216, ...,\n",
       "        -2.536569175609677, -6.9643754783702105, '1'],\n",
       "       [-392.3569861092891, -12.94349700082003, -20.53765859490911, ...,\n",
       "        -0.6658062493318384, -0.1801730040795133, '2'],\n",
       "       [-208.38164303895172, -2.6986410762747957, -6.5024203900478375,\n",
       "        ..., 0.1181160718650628, -14.199393886627893, '1'],\n",
       "       ...,\n",
       "       [-638.3695514475089, -3.645164260056145, -16.111176242311203, ...,\n",
       "        0.07470520524576081, 0.15761222022386467, '1'],\n",
       "       [-285.3432525278244, -8.758945642793789, -24.84124295200912, ...,\n",
       "        -0.547093551745593, -1.4414964750493557, '2'],\n",
       "       [-911.3635415198639, -6.38955421827521, -10.929283751163078, ...,\n",
       "        1.213661485286527, -2.447144298420052, '2']], dtype=object)"
      ]
     },
     "execution_count": 370,
     "metadata": {},
     "output_type": "execute_result"
    }
   ],
   "source": [
    "student_array"
   ]
  },
  {
   "cell_type": "code",
   "execution_count": 371,
   "id": "c6d59506",
   "metadata": {},
   "outputs": [],
   "source": [
    "from sklearn.model_selection import train_test_split\n",
    "X = student_array[:,0:8]\n",
    "y = student_array[:,8]\n",
    "X_train, X_validation, Y_train, Y_validation = train_test_split(X, y, test_size=30, random_state=1)"
   ]
  },
  {
   "cell_type": "code",
   "execution_count": 372,
   "id": "18bc5b39",
   "metadata": {},
   "outputs": [
    {
     "data": {
      "text/plain": [
       "((4381, 8), (30, 8), (4381,), (30,))"
      ]
     },
     "execution_count": 372,
     "metadata": {},
     "output_type": "execute_result"
    }
   ],
   "source": [
    "X_train.shape, X_validation.shape, Y_train.shape, Y_validation.shape"
   ]
  },
  {
   "cell_type": "markdown",
   "id": "e0121353",
   "metadata": {},
   "source": [
    "Here we break down our data set with a ratio of 30% for testing and 70 % for training "
   ]
  },
  {
   "cell_type": "code",
   "execution_count": 373,
   "id": "37aa6911",
   "metadata": {},
   "outputs": [],
   "source": [
    "models = []\n",
    "models.append(('LR', LogisticRegression(solver='liblinear', multi_class='ovr')))\n",
    "models.append(('LDA', LinearDiscriminantAnalysis()))\n",
    "models.append(('KNN', KNeighborsClassifier()))\n",
    "models.append(('CART', DecisionTreeClassifier()))\n",
    "models.append(('NB', GaussianNB()))\n",
    "models.append(('SVM', SVC(gamma='auto')))"
   ]
  },
  {
   "cell_type": "markdown",
   "id": "171df16a",
   "metadata": {},
   "source": [
    "I then uploaded the list of models above to determine which model would best suit this data set"
   ]
  },
  {
   "cell_type": "code",
   "execution_count": 374,
   "id": "160bcd97",
   "metadata": {
    "scrolled": false
   },
   "outputs": [
    {
     "name": "stdout",
     "output_type": "stream",
     "text": [
      "LR: 0.499886 (0.004224)\n",
      "LDA: 0.500343 (0.003956)\n",
      "KNN: 0.426614 (0.016002)\n",
      "CART: 0.392828 (0.028651)\n",
      "NB: 0.484590 (0.009432)\n",
      "SVM: 0.494408 (0.005830)\n"
     ]
    }
   ],
   "source": [
    "results = []\n",
    "names = []\n",
    "for name, model in models:\n",
    "\tkfold = StratifiedKFold(n_splits=10, random_state=1, shuffle=True)\n",
    "\tcv_results = cross_val_score(model, X_train, Y_train, cv=kfold, scoring='accuracy')\n",
    "\tresults.append(cv_results)\n",
    "\tnames.append(name)\n",
    "\tprint('%s: %f (%f)' % (name, cv_results.mean(), cv_results.std()))"
   ]
  },
  {
   "cell_type": "markdown",
   "id": "fa79cfcf",
   "metadata": {},
   "source": [
    "the results indicate LDA LinearDiscriminantAnalysis is our best approach "
   ]
  },
  {
   "cell_type": "code",
   "execution_count": 375,
   "id": "0cdeb398",
   "metadata": {},
   "outputs": [],
   "source": [
    "model = LinearDiscriminantAnalysis()\n",
    "model.fit(X_train, Y_train)\n",
    "predictions = model.predict(X_validation)"
   ]
  },
  {
   "cell_type": "code",
   "execution_count": 376,
   "id": "06c75dc3",
   "metadata": {
    "scrolled": false
   },
   "outputs": [
    {
     "name": "stdout",
     "output_type": "stream",
     "text": [
      "0.3333333333333333\n",
      "[[ 0 12  0]\n",
      " [ 0 10  0]\n",
      " [ 0  8  0]]\n"
     ]
    }
   ],
   "source": [
    "print(accuracy_score(Y_validation, predictions))\n",
    "print(confusion_matrix(Y_validation, predictions))"
   ]
  },
  {
   "cell_type": "markdown",
   "id": "e53cfa73",
   "metadata": {},
   "source": [
    "this gives our model an accaracy score of 33%"
   ]
  },
  {
   "cell_type": "code",
   "execution_count": null,
   "id": "d61346ec",
   "metadata": {},
   "outputs": [],
   "source": [
    "Curse of Dimensionality:"
   ]
  },
  {
   "cell_type": "markdown",
   "id": "247464ba",
   "metadata": {},
   "source": [
    "\n",
    "The curse of dimensionality, in simple terms, refers to the challenges encountered when dealing with high-dimensional data. As the number of dimensions increases, so does the amount of noise, making it difficult to discern the underlying signal within the data.\n",
    "\n",
    "For instance, consider the use of a one-hot encoder, which expands the feature list by creating binary categories for each unique value in a variable. This significantly increases the number of dimensions, leading to more noise. While one-hot encoding may be necessary in some cases, it can also diminish the signal present in the dataset, contributing to the curse of dimensionality.\n",
    "\n",
    "In essence, it's a dilemma where using certain techniques like one-hot encoding may be necessary, but doing so could obscure the valuable information within the data. The decision to use such techniques depends on the desired outcome, but increasing the number of variables in the dataset could ultimately hinder rather than aid the goal."
   ]
  },
  {
   "cell_type": "markdown",
   "id": "19597bbe",
   "metadata": {},
   "source": [
    "Conclusion :"
   ]
  },
  {
   "cell_type": "markdown",
   "id": "b0308a02",
   "metadata": {},
   "source": [
    "For this project, the dataset contained several challenging obstacles. It began with Exploratory Data Analysis (EDA), firstly identifying various null values present in multiple features. Next, I addressed issues such as renaming features and converting data types from float to integer. Visualization was used to determine which features were skewed, and data scaling was performed. Finally, I applied PCA to identify the minimum number of features required to maintain a minimum of 99.5% of the signal of the data. Although challenging, I enjoyed the process and have gained a much better understanding of the requirements needed for data analysis."
   ]
  }
 ],
 "metadata": {
  "kernelspec": {
   "display_name": "Python 3 (ipykernel)",
   "language": "python",
   "name": "python3"
  },
  "language_info": {
   "codemirror_mode": {
    "name": "ipython",
    "version": 3
   },
   "file_extension": ".py",
   "mimetype": "text/x-python",
   "name": "python",
   "nbconvert_exporter": "python",
   "pygments_lexer": "ipython3",
   "version": "3.11.5"
  }
 },
 "nbformat": 4,
 "nbformat_minor": 5
}
