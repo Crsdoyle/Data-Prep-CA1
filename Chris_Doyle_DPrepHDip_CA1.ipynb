{
 "cells": [
  {
   "cell_type": "code",
   "execution_count": 123,
   "id": "91d12f54",
   "metadata": {},
   "outputs": [],
   "source": [
    "import pandas as pd\n",
    "import numpy as np\n",
    "import matplotlib.pyplot as plt\n",
    "%matplotlib inline\n",
    "from sklearn.decomposition import PCA\n",
    "import seaborn as sns\n",
    "sns.set\n",
    "import warnings\n",
    "import sklearn.preprocessing as preproc\n",
    "warnings.filterwarnings('ignore')"
   ]
  },
  {
   "cell_type": "markdown",
   "id": "b377cd7f",
   "metadata": {},
   "source": [
    "Here I imported all the various libraries needed to preform the task of analyzing this data set."
   ]
  },
  {
   "cell_type": "code",
   "execution_count": 124,
   "id": "50fd0b77",
   "metadata": {},
   "outputs": [],
   "source": [
    "df=pd.read_csv(\"student_data.csv\")"
   ]
  },
  {
   "cell_type": "markdown",
   "id": "03ea32f5",
   "metadata": {},
   "source": [
    "Firstly I uploaded the data set named \"student_data.csv\", then I began to use EDA Exploratary Data Analysis."
   ]
  },
  {
   "cell_type": "code",
   "execution_count": 125,
   "id": "8c1d1950",
   "metadata": {
    "scrolled": false
   },
   "outputs": [
    {
     "data": {
      "text/html": [
       "<div>\n",
       "<style scoped>\n",
       "    .dataframe tbody tr th:only-of-type {\n",
       "        vertical-align: middle;\n",
       "    }\n",
       "\n",
       "    .dataframe tbody tr th {\n",
       "        vertical-align: top;\n",
       "    }\n",
       "\n",
       "    .dataframe thead th {\n",
       "        text-align: right;\n",
       "    }\n",
       "</style>\n",
       "<table border=\"1\" class=\"dataframe\">\n",
       "  <thead>\n",
       "    <tr style=\"text-align: right;\">\n",
       "      <th></th>\n",
       "      <th>Marital status</th>\n",
       "      <th>Application mode</th>\n",
       "      <th>Application order</th>\n",
       "      <th>Course</th>\n",
       "      <th>Daytime/evening attendance</th>\n",
       "      <th>Previous qualification</th>\n",
       "      <th>Previous qualification (grade)</th>\n",
       "      <th>Nacionality</th>\n",
       "      <th>Mother's qualification</th>\n",
       "      <th>Father's qualification</th>\n",
       "      <th>...</th>\n",
       "      <th>Curricular units 2nd sem (credited)</th>\n",
       "      <th>Curricular units 2nd sem (enrolled)</th>\n",
       "      <th>Curricular units 2nd sem (evaluations)</th>\n",
       "      <th>Curricular units 2nd sem (approved)</th>\n",
       "      <th>Curricular units 2nd sem (grade)</th>\n",
       "      <th>Curricular units 2nd sem (without evaluations)</th>\n",
       "      <th>Unemployment rate</th>\n",
       "      <th>Inflation rate</th>\n",
       "      <th>GDP</th>\n",
       "      <th>Target</th>\n",
       "    </tr>\n",
       "  </thead>\n",
       "  <tbody>\n",
       "    <tr>\n",
       "      <th>0</th>\n",
       "      <td>1</td>\n",
       "      <td>17</td>\n",
       "      <td>5</td>\n",
       "      <td>171.0</td>\n",
       "      <td>1</td>\n",
       "      <td>1</td>\n",
       "      <td>122.0</td>\n",
       "      <td>1</td>\n",
       "      <td>19</td>\n",
       "      <td>12.0</td>\n",
       "      <td>...</td>\n",
       "      <td>0</td>\n",
       "      <td>0.0</td>\n",
       "      <td>0</td>\n",
       "      <td>0</td>\n",
       "      <td>0.000000</td>\n",
       "      <td>0</td>\n",
       "      <td>10.8</td>\n",
       "      <td>1.4</td>\n",
       "      <td>1.74</td>\n",
       "      <td>Dropout</td>\n",
       "    </tr>\n",
       "    <tr>\n",
       "      <th>1</th>\n",
       "      <td>1</td>\n",
       "      <td>15</td>\n",
       "      <td>1</td>\n",
       "      <td>9254.0</td>\n",
       "      <td>1</td>\n",
       "      <td>1</td>\n",
       "      <td>160.0</td>\n",
       "      <td>1</td>\n",
       "      <td>1</td>\n",
       "      <td>3.0</td>\n",
       "      <td>...</td>\n",
       "      <td>0</td>\n",
       "      <td>6.0</td>\n",
       "      <td>6</td>\n",
       "      <td>6</td>\n",
       "      <td>13.666667</td>\n",
       "      <td>0</td>\n",
       "      <td>13.9</td>\n",
       "      <td>-0.3</td>\n",
       "      <td>0.79</td>\n",
       "      <td>Graduate</td>\n",
       "    </tr>\n",
       "    <tr>\n",
       "      <th>2</th>\n",
       "      <td>1</td>\n",
       "      <td>1</td>\n",
       "      <td>5</td>\n",
       "      <td>9070.0</td>\n",
       "      <td>1</td>\n",
       "      <td>1</td>\n",
       "      <td>122.0</td>\n",
       "      <td>1</td>\n",
       "      <td>37</td>\n",
       "      <td>37.0</td>\n",
       "      <td>...</td>\n",
       "      <td>0</td>\n",
       "      <td>6.0</td>\n",
       "      <td>0</td>\n",
       "      <td>0</td>\n",
       "      <td>0.000000</td>\n",
       "      <td>0</td>\n",
       "      <td>10.8</td>\n",
       "      <td>1.4</td>\n",
       "      <td>1.74</td>\n",
       "      <td>Dropout</td>\n",
       "    </tr>\n",
       "    <tr>\n",
       "      <th>3</th>\n",
       "      <td>1</td>\n",
       "      <td>17</td>\n",
       "      <td>2</td>\n",
       "      <td>9773.0</td>\n",
       "      <td>1</td>\n",
       "      <td>1</td>\n",
       "      <td>122.0</td>\n",
       "      <td>1</td>\n",
       "      <td>38</td>\n",
       "      <td>37.0</td>\n",
       "      <td>...</td>\n",
       "      <td>0</td>\n",
       "      <td>6.0</td>\n",
       "      <td>10</td>\n",
       "      <td>5</td>\n",
       "      <td>12.400000</td>\n",
       "      <td>0</td>\n",
       "      <td>9.4</td>\n",
       "      <td>-0.8</td>\n",
       "      <td>-3.12</td>\n",
       "      <td>Graduate</td>\n",
       "    </tr>\n",
       "    <tr>\n",
       "      <th>4</th>\n",
       "      <td>2</td>\n",
       "      <td>39</td>\n",
       "      <td>1</td>\n",
       "      <td>8014.0</td>\n",
       "      <td>0</td>\n",
       "      <td>1</td>\n",
       "      <td>100.0</td>\n",
       "      <td>1</td>\n",
       "      <td>37</td>\n",
       "      <td>38.0</td>\n",
       "      <td>...</td>\n",
       "      <td>0</td>\n",
       "      <td>6.0</td>\n",
       "      <td>6</td>\n",
       "      <td>6</td>\n",
       "      <td>13.000000</td>\n",
       "      <td>0</td>\n",
       "      <td>13.9</td>\n",
       "      <td>-0.3</td>\n",
       "      <td>0.79</td>\n",
       "      <td>Graduate</td>\n",
       "    </tr>\n",
       "  </tbody>\n",
       "</table>\n",
       "<p>5 rows × 37 columns</p>\n",
       "</div>"
      ],
      "text/plain": [
       "  Marital status  Application mode  Application order  Course  \\\n",
       "0              1                17                  5   171.0   \n",
       "1              1                15                  1  9254.0   \n",
       "2              1                 1                  5  9070.0   \n",
       "3              1                17                  2  9773.0   \n",
       "4              2                39                  1  8014.0   \n",
       "\n",
       "   Daytime/evening attendance  Previous qualification  \\\n",
       "0                           1                       1   \n",
       "1                           1                       1   \n",
       "2                           1                       1   \n",
       "3                           1                       1   \n",
       "4                           0                       1   \n",
       "\n",
       "   Previous qualification (grade)  Nacionality  Mother's qualification  \\\n",
       "0                           122.0            1                      19   \n",
       "1                           160.0            1                       1   \n",
       "2                           122.0            1                      37   \n",
       "3                           122.0            1                      38   \n",
       "4                           100.0            1                      37   \n",
       "\n",
       "   Father's qualification  ...  Curricular units 2nd sem (credited)  \\\n",
       "0                    12.0  ...                                    0   \n",
       "1                     3.0  ...                                    0   \n",
       "2                    37.0  ...                                    0   \n",
       "3                    37.0  ...                                    0   \n",
       "4                    38.0  ...                                    0   \n",
       "\n",
       "   Curricular units 2nd sem (enrolled)  \\\n",
       "0                                  0.0   \n",
       "1                                  6.0   \n",
       "2                                  6.0   \n",
       "3                                  6.0   \n",
       "4                                  6.0   \n",
       "\n",
       "   Curricular units 2nd sem (evaluations) Curricular units 2nd sem (approved)  \\\n",
       "0                                       0                                   0   \n",
       "1                                       6                                   6   \n",
       "2                                       0                                   0   \n",
       "3                                      10                                   5   \n",
       "4                                       6                                   6   \n",
       "\n",
       "   Curricular units 2nd sem (grade)  \\\n",
       "0                          0.000000   \n",
       "1                         13.666667   \n",
       "2                          0.000000   \n",
       "3                         12.400000   \n",
       "4                         13.000000   \n",
       "\n",
       "   Curricular units 2nd sem (without evaluations) Unemployment rate  \\\n",
       "0                                               0              10.8   \n",
       "1                                               0              13.9   \n",
       "2                                               0              10.8   \n",
       "3                                               0               9.4   \n",
       "4                                               0              13.9   \n",
       "\n",
       "   Inflation rate   GDP    Target  \n",
       "0             1.4  1.74   Dropout  \n",
       "1            -0.3  0.79  Graduate  \n",
       "2             1.4  1.74   Dropout  \n",
       "3            -0.8 -3.12  Graduate  \n",
       "4            -0.3  0.79  Graduate  \n",
       "\n",
       "[5 rows x 37 columns]"
      ]
     },
     "execution_count": 125,
     "metadata": {},
     "output_type": "execute_result"
    }
   ],
   "source": [
    "df.head()"
   ]
  },
  {
   "cell_type": "markdown",
   "id": "54e46b17",
   "metadata": {},
   "source": [
    "to get an understanding of how many features this data set contained I used \".head()\", 37 featurtes are in this data set, .head() will show the first 5 observations, I could aslso use .tail() this would show me the last 5 observations of the data set."
   ]
  },
  {
   "cell_type": "code",
   "execution_count": 126,
   "id": "77ca11f6",
   "metadata": {
    "scrolled": false
   },
   "outputs": [
    {
     "data": {
      "text/html": [
       "<div>\n",
       "<style scoped>\n",
       "    .dataframe tbody tr th:only-of-type {\n",
       "        vertical-align: middle;\n",
       "    }\n",
       "\n",
       "    .dataframe tbody tr th {\n",
       "        vertical-align: top;\n",
       "    }\n",
       "\n",
       "    .dataframe thead th {\n",
       "        text-align: right;\n",
       "    }\n",
       "</style>\n",
       "<table border=\"1\" class=\"dataframe\">\n",
       "  <thead>\n",
       "    <tr style=\"text-align: right;\">\n",
       "      <th></th>\n",
       "      <th>Application mode</th>\n",
       "      <th>Application order</th>\n",
       "      <th>Course</th>\n",
       "      <th>Daytime/evening attendance</th>\n",
       "      <th>Previous qualification</th>\n",
       "      <th>Previous qualification (grade)</th>\n",
       "      <th>Nacionality</th>\n",
       "      <th>Mother's qualification</th>\n",
       "      <th>Father's qualification</th>\n",
       "      <th>Mother's occupation</th>\n",
       "      <th>...</th>\n",
       "      <th>Curricular units 1st sem (without evaluations)</th>\n",
       "      <th>Curricular units 2nd sem (credited)</th>\n",
       "      <th>Curricular units 2nd sem (enrolled)</th>\n",
       "      <th>Curricular units 2nd sem (evaluations)</th>\n",
       "      <th>Curricular units 2nd sem (approved)</th>\n",
       "      <th>Curricular units 2nd sem (grade)</th>\n",
       "      <th>Curricular units 2nd sem (without evaluations)</th>\n",
       "      <th>Unemployment rate</th>\n",
       "      <th>Inflation rate</th>\n",
       "      <th>GDP</th>\n",
       "    </tr>\n",
       "  </thead>\n",
       "  <tbody>\n",
       "    <tr>\n",
       "      <th>count</th>\n",
       "      <td>4424.000000</td>\n",
       "      <td>4424.000000</td>\n",
       "      <td>4423.000000</td>\n",
       "      <td>4424.000000</td>\n",
       "      <td>4424.000000</td>\n",
       "      <td>4424.000000</td>\n",
       "      <td>4424.000000</td>\n",
       "      <td>4424.000000</td>\n",
       "      <td>4423.000000</td>\n",
       "      <td>4424.000000</td>\n",
       "      <td>...</td>\n",
       "      <td>4424.000000</td>\n",
       "      <td>4424.000000</td>\n",
       "      <td>4423.000000</td>\n",
       "      <td>4424.000000</td>\n",
       "      <td>4424.000000</td>\n",
       "      <td>4423.000000</td>\n",
       "      <td>4424.000000</td>\n",
       "      <td>4424.000000</td>\n",
       "      <td>4424.000000</td>\n",
       "      <td>4424.000000</td>\n",
       "    </tr>\n",
       "    <tr>\n",
       "      <th>mean</th>\n",
       "      <td>18.669078</td>\n",
       "      <td>1.727848</td>\n",
       "      <td>8856.458738</td>\n",
       "      <td>0.890823</td>\n",
       "      <td>4.577758</td>\n",
       "      <td>132.613314</td>\n",
       "      <td>1.873192</td>\n",
       "      <td>19.561935</td>\n",
       "      <td>22.271987</td>\n",
       "      <td>10.960895</td>\n",
       "      <td>...</td>\n",
       "      <td>0.137658</td>\n",
       "      <td>0.541817</td>\n",
       "      <td>6.231743</td>\n",
       "      <td>8.063291</td>\n",
       "      <td>4.435805</td>\n",
       "      <td>10.229941</td>\n",
       "      <td>0.150316</td>\n",
       "      <td>11.566139</td>\n",
       "      <td>1.228029</td>\n",
       "      <td>0.001969</td>\n",
       "    </tr>\n",
       "    <tr>\n",
       "      <th>std</th>\n",
       "      <td>17.484682</td>\n",
       "      <td>1.313793</td>\n",
       "      <td>2063.763479</td>\n",
       "      <td>0.311897</td>\n",
       "      <td>10.216592</td>\n",
       "      <td>13.188332</td>\n",
       "      <td>6.914514</td>\n",
       "      <td>15.603186</td>\n",
       "      <td>15.343244</td>\n",
       "      <td>26.418253</td>\n",
       "      <td>...</td>\n",
       "      <td>0.690880</td>\n",
       "      <td>1.918546</td>\n",
       "      <td>2.196038</td>\n",
       "      <td>3.947951</td>\n",
       "      <td>3.014764</td>\n",
       "      <td>5.211367</td>\n",
       "      <td>0.753774</td>\n",
       "      <td>2.663850</td>\n",
       "      <td>1.382711</td>\n",
       "      <td>2.269935</td>\n",
       "    </tr>\n",
       "    <tr>\n",
       "      <th>min</th>\n",
       "      <td>1.000000</td>\n",
       "      <td>0.000000</td>\n",
       "      <td>33.000000</td>\n",
       "      <td>0.000000</td>\n",
       "      <td>1.000000</td>\n",
       "      <td>95.000000</td>\n",
       "      <td>1.000000</td>\n",
       "      <td>1.000000</td>\n",
       "      <td>1.000000</td>\n",
       "      <td>0.000000</td>\n",
       "      <td>...</td>\n",
       "      <td>0.000000</td>\n",
       "      <td>0.000000</td>\n",
       "      <td>0.000000</td>\n",
       "      <td>0.000000</td>\n",
       "      <td>0.000000</td>\n",
       "      <td>0.000000</td>\n",
       "      <td>0.000000</td>\n",
       "      <td>7.600000</td>\n",
       "      <td>-0.800000</td>\n",
       "      <td>-4.060000</td>\n",
       "    </tr>\n",
       "    <tr>\n",
       "      <th>25%</th>\n",
       "      <td>1.000000</td>\n",
       "      <td>1.000000</td>\n",
       "      <td>9085.000000</td>\n",
       "      <td>1.000000</td>\n",
       "      <td>1.000000</td>\n",
       "      <td>125.000000</td>\n",
       "      <td>1.000000</td>\n",
       "      <td>2.000000</td>\n",
       "      <td>3.000000</td>\n",
       "      <td>4.000000</td>\n",
       "      <td>...</td>\n",
       "      <td>0.000000</td>\n",
       "      <td>0.000000</td>\n",
       "      <td>5.000000</td>\n",
       "      <td>6.000000</td>\n",
       "      <td>2.000000</td>\n",
       "      <td>10.750000</td>\n",
       "      <td>0.000000</td>\n",
       "      <td>9.400000</td>\n",
       "      <td>0.300000</td>\n",
       "      <td>-1.700000</td>\n",
       "    </tr>\n",
       "    <tr>\n",
       "      <th>50%</th>\n",
       "      <td>17.000000</td>\n",
       "      <td>1.000000</td>\n",
       "      <td>9238.000000</td>\n",
       "      <td>1.000000</td>\n",
       "      <td>1.000000</td>\n",
       "      <td>133.100000</td>\n",
       "      <td>1.000000</td>\n",
       "      <td>19.000000</td>\n",
       "      <td>19.000000</td>\n",
       "      <td>5.000000</td>\n",
       "      <td>...</td>\n",
       "      <td>0.000000</td>\n",
       "      <td>0.000000</td>\n",
       "      <td>6.000000</td>\n",
       "      <td>8.000000</td>\n",
       "      <td>5.000000</td>\n",
       "      <td>12.200000</td>\n",
       "      <td>0.000000</td>\n",
       "      <td>11.100000</td>\n",
       "      <td>1.400000</td>\n",
       "      <td>0.320000</td>\n",
       "    </tr>\n",
       "    <tr>\n",
       "      <th>75%</th>\n",
       "      <td>39.000000</td>\n",
       "      <td>2.000000</td>\n",
       "      <td>9556.000000</td>\n",
       "      <td>1.000000</td>\n",
       "      <td>1.000000</td>\n",
       "      <td>140.000000</td>\n",
       "      <td>1.000000</td>\n",
       "      <td>37.000000</td>\n",
       "      <td>37.000000</td>\n",
       "      <td>9.000000</td>\n",
       "      <td>...</td>\n",
       "      <td>0.000000</td>\n",
       "      <td>0.000000</td>\n",
       "      <td>7.000000</td>\n",
       "      <td>10.000000</td>\n",
       "      <td>6.000000</td>\n",
       "      <td>13.333333</td>\n",
       "      <td>0.000000</td>\n",
       "      <td>13.900000</td>\n",
       "      <td>2.600000</td>\n",
       "      <td>1.790000</td>\n",
       "    </tr>\n",
       "    <tr>\n",
       "      <th>max</th>\n",
       "      <td>57.000000</td>\n",
       "      <td>9.000000</td>\n",
       "      <td>9991.000000</td>\n",
       "      <td>1.000000</td>\n",
       "      <td>43.000000</td>\n",
       "      <td>190.000000</td>\n",
       "      <td>109.000000</td>\n",
       "      <td>44.000000</td>\n",
       "      <td>44.000000</td>\n",
       "      <td>194.000000</td>\n",
       "      <td>...</td>\n",
       "      <td>12.000000</td>\n",
       "      <td>19.000000</td>\n",
       "      <td>23.000000</td>\n",
       "      <td>33.000000</td>\n",
       "      <td>20.000000</td>\n",
       "      <td>18.571429</td>\n",
       "      <td>12.000000</td>\n",
       "      <td>16.200000</td>\n",
       "      <td>3.700000</td>\n",
       "      <td>3.510000</td>\n",
       "    </tr>\n",
       "  </tbody>\n",
       "</table>\n",
       "<p>8 rows × 31 columns</p>\n",
       "</div>"
      ],
      "text/plain": [
       "       Application mode  Application order       Course  \\\n",
       "count       4424.000000        4424.000000  4423.000000   \n",
       "mean          18.669078           1.727848  8856.458738   \n",
       "std           17.484682           1.313793  2063.763479   \n",
       "min            1.000000           0.000000    33.000000   \n",
       "25%            1.000000           1.000000  9085.000000   \n",
       "50%           17.000000           1.000000  9238.000000   \n",
       "75%           39.000000           2.000000  9556.000000   \n",
       "max           57.000000           9.000000  9991.000000   \n",
       "\n",
       "       Daytime/evening attendance  Previous qualification  \\\n",
       "count                 4424.000000             4424.000000   \n",
       "mean                     0.890823                4.577758   \n",
       "std                      0.311897               10.216592   \n",
       "min                      0.000000                1.000000   \n",
       "25%                      1.000000                1.000000   \n",
       "50%                      1.000000                1.000000   \n",
       "75%                      1.000000                1.000000   \n",
       "max                      1.000000               43.000000   \n",
       "\n",
       "       Previous qualification (grade)  Nacionality  Mother's qualification  \\\n",
       "count                     4424.000000  4424.000000             4424.000000   \n",
       "mean                       132.613314     1.873192               19.561935   \n",
       "std                         13.188332     6.914514               15.603186   \n",
       "min                         95.000000     1.000000                1.000000   \n",
       "25%                        125.000000     1.000000                2.000000   \n",
       "50%                        133.100000     1.000000               19.000000   \n",
       "75%                        140.000000     1.000000               37.000000   \n",
       "max                        190.000000   109.000000               44.000000   \n",
       "\n",
       "       Father's qualification  Mother's occupation  ...  \\\n",
       "count             4423.000000          4424.000000  ...   \n",
       "mean                22.271987            10.960895  ...   \n",
       "std                 15.343244            26.418253  ...   \n",
       "min                  1.000000             0.000000  ...   \n",
       "25%                  3.000000             4.000000  ...   \n",
       "50%                 19.000000             5.000000  ...   \n",
       "75%                 37.000000             9.000000  ...   \n",
       "max                 44.000000           194.000000  ...   \n",
       "\n",
       "       Curricular units 1st sem (without evaluations)  \\\n",
       "count                                     4424.000000   \n",
       "mean                                         0.137658   \n",
       "std                                          0.690880   \n",
       "min                                          0.000000   \n",
       "25%                                          0.000000   \n",
       "50%                                          0.000000   \n",
       "75%                                          0.000000   \n",
       "max                                         12.000000   \n",
       "\n",
       "       Curricular units 2nd sem (credited)  \\\n",
       "count                          4424.000000   \n",
       "mean                              0.541817   \n",
       "std                               1.918546   \n",
       "min                               0.000000   \n",
       "25%                               0.000000   \n",
       "50%                               0.000000   \n",
       "75%                               0.000000   \n",
       "max                              19.000000   \n",
       "\n",
       "       Curricular units 2nd sem (enrolled)  \\\n",
       "count                          4423.000000   \n",
       "mean                              6.231743   \n",
       "std                               2.196038   \n",
       "min                               0.000000   \n",
       "25%                               5.000000   \n",
       "50%                               6.000000   \n",
       "75%                               7.000000   \n",
       "max                              23.000000   \n",
       "\n",
       "       Curricular units 2nd sem (evaluations)  \\\n",
       "count                             4424.000000   \n",
       "mean                                 8.063291   \n",
       "std                                  3.947951   \n",
       "min                                  0.000000   \n",
       "25%                                  6.000000   \n",
       "50%                                  8.000000   \n",
       "75%                                 10.000000   \n",
       "max                                 33.000000   \n",
       "\n",
       "       Curricular units 2nd sem (approved)  Curricular units 2nd sem (grade)  \\\n",
       "count                          4424.000000                       4423.000000   \n",
       "mean                              4.435805                         10.229941   \n",
       "std                               3.014764                          5.211367   \n",
       "min                               0.000000                          0.000000   \n",
       "25%                               2.000000                         10.750000   \n",
       "50%                               5.000000                         12.200000   \n",
       "75%                               6.000000                         13.333333   \n",
       "max                              20.000000                         18.571429   \n",
       "\n",
       "       Curricular units 2nd sem (without evaluations)  Unemployment rate  \\\n",
       "count                                     4424.000000        4424.000000   \n",
       "mean                                         0.150316          11.566139   \n",
       "std                                          0.753774           2.663850   \n",
       "min                                          0.000000           7.600000   \n",
       "25%                                          0.000000           9.400000   \n",
       "50%                                          0.000000          11.100000   \n",
       "75%                                          0.000000          13.900000   \n",
       "max                                         12.000000          16.200000   \n",
       "\n",
       "       Inflation rate          GDP  \n",
       "count     4424.000000  4424.000000  \n",
       "mean         1.228029     0.001969  \n",
       "std          1.382711     2.269935  \n",
       "min         -0.800000    -4.060000  \n",
       "25%          0.300000    -1.700000  \n",
       "50%          1.400000     0.320000  \n",
       "75%          2.600000     1.790000  \n",
       "max          3.700000     3.510000  \n",
       "\n",
       "[8 rows x 31 columns]"
      ]
     },
     "execution_count": 126,
     "metadata": {},
     "output_type": "execute_result"
    }
   ],
   "source": [
    "df.describe()"
   ]
  },
  {
   "cell_type": "markdown",
   "id": "00a8d5cd",
   "metadata": {},
   "source": [
    "then I used .describe() to review the mean, std deviation, and looked for similarities between values. If the mean and the standared deviation are close in values this would indicate a normal Gaussian distrubution. this was not the case with this data set.\n"
   ]
  },
  {
   "cell_type": "code",
   "execution_count": 127,
   "id": "d52cec44",
   "metadata": {
    "scrolled": false
   },
   "outputs": [
    {
     "data": {
      "text/plain": [
       "(4424, 37)"
      ]
     },
     "execution_count": 127,
     "metadata": {},
     "output_type": "execute_result"
    }
   ],
   "source": [
    "df.shape"
   ]
  },
  {
   "cell_type": "markdown",
   "id": "30674ad5",
   "metadata": {},
   "source": [
    "to know exactly how many features and observations I had I used \".shape()"
   ]
  },
  {
   "cell_type": "code",
   "execution_count": 128,
   "id": "eb98ff79",
   "metadata": {
    "scrolled": true
   },
   "outputs": [
    {
     "name": "stdout",
     "output_type": "stream",
     "text": [
      "<class 'pandas.core.frame.DataFrame'>\n",
      "RangeIndex: 4424 entries, 0 to 4423\n",
      "Data columns (total 37 columns):\n",
      " #   Column                                          Non-Null Count  Dtype  \n",
      "---  ------                                          --------------  -----  \n",
      " 0   Marital status                                  4424 non-null   object \n",
      " 1   Application mode                                4424 non-null   int64  \n",
      " 2   Application order                               4424 non-null   int64  \n",
      " 3   Course                                          4423 non-null   float64\n",
      " 4   Daytime/evening attendance                      4424 non-null   int64  \n",
      " 5   Previous qualification                          4424 non-null   int64  \n",
      " 6   Previous qualification (grade)                  4424 non-null   float64\n",
      " 7   Nacionality                                     4424 non-null   int64  \n",
      " 8   Mother's qualification                          4424 non-null   int64  \n",
      " 9   Father's qualification                          4423 non-null   float64\n",
      " 10  Mother's occupation                             4424 non-null   int64  \n",
      " 11  Father's occupation                             4424 non-null   int64  \n",
      " 12  Admission grade                                 4423 non-null   float64\n",
      " 13  Displaced                                       4424 non-null   object \n",
      " 14  Educational special needs                       4424 non-null   int64  \n",
      " 15  Debtor                                          4423 non-null   float64\n",
      " 16  Tuition fees up to date                         4423 non-null   object \n",
      " 17  Gender                                          4424 non-null   int64  \n",
      " 18  Scholarship holder                              4424 non-null   int64  \n",
      " 19  Age at enrollment                               4424 non-null   object \n",
      " 20  International                                   4423 non-null   float64\n",
      " 21  Curricular units 1st sem (credited)             4424 non-null   object \n",
      " 22  Curricular units 1st sem (enrolled)             4424 non-null   int64  \n",
      " 23  Curricular units 1st sem (evaluations)          4424 non-null   int64  \n",
      " 24  Curricular units 1st sem (approved)             4424 non-null   int64  \n",
      " 25  Curricular units 1st sem (grade)                4423 non-null   float64\n",
      " 26  Curricular units 1st sem (without evaluations)  4424 non-null   int64  \n",
      " 27  Curricular units 2nd sem (credited)             4424 non-null   int64  \n",
      " 28  Curricular units 2nd sem (enrolled)             4423 non-null   float64\n",
      " 29  Curricular units 2nd sem (evaluations)          4424 non-null   int64  \n",
      " 30  Curricular units 2nd sem (approved)             4424 non-null   int64  \n",
      " 31  Curricular units 2nd sem (grade)                4423 non-null   float64\n",
      " 32  Curricular units 2nd sem (without evaluations)  4424 non-null   int64  \n",
      " 33  Unemployment rate                               4424 non-null   float64\n",
      " 34  Inflation rate                                  4424 non-null   float64\n",
      " 35  GDP                                             4424 non-null   float64\n",
      " 36  Target                                          4424 non-null   object \n",
      "dtypes: float64(12), int64(19), object(6)\n",
      "memory usage: 1.2+ MB\n"
     ]
    }
   ],
   "source": [
    "df.info()"
   ]
  },
  {
   "cell_type": "markdown",
   "id": "46583017",
   "metadata": {},
   "source": [
    ".info() gave me which type of value was contained in each feature, I then looked at the data dictionary to compare."
   ]
  },
  {
   "cell_type": "code",
   "execution_count": 129,
   "id": "43f36a4b",
   "metadata": {
    "scrolled": true
   },
   "outputs": [
    {
     "data": {
      "text/plain": [
       "Marital status                                    0\n",
       "Application mode                                  0\n",
       "Application order                                 0\n",
       "Course                                            1\n",
       "Daytime/evening attendance                        0\n",
       "Previous qualification                            0\n",
       "Previous qualification (grade)                    0\n",
       "Nacionality                                       0\n",
       "Mother's qualification                            0\n",
       "Father's qualification                            1\n",
       "Mother's occupation                               0\n",
       "Father's occupation                               0\n",
       "Admission grade                                   1\n",
       "Displaced                                         0\n",
       "Educational special needs                         0\n",
       "Debtor                                            1\n",
       "Tuition fees up to date                           1\n",
       "Gender                                            0\n",
       "Scholarship holder                                0\n",
       "Age at enrollment                                 0\n",
       "International                                     1\n",
       "Curricular units 1st sem (credited)               0\n",
       "Curricular units 1st sem (enrolled)               0\n",
       "Curricular units 1st sem (evaluations)            0\n",
       "Curricular units 1st sem (approved)               0\n",
       "Curricular units 1st sem (grade)                  1\n",
       "Curricular units 1st sem (without evaluations)    0\n",
       "Curricular units 2nd sem (credited)               0\n",
       "Curricular units 2nd sem (enrolled)               1\n",
       "Curricular units 2nd sem (evaluations)            0\n",
       "Curricular units 2nd sem (approved)               0\n",
       "Curricular units 2nd sem (grade)                  1\n",
       "Curricular units 2nd sem (without evaluations)    0\n",
       "Unemployment rate                                 0\n",
       "Inflation rate                                    0\n",
       "GDP                                               0\n",
       "Target                                            0\n",
       "dtype: int64"
      ]
     },
     "execution_count": 129,
     "metadata": {},
     "output_type": "execute_result"
    }
   ],
   "source": [
    "df.isnull().sum()"
   ]
  },
  {
   "cell_type": "markdown",
   "id": "bef2b996",
   "metadata": {},
   "source": [
    ".isnull().sum() gave me an list of features that contained null values."
   ]
  },
  {
   "cell_type": "code",
   "execution_count": 130,
   "id": "4416d5ff",
   "metadata": {
    "scrolled": false
   },
   "outputs": [
    {
     "data": {
      "text/plain": [
       "array(['1', '2', '4', '?', '3', '5', '6'], dtype=object)"
      ]
     },
     "execution_count": 130,
     "metadata": {},
     "output_type": "execute_result"
    }
   ],
   "source": [
    "df[\"Marital status\"].unique()"
   ]
  },
  {
   "cell_type": "markdown",
   "id": "cf7d48e5",
   "metadata": {},
   "source": [
    "I then began to go through all the features to find all the various types of null values \"?\""
   ]
  },
  {
   "cell_type": "code",
   "execution_count": 131,
   "id": "d8df92d2",
   "metadata": {
    "scrolled": true
   },
   "outputs": [
    {
     "data": {
      "text/plain": [
       "array([ 171., 9254., 9070., 9773., 8014., 9991., 9500., 9238., 9670.,\n",
       "       9853., 9085., 9130., 9556., 9147., 9003.,   33., 9119.,   nan])"
      ]
     },
     "execution_count": 131,
     "metadata": {},
     "output_type": "execute_result"
    }
   ],
   "source": [
    "df[\"Course\"].unique()"
   ]
  },
  {
   "cell_type": "markdown",
   "id": "e63e7abe",
   "metadata": {},
   "source": [
    "\"nan\""
   ]
  },
  {
   "cell_type": "code",
   "execution_count": 132,
   "id": "919bfd26",
   "metadata": {
    "scrolled": true
   },
   "outputs": [
    {
     "data": {
      "text/plain": [
       "array([12.,  3., 37., 38.,  1., 19.,  5.,  4., 34.,  2., 39., 11.,  9.,\n",
       "       nan, 36., 26., 40., 14., 20., 35., 41., 22., 13., 29., 43., 18.,\n",
       "       42., 10.,  6., 30., 25., 44., 33., 27., 31.])"
      ]
     },
     "execution_count": 132,
     "metadata": {},
     "output_type": "execute_result"
    }
   ],
   "source": [
    "df[\"Father's qualification\"].unique()"
   ]
  },
  {
   "cell_type": "markdown",
   "id": "85fb985f",
   "metadata": {},
   "source": [
    "\"nan\""
   ]
  },
  {
   "cell_type": "code",
   "execution_count": 133,
   "id": "43882971",
   "metadata": {
    "scrolled": false
   },
   "outputs": [
    {
     "data": {
      "text/plain": [
       "array(['1', '2', '4', '?', '3', '5', '6'], dtype=object)"
      ]
     },
     "execution_count": 133,
     "metadata": {},
     "output_type": "execute_result"
    }
   ],
   "source": [
    "df[\"Marital status\"].unique()"
   ]
  },
  {
   "cell_type": "markdown",
   "id": "89359812",
   "metadata": {},
   "source": [
    "'?'"
   ]
  },
  {
   "cell_type": "code",
   "execution_count": 134,
   "id": "a5a40d07",
   "metadata": {
    "scrolled": true
   },
   "outputs": [
    {
     "data": {
      "text/plain": [
       "array([ 0.,  1., nan])"
      ]
     },
     "execution_count": 134,
     "metadata": {},
     "output_type": "execute_result"
    }
   ],
   "source": [
    "df[\"Debtor\"].unique()"
   ]
  },
  {
   "cell_type": "markdown",
   "id": "d54e337b",
   "metadata": {},
   "source": [
    "\"nan\""
   ]
  },
  {
   "cell_type": "code",
   "execution_count": 135,
   "id": "a7044c1b",
   "metadata": {},
   "outputs": [],
   "source": [
    "missing_value_formats = [\"n.a.\",\"?\",\"NA\",\"n/a\",\"na\",\"--\",\"nan\",\"UnKnown\",\"Na\"]"
   ]
  },
  {
   "cell_type": "markdown",
   "id": "4a002ff8",
   "metadata": {},
   "source": [
    "I then used \"missing_value_formats\" to identify the null values, I also added in some additional null values that might have been hidden in that set."
   ]
  },
  {
   "cell_type": "code",
   "execution_count": 136,
   "id": "43bab1a3",
   "metadata": {},
   "outputs": [],
   "source": [
    "df = pd.read_csv(\"student_data.csv\",na_values=missing_value_formats)"
   ]
  },
  {
   "cell_type": "markdown",
   "id": "20c10741",
   "metadata": {},
   "source": [
    "I then re read in my data set naming it \"student_no_label\""
   ]
  },
  {
   "cell_type": "code",
   "execution_count": 137,
   "id": "67ddf6c5",
   "metadata": {
    "scrolled": false
   },
   "outputs": [
    {
     "data": {
      "text/plain": [
       "True"
      ]
     },
     "execution_count": 137,
     "metadata": {},
     "output_type": "execute_result"
    }
   ],
   "source": [
    "df.isnull().values.any()"
   ]
  },
  {
   "cell_type": "markdown",
   "id": "d048dc3a",
   "metadata": {},
   "source": [
    "here the original data set has null vales showing True"
   ]
  },
  {
   "cell_type": "code",
   "execution_count": 138,
   "id": "de873da2",
   "metadata": {},
   "outputs": [],
   "source": [
    "student_no_label = df.dropna(axis=0)"
   ]
  },
  {
   "cell_type": "markdown",
   "id": "b3c78ceb",
   "metadata": {},
   "source": [
    "I then dropped all null values using \".dropna(axis=0) axis = observations."
   ]
  },
  {
   "cell_type": "code",
   "execution_count": 139,
   "id": "7aef5886",
   "metadata": {},
   "outputs": [
    {
     "data": {
      "text/plain": [
       "False"
      ]
     },
     "execution_count": 139,
     "metadata": {},
     "output_type": "execute_result"
    }
   ],
   "source": [
    "student_no_label.isnull().values.any()"
   ]
  },
  {
   "cell_type": "markdown",
   "id": "f035c548",
   "metadata": {},
   "source": [
    "new data set named \"student_no_label\" is now showing no null values False."
   ]
  },
  {
   "cell_type": "code",
   "execution_count": 140,
   "id": "b27d49e2",
   "metadata": {},
   "outputs": [
    {
     "data": {
      "text/plain": [
       "Marital status                                    0\n",
       "Application mode                                  0\n",
       "Application order                                 0\n",
       "Course                                            0\n",
       "Daytime/evening attendance                        0\n",
       "Previous qualification                            0\n",
       "Previous qualification (grade)                    0\n",
       "Nacionality                                       0\n",
       "Mother's qualification                            0\n",
       "Father's qualification                            0\n",
       "Mother's occupation                               0\n",
       "Father's occupation                               0\n",
       "Admission grade                                   0\n",
       "Displaced                                         0\n",
       "Educational special needs                         0\n",
       "Debtor                                            0\n",
       "Tuition fees up to date                           0\n",
       "Gender                                            0\n",
       "Scholarship holder                                0\n",
       "Age at enrollment                                 0\n",
       "International                                     0\n",
       "Curricular units 1st sem (credited)               0\n",
       "Curricular units 1st sem (enrolled)               0\n",
       "Curricular units 1st sem (evaluations)            0\n",
       "Curricular units 1st sem (approved)               0\n",
       "Curricular units 1st sem (grade)                  0\n",
       "Curricular units 1st sem (without evaluations)    0\n",
       "Curricular units 2nd sem (credited)               0\n",
       "Curricular units 2nd sem (enrolled)               0\n",
       "Curricular units 2nd sem (evaluations)            0\n",
       "Curricular units 2nd sem (approved)               0\n",
       "Curricular units 2nd sem (grade)                  0\n",
       "Curricular units 2nd sem (without evaluations)    0\n",
       "Unemployment rate                                 0\n",
       "Inflation rate                                    0\n",
       "GDP                                               0\n",
       "Target                                            0\n",
       "dtype: int64"
      ]
     },
     "execution_count": 140,
     "metadata": {},
     "output_type": "execute_result"
    }
   ],
   "source": [
    "student_no_label.isnull().sum()"
   ]
  },
  {
   "cell_type": "code",
   "execution_count": 141,
   "id": "3fb72b53",
   "metadata": {
    "scrolled": true
   },
   "outputs": [
    {
     "data": {
      "text/plain": [
       "array(['Dropout', 'Graduate', 'Enrolled', 'Grad', 'graduate', 'Drop',\n",
       "       'dropout'], dtype=object)"
      ]
     },
     "execution_count": 141,
     "metadata": {},
     "output_type": "execute_result"
    }
   ],
   "source": [
    "df[\"Target\"].unique()"
   ]
  },
  {
   "cell_type": "markdown",
   "id": "88f06d87",
   "metadata": {},
   "source": [
    "I then looked at the individual characteristics of each feature, on this feature I needed to consolidate 7 words that had the same meaning to 3, \"Target\" this is also our dependent variable."
   ]
  },
  {
   "cell_type": "code",
   "execution_count": 142,
   "id": "318bfa96",
   "metadata": {},
   "outputs": [],
   "source": [
    "df[\"Target\"]=df[\"Target\"].replace({\"Drop\":\"Dropout\",\"Grad\":\"Graduate\",\"graduate\":\"Graduate\",\"dropout\":\"Dropout\",})"
   ]
  },
  {
   "cell_type": "markdown",
   "id": "2b3baf86",
   "metadata": {},
   "source": [
    "i used \".replace\" to consolidate from 7 to 3."
   ]
  },
  {
   "cell_type": "code",
   "execution_count": 143,
   "id": "d9711153",
   "metadata": {
    "scrolled": true
   },
   "outputs": [
    {
     "data": {
      "text/plain": [
       "array(['Dropout', 'Graduate', 'Enrolled'], dtype=object)"
      ]
     },
     "execution_count": 143,
     "metadata": {},
     "output_type": "execute_result"
    }
   ],
   "source": [
    "df[\"Target\"].unique()"
   ]
  },
  {
   "cell_type": "markdown",
   "id": "ec3d8a3d",
   "metadata": {},
   "source": [
    "we can now see the 3 values using \".unique()\""
   ]
  },
  {
   "cell_type": "code",
   "execution_count": 144,
   "id": "c28f6b7b",
   "metadata": {},
   "outputs": [],
   "source": [
    "df[\"Target\"]=df[\"Target\"].replace({\"Dropout\":\"1\",\"Graduate\":\"2\",\"Enrolled\":\"3\"})"
   ]
  },
  {
   "cell_type": "raw",
   "id": "f02dde51",
   "metadata": {},
   "source": [
    "I then changed my dependent variable to numerical values, 1,2,3. the thinkig behind this is that having the dependant variable and independant variables all numerical will facilitate cosistency when implementing visulastations and modeling."
   ]
  },
  {
   "cell_type": "code",
   "execution_count": 145,
   "id": "0ee7de41",
   "metadata": {
    "scrolled": true
   },
   "outputs": [
    {
     "data": {
      "text/plain": [
       "array(['1', '2', '3'], dtype=object)"
      ]
     },
     "execution_count": 145,
     "metadata": {},
     "output_type": "execute_result"
    }
   ],
   "source": [
    "df[\"Target\"].unique()"
   ]
  },
  {
   "cell_type": "markdown",
   "id": "1ef6ca11",
   "metadata": {},
   "source": [
    "\"Target\" now showing 1,2,3."
   ]
  },
  {
   "cell_type": "markdown",
   "id": "82808753",
   "metadata": {},
   "source": [
    "after reviewing the data dictionary I realized that some features on my data set where showing as \"Float\" values, I then began to ammend the below features to interger's using .astype(int)"
   ]
  },
  {
   "cell_type": "code",
   "execution_count": 146,
   "id": "04a3566c",
   "metadata": {
    "scrolled": true
   },
   "outputs": [],
   "source": [
    "student_no_label[\"Marital status\"]=student_no_label[\"Marital status\"].astype(int)"
   ]
  },
  {
   "cell_type": "code",
   "execution_count": 147,
   "id": "64fc7444",
   "metadata": {},
   "outputs": [],
   "source": [
    "student_no_label[\"Course\"]=student_no_label[\"Course\"].astype(int)"
   ]
  },
  {
   "cell_type": "code",
   "execution_count": 148,
   "id": "64a5b899",
   "metadata": {
    "scrolled": true
   },
   "outputs": [],
   "source": [
    "student_no_label[\"Father's qualification\"]=student_no_label[\"Father's qualification\"].astype(int)"
   ]
  },
  {
   "cell_type": "code",
   "execution_count": 149,
   "id": "808e2d47",
   "metadata": {},
   "outputs": [],
   "source": [
    "student_no_label[\"Displaced\"]=student_no_label[\"Displaced\"].astype(int)"
   ]
  },
  {
   "cell_type": "code",
   "execution_count": 150,
   "id": "b73b6006",
   "metadata": {},
   "outputs": [],
   "source": [
    "student_no_label[\"Debtor\"]=student_no_label[\"Debtor\"].astype(int)"
   ]
  },
  {
   "cell_type": "code",
   "execution_count": 151,
   "id": "76841ad2",
   "metadata": {
    "scrolled": true
   },
   "outputs": [],
   "source": [
    "student_no_label[\"Tuition fees up to date\"]=student_no_label[\"Tuition fees up to date\"].astype(int)"
   ]
  },
  {
   "cell_type": "code",
   "execution_count": 152,
   "id": "9ce81881",
   "metadata": {
    "scrolled": true
   },
   "outputs": [],
   "source": [
    "student_no_label[\"Age at enrollment\"]=student_no_label[\"Age at enrollment\"].astype(int)"
   ]
  },
  {
   "cell_type": "code",
   "execution_count": 153,
   "id": "3b733779",
   "metadata": {},
   "outputs": [],
   "source": [
    "student_no_label[\"Curricular units 2nd sem (enrolled)\"]=student_no_label[\"Curricular units 2nd sem (enrolled)\"].astype(int)"
   ]
  },
  {
   "cell_type": "code",
   "execution_count": 154,
   "id": "84cdb6d9",
   "metadata": {},
   "outputs": [],
   "source": [
    "student_no_label[\"Curricular units 1st sem (credited)\"]=student_no_label[\"Curricular units 1st sem (credited)\"].astype(int)"
   ]
  },
  {
   "cell_type": "code",
   "execution_count": 155,
   "id": "207cddcc",
   "metadata": {},
   "outputs": [],
   "source": [
    "student_no_label[\"Curricular units 1st sem (grade)\"]=student_no_label[\"Curricular units 1st sem (grade)\"].astype(int)"
   ]
  },
  {
   "cell_type": "code",
   "execution_count": 156,
   "id": "35b06189",
   "metadata": {},
   "outputs": [],
   "source": [
    "student_no_label[\"Curricular units 1st sem (credited)\"]=student_no_label[\"Curricular units 1st sem (credited)\"].astype(int)"
   ]
  },
  {
   "cell_type": "code",
   "execution_count": 157,
   "id": "3dcc4e58",
   "metadata": {},
   "outputs": [],
   "source": [
    "student_no_label[\"Curricular units 2nd sem (grade)\"]=student_no_label[\"Curricular units 2nd sem (grade)\"].astype(int)"
   ]
  },
  {
   "cell_type": "code",
   "execution_count": 158,
   "id": "b5943695",
   "metadata": {
    "scrolled": true
   },
   "outputs": [
    {
     "data": {
      "text/html": [
       "<div>\n",
       "<style scoped>\n",
       "    .dataframe tbody tr th:only-of-type {\n",
       "        vertical-align: middle;\n",
       "    }\n",
       "\n",
       "    .dataframe tbody tr th {\n",
       "        vertical-align: top;\n",
       "    }\n",
       "\n",
       "    .dataframe thead th {\n",
       "        text-align: right;\n",
       "    }\n",
       "</style>\n",
       "<table border=\"1\" class=\"dataframe\">\n",
       "  <thead>\n",
       "    <tr style=\"text-align: right;\">\n",
       "      <th></th>\n",
       "      <th>Marital status</th>\n",
       "      <th>Application mode</th>\n",
       "      <th>Application order</th>\n",
       "      <th>Course</th>\n",
       "      <th>Daytime/evening attendance</th>\n",
       "      <th>Previous qualification</th>\n",
       "      <th>Previous qualification (grade)</th>\n",
       "      <th>Nacionality</th>\n",
       "      <th>Mother's qualification</th>\n",
       "      <th>Father's qualification</th>\n",
       "      <th>...</th>\n",
       "      <th>Curricular units 2nd sem (credited)</th>\n",
       "      <th>Curricular units 2nd sem (enrolled)</th>\n",
       "      <th>Curricular units 2nd sem (evaluations)</th>\n",
       "      <th>Curricular units 2nd sem (approved)</th>\n",
       "      <th>Curricular units 2nd sem (grade)</th>\n",
       "      <th>Curricular units 2nd sem (without evaluations)</th>\n",
       "      <th>Unemployment rate</th>\n",
       "      <th>Inflation rate</th>\n",
       "      <th>GDP</th>\n",
       "      <th>Target</th>\n",
       "    </tr>\n",
       "  </thead>\n",
       "  <tbody>\n",
       "    <tr>\n",
       "      <th>0</th>\n",
       "      <td>1</td>\n",
       "      <td>17</td>\n",
       "      <td>5</td>\n",
       "      <td>171</td>\n",
       "      <td>1</td>\n",
       "      <td>1</td>\n",
       "      <td>122.0</td>\n",
       "      <td>1</td>\n",
       "      <td>19</td>\n",
       "      <td>12</td>\n",
       "      <td>...</td>\n",
       "      <td>0</td>\n",
       "      <td>0</td>\n",
       "      <td>0</td>\n",
       "      <td>0</td>\n",
       "      <td>0</td>\n",
       "      <td>0</td>\n",
       "      <td>10.8</td>\n",
       "      <td>1.4</td>\n",
       "      <td>1.74</td>\n",
       "      <td>Dropout</td>\n",
       "    </tr>\n",
       "    <tr>\n",
       "      <th>1</th>\n",
       "      <td>1</td>\n",
       "      <td>15</td>\n",
       "      <td>1</td>\n",
       "      <td>9254</td>\n",
       "      <td>1</td>\n",
       "      <td>1</td>\n",
       "      <td>160.0</td>\n",
       "      <td>1</td>\n",
       "      <td>1</td>\n",
       "      <td>3</td>\n",
       "      <td>...</td>\n",
       "      <td>0</td>\n",
       "      <td>6</td>\n",
       "      <td>6</td>\n",
       "      <td>6</td>\n",
       "      <td>13</td>\n",
       "      <td>0</td>\n",
       "      <td>13.9</td>\n",
       "      <td>-0.3</td>\n",
       "      <td>0.79</td>\n",
       "      <td>Graduate</td>\n",
       "    </tr>\n",
       "    <tr>\n",
       "      <th>2</th>\n",
       "      <td>1</td>\n",
       "      <td>1</td>\n",
       "      <td>5</td>\n",
       "      <td>9070</td>\n",
       "      <td>1</td>\n",
       "      <td>1</td>\n",
       "      <td>122.0</td>\n",
       "      <td>1</td>\n",
       "      <td>37</td>\n",
       "      <td>37</td>\n",
       "      <td>...</td>\n",
       "      <td>0</td>\n",
       "      <td>6</td>\n",
       "      <td>0</td>\n",
       "      <td>0</td>\n",
       "      <td>0</td>\n",
       "      <td>0</td>\n",
       "      <td>10.8</td>\n",
       "      <td>1.4</td>\n",
       "      <td>1.74</td>\n",
       "      <td>Dropout</td>\n",
       "    </tr>\n",
       "    <tr>\n",
       "      <th>3</th>\n",
       "      <td>1</td>\n",
       "      <td>17</td>\n",
       "      <td>2</td>\n",
       "      <td>9773</td>\n",
       "      <td>1</td>\n",
       "      <td>1</td>\n",
       "      <td>122.0</td>\n",
       "      <td>1</td>\n",
       "      <td>38</td>\n",
       "      <td>37</td>\n",
       "      <td>...</td>\n",
       "      <td>0</td>\n",
       "      <td>6</td>\n",
       "      <td>10</td>\n",
       "      <td>5</td>\n",
       "      <td>12</td>\n",
       "      <td>0</td>\n",
       "      <td>9.4</td>\n",
       "      <td>-0.8</td>\n",
       "      <td>-3.12</td>\n",
       "      <td>Graduate</td>\n",
       "    </tr>\n",
       "    <tr>\n",
       "      <th>4</th>\n",
       "      <td>2</td>\n",
       "      <td>39</td>\n",
       "      <td>1</td>\n",
       "      <td>8014</td>\n",
       "      <td>0</td>\n",
       "      <td>1</td>\n",
       "      <td>100.0</td>\n",
       "      <td>1</td>\n",
       "      <td>37</td>\n",
       "      <td>38</td>\n",
       "      <td>...</td>\n",
       "      <td>0</td>\n",
       "      <td>6</td>\n",
       "      <td>6</td>\n",
       "      <td>6</td>\n",
       "      <td>13</td>\n",
       "      <td>0</td>\n",
       "      <td>13.9</td>\n",
       "      <td>-0.3</td>\n",
       "      <td>0.79</td>\n",
       "      <td>Graduate</td>\n",
       "    </tr>\n",
       "  </tbody>\n",
       "</table>\n",
       "<p>5 rows × 37 columns</p>\n",
       "</div>"
      ],
      "text/plain": [
       "   Marital status  Application mode  Application order  Course  \\\n",
       "0               1                17                  5     171   \n",
       "1               1                15                  1    9254   \n",
       "2               1                 1                  5    9070   \n",
       "3               1                17                  2    9773   \n",
       "4               2                39                  1    8014   \n",
       "\n",
       "   Daytime/evening attendance  Previous qualification  \\\n",
       "0                           1                       1   \n",
       "1                           1                       1   \n",
       "2                           1                       1   \n",
       "3                           1                       1   \n",
       "4                           0                       1   \n",
       "\n",
       "   Previous qualification (grade)  Nacionality  Mother's qualification  \\\n",
       "0                           122.0            1                      19   \n",
       "1                           160.0            1                       1   \n",
       "2                           122.0            1                      37   \n",
       "3                           122.0            1                      38   \n",
       "4                           100.0            1                      37   \n",
       "\n",
       "   Father's qualification  ...  Curricular units 2nd sem (credited)  \\\n",
       "0                      12  ...                                    0   \n",
       "1                       3  ...                                    0   \n",
       "2                      37  ...                                    0   \n",
       "3                      37  ...                                    0   \n",
       "4                      38  ...                                    0   \n",
       "\n",
       "   Curricular units 2nd sem (enrolled)  \\\n",
       "0                                    0   \n",
       "1                                    6   \n",
       "2                                    6   \n",
       "3                                    6   \n",
       "4                                    6   \n",
       "\n",
       "   Curricular units 2nd sem (evaluations)  \\\n",
       "0                                       0   \n",
       "1                                       6   \n",
       "2                                       0   \n",
       "3                                      10   \n",
       "4                                       6   \n",
       "\n",
       "   Curricular units 2nd sem (approved)  Curricular units 2nd sem (grade)  \\\n",
       "0                                    0                                 0   \n",
       "1                                    6                                13   \n",
       "2                                    0                                 0   \n",
       "3                                    5                                12   \n",
       "4                                    6                                13   \n",
       "\n",
       "   Curricular units 2nd sem (without evaluations)  Unemployment rate  \\\n",
       "0                                               0               10.8   \n",
       "1                                               0               13.9   \n",
       "2                                               0               10.8   \n",
       "3                                               0                9.4   \n",
       "4                                               0               13.9   \n",
       "\n",
       "   Inflation rate   GDP    Target  \n",
       "0             1.4  1.74   Dropout  \n",
       "1            -0.3  0.79  Graduate  \n",
       "2             1.4  1.74   Dropout  \n",
       "3            -0.8 -3.12  Graduate  \n",
       "4            -0.3  0.79  Graduate  \n",
       "\n",
       "[5 rows x 37 columns]"
      ]
     },
     "execution_count": 158,
     "metadata": {},
     "output_type": "execute_result"
    }
   ],
   "source": [
    "student_no_label.head()"
   ]
  },
  {
   "cell_type": "markdown",
   "id": "961d2855",
   "metadata": {},
   "source": [
    "Here we see the full list of features in there correct types according to the data dictionary."
   ]
  },
  {
   "cell_type": "code",
   "execution_count": 159,
   "id": "3e197e48",
   "metadata": {
    "scrolled": false
   },
   "outputs": [
    {
     "data": {
      "text/html": [
       "<div>\n",
       "<style scoped>\n",
       "    .dataframe tbody tr th:only-of-type {\n",
       "        vertical-align: middle;\n",
       "    }\n",
       "\n",
       "    .dataframe tbody tr th {\n",
       "        vertical-align: top;\n",
       "    }\n",
       "\n",
       "    .dataframe thead th {\n",
       "        text-align: right;\n",
       "    }\n",
       "</style>\n",
       "<table border=\"1\" class=\"dataframe\">\n",
       "  <thead>\n",
       "    <tr style=\"text-align: right;\">\n",
       "      <th></th>\n",
       "      <th>Marital status</th>\n",
       "      <th>Application mode</th>\n",
       "      <th>Application order</th>\n",
       "      <th>Course</th>\n",
       "      <th>Daytime/evening attendance</th>\n",
       "      <th>Previous qualification</th>\n",
       "      <th>Previous qualification (grade)</th>\n",
       "      <th>Nacionality</th>\n",
       "      <th>Mother's qualification</th>\n",
       "      <th>Father's qualification</th>\n",
       "      <th>...</th>\n",
       "      <th>Curricular units 1st sem (without evaluations)</th>\n",
       "      <th>Curricular units 2nd sem (credited)</th>\n",
       "      <th>Curricular units 2nd sem (enrolled)</th>\n",
       "      <th>Curricular units 2nd sem (evaluations)</th>\n",
       "      <th>Curricular units 2nd sem (approved)</th>\n",
       "      <th>Curricular units 2nd sem (grade)</th>\n",
       "      <th>Curricular units 2nd sem (without evaluations)</th>\n",
       "      <th>Unemployment rate</th>\n",
       "      <th>Inflation rate</th>\n",
       "      <th>GDP</th>\n",
       "    </tr>\n",
       "  </thead>\n",
       "  <tbody>\n",
       "    <tr>\n",
       "      <th>count</th>\n",
       "      <td>4411.000000</td>\n",
       "      <td>4411.000000</td>\n",
       "      <td>4411.000000</td>\n",
       "      <td>4411.000000</td>\n",
       "      <td>4411.000000</td>\n",
       "      <td>4411.000000</td>\n",
       "      <td>4411.000000</td>\n",
       "      <td>4411.000000</td>\n",
       "      <td>4411.000000</td>\n",
       "      <td>4411.000000</td>\n",
       "      <td>...</td>\n",
       "      <td>4411.000000</td>\n",
       "      <td>4411.000000</td>\n",
       "      <td>4411.000000</td>\n",
       "      <td>4411.000000</td>\n",
       "      <td>4411.000000</td>\n",
       "      <td>4411.000000</td>\n",
       "      <td>4411.000000</td>\n",
       "      <td>4411.000000</td>\n",
       "      <td>4411.000000</td>\n",
       "      <td>4411.000000</td>\n",
       "    </tr>\n",
       "    <tr>\n",
       "      <th>mean</th>\n",
       "      <td>1.178644</td>\n",
       "      <td>18.671276</td>\n",
       "      <td>1.728406</td>\n",
       "      <td>8861.600091</td>\n",
       "      <td>0.890954</td>\n",
       "      <td>4.585355</td>\n",
       "      <td>132.628202</td>\n",
       "      <td>1.866697</td>\n",
       "      <td>19.566992</td>\n",
       "      <td>22.268647</td>\n",
       "      <td>...</td>\n",
       "      <td>0.137837</td>\n",
       "      <td>0.540920</td>\n",
       "      <td>6.233280</td>\n",
       "      <td>8.062798</td>\n",
       "      <td>4.437089</td>\n",
       "      <td>9.912038</td>\n",
       "      <td>0.150079</td>\n",
       "      <td>11.569848</td>\n",
       "      <td>1.230855</td>\n",
       "      <td>0.005933</td>\n",
       "    </tr>\n",
       "    <tr>\n",
       "      <th>std</th>\n",
       "      <td>0.606321</td>\n",
       "      <td>17.470528</td>\n",
       "      <td>1.313857</td>\n",
       "      <td>2053.895552</td>\n",
       "      <td>0.311732</td>\n",
       "      <td>10.228951</td>\n",
       "      <td>13.191683</td>\n",
       "      <td>6.899433</td>\n",
       "      <td>15.601303</td>\n",
       "      <td>15.339888</td>\n",
       "      <td>...</td>\n",
       "      <td>0.691739</td>\n",
       "      <td>1.919193</td>\n",
       "      <td>2.192905</td>\n",
       "      <td>3.944444</td>\n",
       "      <td>3.013473</td>\n",
       "      <td>5.054440</td>\n",
       "      <td>0.754525</td>\n",
       "      <td>2.663520</td>\n",
       "      <td>1.381920</td>\n",
       "      <td>2.267564</td>\n",
       "    </tr>\n",
       "    <tr>\n",
       "      <th>min</th>\n",
       "      <td>1.000000</td>\n",
       "      <td>1.000000</td>\n",
       "      <td>0.000000</td>\n",
       "      <td>33.000000</td>\n",
       "      <td>0.000000</td>\n",
       "      <td>1.000000</td>\n",
       "      <td>95.000000</td>\n",
       "      <td>1.000000</td>\n",
       "      <td>1.000000</td>\n",
       "      <td>1.000000</td>\n",
       "      <td>...</td>\n",
       "      <td>0.000000</td>\n",
       "      <td>0.000000</td>\n",
       "      <td>0.000000</td>\n",
       "      <td>0.000000</td>\n",
       "      <td>0.000000</td>\n",
       "      <td>0.000000</td>\n",
       "      <td>0.000000</td>\n",
       "      <td>7.600000</td>\n",
       "      <td>-0.800000</td>\n",
       "      <td>-4.060000</td>\n",
       "    </tr>\n",
       "    <tr>\n",
       "      <th>25%</th>\n",
       "      <td>1.000000</td>\n",
       "      <td>1.000000</td>\n",
       "      <td>1.000000</td>\n",
       "      <td>9085.000000</td>\n",
       "      <td>1.000000</td>\n",
       "      <td>1.000000</td>\n",
       "      <td>125.000000</td>\n",
       "      <td>1.000000</td>\n",
       "      <td>2.000000</td>\n",
       "      <td>3.000000</td>\n",
       "      <td>...</td>\n",
       "      <td>0.000000</td>\n",
       "      <td>0.000000</td>\n",
       "      <td>5.000000</td>\n",
       "      <td>6.000000</td>\n",
       "      <td>2.000000</td>\n",
       "      <td>10.000000</td>\n",
       "      <td>0.000000</td>\n",
       "      <td>9.400000</td>\n",
       "      <td>0.300000</td>\n",
       "      <td>-1.700000</td>\n",
       "    </tr>\n",
       "    <tr>\n",
       "      <th>50%</th>\n",
       "      <td>1.000000</td>\n",
       "      <td>17.000000</td>\n",
       "      <td>1.000000</td>\n",
       "      <td>9238.000000</td>\n",
       "      <td>1.000000</td>\n",
       "      <td>1.000000</td>\n",
       "      <td>133.100000</td>\n",
       "      <td>1.000000</td>\n",
       "      <td>19.000000</td>\n",
       "      <td>19.000000</td>\n",
       "      <td>...</td>\n",
       "      <td>0.000000</td>\n",
       "      <td>0.000000</td>\n",
       "      <td>6.000000</td>\n",
       "      <td>8.000000</td>\n",
       "      <td>5.000000</td>\n",
       "      <td>12.000000</td>\n",
       "      <td>0.000000</td>\n",
       "      <td>11.100000</td>\n",
       "      <td>1.400000</td>\n",
       "      <td>0.320000</td>\n",
       "    </tr>\n",
       "    <tr>\n",
       "      <th>75%</th>\n",
       "      <td>1.000000</td>\n",
       "      <td>39.000000</td>\n",
       "      <td>2.000000</td>\n",
       "      <td>9556.000000</td>\n",
       "      <td>1.000000</td>\n",
       "      <td>1.000000</td>\n",
       "      <td>140.000000</td>\n",
       "      <td>1.000000</td>\n",
       "      <td>37.000000</td>\n",
       "      <td>37.000000</td>\n",
       "      <td>...</td>\n",
       "      <td>0.000000</td>\n",
       "      <td>0.000000</td>\n",
       "      <td>7.000000</td>\n",
       "      <td>10.000000</td>\n",
       "      <td>6.000000</td>\n",
       "      <td>13.000000</td>\n",
       "      <td>0.000000</td>\n",
       "      <td>13.900000</td>\n",
       "      <td>2.600000</td>\n",
       "      <td>1.790000</td>\n",
       "    </tr>\n",
       "    <tr>\n",
       "      <th>max</th>\n",
       "      <td>6.000000</td>\n",
       "      <td>53.000000</td>\n",
       "      <td>9.000000</td>\n",
       "      <td>9991.000000</td>\n",
       "      <td>1.000000</td>\n",
       "      <td>43.000000</td>\n",
       "      <td>190.000000</td>\n",
       "      <td>109.000000</td>\n",
       "      <td>44.000000</td>\n",
       "      <td>44.000000</td>\n",
       "      <td>...</td>\n",
       "      <td>12.000000</td>\n",
       "      <td>19.000000</td>\n",
       "      <td>23.000000</td>\n",
       "      <td>33.000000</td>\n",
       "      <td>20.000000</td>\n",
       "      <td>18.000000</td>\n",
       "      <td>12.000000</td>\n",
       "      <td>16.200000</td>\n",
       "      <td>3.700000</td>\n",
       "      <td>3.510000</td>\n",
       "    </tr>\n",
       "  </tbody>\n",
       "</table>\n",
       "<p>8 rows × 36 columns</p>\n",
       "</div>"
      ],
      "text/plain": [
       "       Marital status  Application mode  Application order       Course  \\\n",
       "count     4411.000000       4411.000000        4411.000000  4411.000000   \n",
       "mean         1.178644         18.671276           1.728406  8861.600091   \n",
       "std          0.606321         17.470528           1.313857  2053.895552   \n",
       "min          1.000000          1.000000           0.000000    33.000000   \n",
       "25%          1.000000          1.000000           1.000000  9085.000000   \n",
       "50%          1.000000         17.000000           1.000000  9238.000000   \n",
       "75%          1.000000         39.000000           2.000000  9556.000000   \n",
       "max          6.000000         53.000000           9.000000  9991.000000   \n",
       "\n",
       "       Daytime/evening attendance  Previous qualification  \\\n",
       "count                 4411.000000             4411.000000   \n",
       "mean                     0.890954                4.585355   \n",
       "std                      0.311732               10.228951   \n",
       "min                      0.000000                1.000000   \n",
       "25%                      1.000000                1.000000   \n",
       "50%                      1.000000                1.000000   \n",
       "75%                      1.000000                1.000000   \n",
       "max                      1.000000               43.000000   \n",
       "\n",
       "       Previous qualification (grade)  Nacionality  Mother's qualification  \\\n",
       "count                     4411.000000  4411.000000             4411.000000   \n",
       "mean                       132.628202     1.866697               19.566992   \n",
       "std                         13.191683     6.899433               15.601303   \n",
       "min                         95.000000     1.000000                1.000000   \n",
       "25%                        125.000000     1.000000                2.000000   \n",
       "50%                        133.100000     1.000000               19.000000   \n",
       "75%                        140.000000     1.000000               37.000000   \n",
       "max                        190.000000   109.000000               44.000000   \n",
       "\n",
       "       Father's qualification  ...  \\\n",
       "count             4411.000000  ...   \n",
       "mean                22.268647  ...   \n",
       "std                 15.339888  ...   \n",
       "min                  1.000000  ...   \n",
       "25%                  3.000000  ...   \n",
       "50%                 19.000000  ...   \n",
       "75%                 37.000000  ...   \n",
       "max                 44.000000  ...   \n",
       "\n",
       "       Curricular units 1st sem (without evaluations)  \\\n",
       "count                                     4411.000000   \n",
       "mean                                         0.137837   \n",
       "std                                          0.691739   \n",
       "min                                          0.000000   \n",
       "25%                                          0.000000   \n",
       "50%                                          0.000000   \n",
       "75%                                          0.000000   \n",
       "max                                         12.000000   \n",
       "\n",
       "       Curricular units 2nd sem (credited)  \\\n",
       "count                          4411.000000   \n",
       "mean                              0.540920   \n",
       "std                               1.919193   \n",
       "min                               0.000000   \n",
       "25%                               0.000000   \n",
       "50%                               0.000000   \n",
       "75%                               0.000000   \n",
       "max                              19.000000   \n",
       "\n",
       "       Curricular units 2nd sem (enrolled)  \\\n",
       "count                          4411.000000   \n",
       "mean                              6.233280   \n",
       "std                               2.192905   \n",
       "min                               0.000000   \n",
       "25%                               5.000000   \n",
       "50%                               6.000000   \n",
       "75%                               7.000000   \n",
       "max                              23.000000   \n",
       "\n",
       "       Curricular units 2nd sem (evaluations)  \\\n",
       "count                             4411.000000   \n",
       "mean                                 8.062798   \n",
       "std                                  3.944444   \n",
       "min                                  0.000000   \n",
       "25%                                  6.000000   \n",
       "50%                                  8.000000   \n",
       "75%                                 10.000000   \n",
       "max                                 33.000000   \n",
       "\n",
       "       Curricular units 2nd sem (approved)  Curricular units 2nd sem (grade)  \\\n",
       "count                          4411.000000                       4411.000000   \n",
       "mean                              4.437089                          9.912038   \n",
       "std                               3.013473                          5.054440   \n",
       "min                               0.000000                          0.000000   \n",
       "25%                               2.000000                         10.000000   \n",
       "50%                               5.000000                         12.000000   \n",
       "75%                               6.000000                         13.000000   \n",
       "max                              20.000000                         18.000000   \n",
       "\n",
       "       Curricular units 2nd sem (without evaluations)  Unemployment rate  \\\n",
       "count                                     4411.000000        4411.000000   \n",
       "mean                                         0.150079          11.569848   \n",
       "std                                          0.754525           2.663520   \n",
       "min                                          0.000000           7.600000   \n",
       "25%                                          0.000000           9.400000   \n",
       "50%                                          0.000000          11.100000   \n",
       "75%                                          0.000000          13.900000   \n",
       "max                                         12.000000          16.200000   \n",
       "\n",
       "       Inflation rate          GDP  \n",
       "count     4411.000000  4411.000000  \n",
       "mean         1.230855     0.005933  \n",
       "std          1.381920     2.267564  \n",
       "min         -0.800000    -4.060000  \n",
       "25%          0.300000    -1.700000  \n",
       "50%          1.400000     0.320000  \n",
       "75%          2.600000     1.790000  \n",
       "max          3.700000     3.510000  \n",
       "\n",
       "[8 rows x 36 columns]"
      ]
     },
     "execution_count": 159,
     "metadata": {},
     "output_type": "execute_result"
    }
   ],
   "source": [
    "student_no_label.describe()"
   ]
  },
  {
   "cell_type": "code",
   "execution_count": 160,
   "id": "087caebb",
   "metadata": {
    "scrolled": false
   },
   "outputs": [
    {
     "data": {
      "text/plain": [
       "<seaborn.axisgrid.FacetGrid at 0x194f6faedd0>"
      ]
     },
     "execution_count": 160,
     "metadata": {},
     "output_type": "execute_result"
    },
    {
     "data": {
      "image/png": "[encoded data removed]",
      "text/plain": [
       "<Figure size 500x500 with 1 Axes>"
      ]
     },
     "metadata": {},
     "output_type": "display_data"
    }
   ],
   "source": [
    "sns.displot(data=student_no_label, x = \"Curricular units 1st sem (without evaluations)\")"
   ]
  },
  {
   "cell_type": "code",
   "execution_count": 161,
   "id": "3576592a",
   "metadata": {
    "scrolled": true
   },
   "outputs": [],
   "source": [
    "student_no_label[\"Curricular units 1st sem (without evaluations)\"] = preproc.minmax_scale(student_no_label[\"Curricular units 1st sem (without evaluations)\"])"
   ]
  },
  {
   "cell_type": "code",
   "execution_count": 162,
   "id": "888c5db5",
   "metadata": {
    "scrolled": true
   },
   "outputs": [
    {
     "data": {
      "text/plain": [
       "<seaborn.axisgrid.FacetGrid at 0x194f7290810>"
      ]
     },
     "execution_count": 162,
     "metadata": {},
     "output_type": "execute_result"
    },
    {
     "data": {
      "image/png": "[encoded data removed]",
      "text/plain": [
       "<Figure size 500x500 with 1 Axes>"
      ]
     },
     "metadata": {},
     "output_type": "display_data"
    }
   ],
   "source": [
    "sns.displot(data=student_no_label, x = \"Curricular units 1st sem (without evaluations)\")"
   ]
  },
  {
   "cell_type": "code",
   "execution_count": 163,
   "id": "20ab8ae1",
   "metadata": {
    "scrolled": true
   },
   "outputs": [
    {
     "data": {
      "text/plain": [
       "<seaborn.axisgrid.FacetGrid at 0x194f7365190>"
      ]
     },
     "execution_count": 163,
     "metadata": {},
     "output_type": "execute_result"
    },
    {
     "data": {
      "image/png": "[encoded data removed]",
      "text/plain": [
       "<Figure size 500x500 with 1 Axes>"
      ]
     },
     "metadata": {},
     "output_type": "display_data"
    }
   ],
   "source": [
    "sns.displot(data=student_no_label, x = \"Curricular units 2nd sem (grade)\")"
   ]
  },
  {
   "cell_type": "code",
   "execution_count": 164,
   "id": "5f250a2b",
   "metadata": {},
   "outputs": [],
   "source": [
    "student_no_label[\"Curricular units 2nd sem (grade)\"] = preproc.minmax_scale(student_no_label[\"Curricular units 2nd sem (grade)\"])"
   ]
  },
  {
   "cell_type": "code",
   "execution_count": 165,
   "id": "bc76375a",
   "metadata": {
    "scrolled": true
   },
   "outputs": [
    {
     "data": {
      "text/plain": [
       "<seaborn.axisgrid.FacetGrid at 0x194f73e3190>"
      ]
     },
     "execution_count": 165,
     "metadata": {},
     "output_type": "execute_result"
    },
    {
     "data": {
      "image/png": "[encoded data removed]",
      "text/plain": [
       "<Figure size 500x500 with 1 Axes>"
      ]
     },
     "metadata": {},
     "output_type": "display_data"
    }
   ],
   "source": [
    "sns.displot(data=student_no_label, x = \"Curricular units 2nd sem (grade)\")"
   ]
  },
  {
   "cell_type": "code",
   "execution_count": 166,
   "id": "40037930",
   "metadata": {
    "scrolled": true
   },
   "outputs": [
    {
     "data": {
      "text/plain": [
       "<seaborn.axisgrid.FacetGrid at 0x194f74b7450>"
      ]
     },
     "execution_count": 166,
     "metadata": {},
     "output_type": "execute_result"
    },
    {
     "data": {
      "image/png": "[encoded data removed]",
      "text/plain": [
       "<Figure size 500x500 with 1 Axes>"
      ]
     },
     "metadata": {},
     "output_type": "display_data"
    }
   ],
   "source": [
    "sns.displot(data=student_no_label, x = \"Previous qualification\")"
   ]
  },
  {
   "cell_type": "code",
   "execution_count": 167,
   "id": "3f5e0aa9",
   "metadata": {},
   "outputs": [],
   "source": [
    "student_no_label[\"Previous qualification\"] = preproc.minmax_scale(student_no_label[\"Previous qualification\"])"
   ]
  },
  {
   "cell_type": "code",
   "execution_count": 168,
   "id": "bd745131",
   "metadata": {
    "scrolled": false
   },
   "outputs": [
    {
     "data": {
      "text/plain": [
       "<seaborn.axisgrid.FacetGrid at 0x194f754a350>"
      ]
     },
     "execution_count": 168,
     "metadata": {},
     "output_type": "execute_result"
    },
    {
     "data": {
      "image/png": "[encoded data removed]",
      "text/plain": [
       "<Figure size 500x500 with 1 Axes>"
      ]
     },
     "metadata": {},
     "output_type": "display_data"
    }
   ],
   "source": [
    "sns.displot(data=student_no_label, x = \"Previous qualification\")"
   ]
  },
  {
   "cell_type": "code",
   "execution_count": 169,
   "id": "12939942",
   "metadata": {},
   "outputs": [
    {
     "data": {
      "text/plain": [
       "<seaborn.axisgrid.FacetGrid at 0x194f75c5590>"
      ]
     },
     "execution_count": 169,
     "metadata": {},
     "output_type": "execute_result"
    },
    {
     "data": {
      "image/png": "[encoded data removed]",
      "text/plain": [
       "<Figure size 500x500 with 1 Axes>"
      ]
     },
     "metadata": {},
     "output_type": "display_data"
    }
   ],
   "source": [
    "sns.displot(data=student_no_label, x = \"Application order\")"
   ]
  },
  {
   "cell_type": "code",
   "execution_count": 170,
   "id": "1d548cec",
   "metadata": {},
   "outputs": [],
   "source": [
    "student_no_label[\"Application order\"] = preproc.minmax_scale(student_no_label[\"Application order\"])"
   ]
  },
  {
   "cell_type": "code",
   "execution_count": 171,
   "id": "af975cc7",
   "metadata": {},
   "outputs": [
    {
     "data": {
      "text/plain": [
       "<seaborn.axisgrid.FacetGrid at 0x194f761af10>"
      ]
     },
     "execution_count": 171,
     "metadata": {},
     "output_type": "execute_result"
    },
    {
     "data": {
      "image/png": "[encoded data removed]",
      "text/plain": [
       "<Figure size 500x500 with 1 Axes>"
      ]
     },
     "metadata": {},
     "output_type": "display_data"
    }
   ],
   "source": [
    "sns.displot(data=student_no_label, x = \"Application order\")"
   ]
  },
  {
   "cell_type": "code",
   "execution_count": 172,
   "id": "ed701347",
   "metadata": {
    "scrolled": false
   },
   "outputs": [
    {
     "data": {
      "text/html": [
       "<div>\n",
       "<style scoped>\n",
       "    .dataframe tbody tr th:only-of-type {\n",
       "        vertical-align: middle;\n",
       "    }\n",
       "\n",
       "    .dataframe tbody tr th {\n",
       "        vertical-align: top;\n",
       "    }\n",
       "\n",
       "    .dataframe thead th {\n",
       "        text-align: right;\n",
       "    }\n",
       "</style>\n",
       "<table border=\"1\" class=\"dataframe\">\n",
       "  <thead>\n",
       "    <tr style=\"text-align: right;\">\n",
       "      <th></th>\n",
       "      <th>Marital status</th>\n",
       "      <th>Application mode</th>\n",
       "      <th>Application order</th>\n",
       "      <th>Course</th>\n",
       "      <th>Daytime/evening attendance</th>\n",
       "      <th>Previous qualification</th>\n",
       "      <th>Previous qualification (grade)</th>\n",
       "      <th>Nacionality</th>\n",
       "      <th>Mother's qualification</th>\n",
       "      <th>Father's qualification</th>\n",
       "      <th>...</th>\n",
       "      <th>Curricular units 1st sem (without evaluations)</th>\n",
       "      <th>Curricular units 2nd sem (credited)</th>\n",
       "      <th>Curricular units 2nd sem (enrolled)</th>\n",
       "      <th>Curricular units 2nd sem (evaluations)</th>\n",
       "      <th>Curricular units 2nd sem (approved)</th>\n",
       "      <th>Curricular units 2nd sem (grade)</th>\n",
       "      <th>Curricular units 2nd sem (without evaluations)</th>\n",
       "      <th>Unemployment rate</th>\n",
       "      <th>Inflation rate</th>\n",
       "      <th>GDP</th>\n",
       "    </tr>\n",
       "  </thead>\n",
       "  <tbody>\n",
       "    <tr>\n",
       "      <th>count</th>\n",
       "      <td>4411.000000</td>\n",
       "      <td>4411.000000</td>\n",
       "      <td>4411.000000</td>\n",
       "      <td>4411.000000</td>\n",
       "      <td>4411.000000</td>\n",
       "      <td>4411.000000</td>\n",
       "      <td>4411.000000</td>\n",
       "      <td>4411.000000</td>\n",
       "      <td>4411.000000</td>\n",
       "      <td>4411.000000</td>\n",
       "      <td>...</td>\n",
       "      <td>4411.000000</td>\n",
       "      <td>4411.000000</td>\n",
       "      <td>4411.000000</td>\n",
       "      <td>4411.000000</td>\n",
       "      <td>4411.000000</td>\n",
       "      <td>4411.000000</td>\n",
       "      <td>4411.000000</td>\n",
       "      <td>4411.000000</td>\n",
       "      <td>4411.000000</td>\n",
       "      <td>4411.000000</td>\n",
       "    </tr>\n",
       "    <tr>\n",
       "      <th>mean</th>\n",
       "      <td>1.178644</td>\n",
       "      <td>18.671276</td>\n",
       "      <td>0.192045</td>\n",
       "      <td>8861.600091</td>\n",
       "      <td>0.890954</td>\n",
       "      <td>0.085366</td>\n",
       "      <td>132.628202</td>\n",
       "      <td>1.866697</td>\n",
       "      <td>19.566992</td>\n",
       "      <td>22.268647</td>\n",
       "      <td>...</td>\n",
       "      <td>0.011486</td>\n",
       "      <td>0.540920</td>\n",
       "      <td>6.233280</td>\n",
       "      <td>8.062798</td>\n",
       "      <td>4.437089</td>\n",
       "      <td>0.550669</td>\n",
       "      <td>0.150079</td>\n",
       "      <td>11.569848</td>\n",
       "      <td>1.230855</td>\n",
       "      <td>0.005933</td>\n",
       "    </tr>\n",
       "    <tr>\n",
       "      <th>std</th>\n",
       "      <td>0.606321</td>\n",
       "      <td>17.470528</td>\n",
       "      <td>0.145984</td>\n",
       "      <td>2053.895552</td>\n",
       "      <td>0.311732</td>\n",
       "      <td>0.243546</td>\n",
       "      <td>13.191683</td>\n",
       "      <td>6.899433</td>\n",
       "      <td>15.601303</td>\n",
       "      <td>15.339888</td>\n",
       "      <td>...</td>\n",
       "      <td>0.057645</td>\n",
       "      <td>1.919193</td>\n",
       "      <td>2.192905</td>\n",
       "      <td>3.944444</td>\n",
       "      <td>3.013473</td>\n",
       "      <td>0.280802</td>\n",
       "      <td>0.754525</td>\n",
       "      <td>2.663520</td>\n",
       "      <td>1.381920</td>\n",
       "      <td>2.267564</td>\n",
       "    </tr>\n",
       "    <tr>\n",
       "      <th>min</th>\n",
       "      <td>1.000000</td>\n",
       "      <td>1.000000</td>\n",
       "      <td>0.000000</td>\n",
       "      <td>33.000000</td>\n",
       "      <td>0.000000</td>\n",
       "      <td>0.000000</td>\n",
       "      <td>95.000000</td>\n",
       "      <td>1.000000</td>\n",
       "      <td>1.000000</td>\n",
       "      <td>1.000000</td>\n",
       "      <td>...</td>\n",
       "      <td>0.000000</td>\n",
       "      <td>0.000000</td>\n",
       "      <td>0.000000</td>\n",
       "      <td>0.000000</td>\n",
       "      <td>0.000000</td>\n",
       "      <td>0.000000</td>\n",
       "      <td>0.000000</td>\n",
       "      <td>7.600000</td>\n",
       "      <td>-0.800000</td>\n",
       "      <td>-4.060000</td>\n",
       "    </tr>\n",
       "    <tr>\n",
       "      <th>25%</th>\n",
       "      <td>1.000000</td>\n",
       "      <td>1.000000</td>\n",
       "      <td>0.111111</td>\n",
       "      <td>9085.000000</td>\n",
       "      <td>1.000000</td>\n",
       "      <td>0.000000</td>\n",
       "      <td>125.000000</td>\n",
       "      <td>1.000000</td>\n",
       "      <td>2.000000</td>\n",
       "      <td>3.000000</td>\n",
       "      <td>...</td>\n",
       "      <td>0.000000</td>\n",
       "      <td>0.000000</td>\n",
       "      <td>5.000000</td>\n",
       "      <td>6.000000</td>\n",
       "      <td>2.000000</td>\n",
       "      <td>0.555556</td>\n",
       "      <td>0.000000</td>\n",
       "      <td>9.400000</td>\n",
       "      <td>0.300000</td>\n",
       "      <td>-1.700000</td>\n",
       "    </tr>\n",
       "    <tr>\n",
       "      <th>50%</th>\n",
       "      <td>1.000000</td>\n",
       "      <td>17.000000</td>\n",
       "      <td>0.111111</td>\n",
       "      <td>9238.000000</td>\n",
       "      <td>1.000000</td>\n",
       "      <td>0.000000</td>\n",
       "      <td>133.100000</td>\n",
       "      <td>1.000000</td>\n",
       "      <td>19.000000</td>\n",
       "      <td>19.000000</td>\n",
       "      <td>...</td>\n",
       "      <td>0.000000</td>\n",
       "      <td>0.000000</td>\n",
       "      <td>6.000000</td>\n",
       "      <td>8.000000</td>\n",
       "      <td>5.000000</td>\n",
       "      <td>0.666667</td>\n",
       "      <td>0.000000</td>\n",
       "      <td>11.100000</td>\n",
       "      <td>1.400000</td>\n",
       "      <td>0.320000</td>\n",
       "    </tr>\n",
       "    <tr>\n",
       "      <th>75%</th>\n",
       "      <td>1.000000</td>\n",
       "      <td>39.000000</td>\n",
       "      <td>0.222222</td>\n",
       "      <td>9556.000000</td>\n",
       "      <td>1.000000</td>\n",
       "      <td>0.000000</td>\n",
       "      <td>140.000000</td>\n",
       "      <td>1.000000</td>\n",
       "      <td>37.000000</td>\n",
       "      <td>37.000000</td>\n",
       "      <td>...</td>\n",
       "      <td>0.000000</td>\n",
       "      <td>0.000000</td>\n",
       "      <td>7.000000</td>\n",
       "      <td>10.000000</td>\n",
       "      <td>6.000000</td>\n",
       "      <td>0.722222</td>\n",
       "      <td>0.000000</td>\n",
       "      <td>13.900000</td>\n",
       "      <td>2.600000</td>\n",
       "      <td>1.790000</td>\n",
       "    </tr>\n",
       "    <tr>\n",
       "      <th>max</th>\n",
       "      <td>6.000000</td>\n",
       "      <td>53.000000</td>\n",
       "      <td>1.000000</td>\n",
       "      <td>9991.000000</td>\n",
       "      <td>1.000000</td>\n",
       "      <td>1.000000</td>\n",
       "      <td>190.000000</td>\n",
       "      <td>109.000000</td>\n",
       "      <td>44.000000</td>\n",
       "      <td>44.000000</td>\n",
       "      <td>...</td>\n",
       "      <td>1.000000</td>\n",
       "      <td>19.000000</td>\n",
       "      <td>23.000000</td>\n",
       "      <td>33.000000</td>\n",
       "      <td>20.000000</td>\n",
       "      <td>1.000000</td>\n",
       "      <td>12.000000</td>\n",
       "      <td>16.200000</td>\n",
       "      <td>3.700000</td>\n",
       "      <td>3.510000</td>\n",
       "    </tr>\n",
       "  </tbody>\n",
       "</table>\n",
       "<p>8 rows × 36 columns</p>\n",
       "</div>"
      ],
      "text/plain": [
       "       Marital status  Application mode  Application order       Course  \\\n",
       "count     4411.000000       4411.000000        4411.000000  4411.000000   \n",
       "mean         1.178644         18.671276           0.192045  8861.600091   \n",
       "std          0.606321         17.470528           0.145984  2053.895552   \n",
       "min          1.000000          1.000000           0.000000    33.000000   \n",
       "25%          1.000000          1.000000           0.111111  9085.000000   \n",
       "50%          1.000000         17.000000           0.111111  9238.000000   \n",
       "75%          1.000000         39.000000           0.222222  9556.000000   \n",
       "max          6.000000         53.000000           1.000000  9991.000000   \n",
       "\n",
       "       Daytime/evening attendance  Previous qualification  \\\n",
       "count                 4411.000000             4411.000000   \n",
       "mean                     0.890954                0.085366   \n",
       "std                      0.311732                0.243546   \n",
       "min                      0.000000                0.000000   \n",
       "25%                      1.000000                0.000000   \n",
       "50%                      1.000000                0.000000   \n",
       "75%                      1.000000                0.000000   \n",
       "max                      1.000000                1.000000   \n",
       "\n",
       "       Previous qualification (grade)  Nacionality  Mother's qualification  \\\n",
       "count                     4411.000000  4411.000000             4411.000000   \n",
       "mean                       132.628202     1.866697               19.566992   \n",
       "std                         13.191683     6.899433               15.601303   \n",
       "min                         95.000000     1.000000                1.000000   \n",
       "25%                        125.000000     1.000000                2.000000   \n",
       "50%                        133.100000     1.000000               19.000000   \n",
       "75%                        140.000000     1.000000               37.000000   \n",
       "max                        190.000000   109.000000               44.000000   \n",
       "\n",
       "       Father's qualification  ...  \\\n",
       "count             4411.000000  ...   \n",
       "mean                22.268647  ...   \n",
       "std                 15.339888  ...   \n",
       "min                  1.000000  ...   \n",
       "25%                  3.000000  ...   \n",
       "50%                 19.000000  ...   \n",
       "75%                 37.000000  ...   \n",
       "max                 44.000000  ...   \n",
       "\n",
       "       Curricular units 1st sem (without evaluations)  \\\n",
       "count                                     4411.000000   \n",
       "mean                                         0.011486   \n",
       "std                                          0.057645   \n",
       "min                                          0.000000   \n",
       "25%                                          0.000000   \n",
       "50%                                          0.000000   \n",
       "75%                                          0.000000   \n",
       "max                                          1.000000   \n",
       "\n",
       "       Curricular units 2nd sem (credited)  \\\n",
       "count                          4411.000000   \n",
       "mean                              0.540920   \n",
       "std                               1.919193   \n",
       "min                               0.000000   \n",
       "25%                               0.000000   \n",
       "50%                               0.000000   \n",
       "75%                               0.000000   \n",
       "max                              19.000000   \n",
       "\n",
       "       Curricular units 2nd sem (enrolled)  \\\n",
       "count                          4411.000000   \n",
       "mean                              6.233280   \n",
       "std                               2.192905   \n",
       "min                               0.000000   \n",
       "25%                               5.000000   \n",
       "50%                               6.000000   \n",
       "75%                               7.000000   \n",
       "max                              23.000000   \n",
       "\n",
       "       Curricular units 2nd sem (evaluations)  \\\n",
       "count                             4411.000000   \n",
       "mean                                 8.062798   \n",
       "std                                  3.944444   \n",
       "min                                  0.000000   \n",
       "25%                                  6.000000   \n",
       "50%                                  8.000000   \n",
       "75%                                 10.000000   \n",
       "max                                 33.000000   \n",
       "\n",
       "       Curricular units 2nd sem (approved)  Curricular units 2nd sem (grade)  \\\n",
       "count                          4411.000000                       4411.000000   \n",
       "mean                              4.437089                          0.550669   \n",
       "std                               3.013473                          0.280802   \n",
       "min                               0.000000                          0.000000   \n",
       "25%                               2.000000                          0.555556   \n",
       "50%                               5.000000                          0.666667   \n",
       "75%                               6.000000                          0.722222   \n",
       "max                              20.000000                          1.000000   \n",
       "\n",
       "       Curricular units 2nd sem (without evaluations)  Unemployment rate  \\\n",
       "count                                     4411.000000        4411.000000   \n",
       "mean                                         0.150079          11.569848   \n",
       "std                                          0.754525           2.663520   \n",
       "min                                          0.000000           7.600000   \n",
       "25%                                          0.000000           9.400000   \n",
       "50%                                          0.000000          11.100000   \n",
       "75%                                          0.000000          13.900000   \n",
       "max                                         12.000000          16.200000   \n",
       "\n",
       "       Inflation rate          GDP  \n",
       "count     4411.000000  4411.000000  \n",
       "mean         1.230855     0.005933  \n",
       "std          1.381920     2.267564  \n",
       "min         -0.800000    -4.060000  \n",
       "25%          0.300000    -1.700000  \n",
       "50%          1.400000     0.320000  \n",
       "75%          2.600000     1.790000  \n",
       "max          3.700000     3.510000  \n",
       "\n",
       "[8 rows x 36 columns]"
      ]
     },
     "execution_count": 172,
     "metadata": {},
     "output_type": "execute_result"
    }
   ],
   "source": [
    "student_no_label.describe()"
   ]
  },
  {
   "cell_type": "code",
   "execution_count": 173,
   "id": "5d21f578",
   "metadata": {},
   "outputs": [],
   "source": [
    "student_no_label.drop(columns=[\"Target\"], inplace=True)\n"
   ]
  },
  {
   "cell_type": "markdown",
   "id": "78da91ba",
   "metadata": {},
   "source": [
    "I then removed the dependent variable named \"Target\", this is essential before we can begin \"PCA\" Principal Component Analysis"
   ]
  },
  {
   "cell_type": "code",
   "execution_count": 174,
   "id": "2d50b3fb",
   "metadata": {
    "scrolled": true
   },
   "outputs": [
    {
     "data": {
      "text/html": [
       "<div>\n",
       "<style scoped>\n",
       "    .dataframe tbody tr th:only-of-type {\n",
       "        vertical-align: middle;\n",
       "    }\n",
       "\n",
       "    .dataframe tbody tr th {\n",
       "        vertical-align: top;\n",
       "    }\n",
       "\n",
       "    .dataframe thead th {\n",
       "        text-align: right;\n",
       "    }\n",
       "</style>\n",
       "<table border=\"1\" class=\"dataframe\">\n",
       "  <thead>\n",
       "    <tr style=\"text-align: right;\">\n",
       "      <th></th>\n",
       "      <th>Marital status</th>\n",
       "      <th>Application mode</th>\n",
       "      <th>Application order</th>\n",
       "      <th>Course</th>\n",
       "      <th>Daytime/evening attendance</th>\n",
       "      <th>Previous qualification</th>\n",
       "      <th>Previous qualification (grade)</th>\n",
       "      <th>Nacionality</th>\n",
       "      <th>Mother's qualification</th>\n",
       "      <th>Father's qualification</th>\n",
       "      <th>...</th>\n",
       "      <th>Curricular units 1st sem (without evaluations)</th>\n",
       "      <th>Curricular units 2nd sem (credited)</th>\n",
       "      <th>Curricular units 2nd sem (enrolled)</th>\n",
       "      <th>Curricular units 2nd sem (evaluations)</th>\n",
       "      <th>Curricular units 2nd sem (approved)</th>\n",
       "      <th>Curricular units 2nd sem (grade)</th>\n",
       "      <th>Curricular units 2nd sem (without evaluations)</th>\n",
       "      <th>Unemployment rate</th>\n",
       "      <th>Inflation rate</th>\n",
       "      <th>GDP</th>\n",
       "    </tr>\n",
       "  </thead>\n",
       "  <tbody>\n",
       "    <tr>\n",
       "      <th>0</th>\n",
       "      <td>1</td>\n",
       "      <td>17</td>\n",
       "      <td>0.555556</td>\n",
       "      <td>171</td>\n",
       "      <td>1</td>\n",
       "      <td>0.0</td>\n",
       "      <td>122.0</td>\n",
       "      <td>1</td>\n",
       "      <td>19</td>\n",
       "      <td>12</td>\n",
       "      <td>...</td>\n",
       "      <td>0.0</td>\n",
       "      <td>0</td>\n",
       "      <td>0</td>\n",
       "      <td>0</td>\n",
       "      <td>0</td>\n",
       "      <td>0.000000</td>\n",
       "      <td>0</td>\n",
       "      <td>10.8</td>\n",
       "      <td>1.4</td>\n",
       "      <td>1.74</td>\n",
       "    </tr>\n",
       "    <tr>\n",
       "      <th>1</th>\n",
       "      <td>1</td>\n",
       "      <td>15</td>\n",
       "      <td>0.111111</td>\n",
       "      <td>9254</td>\n",
       "      <td>1</td>\n",
       "      <td>0.0</td>\n",
       "      <td>160.0</td>\n",
       "      <td>1</td>\n",
       "      <td>1</td>\n",
       "      <td>3</td>\n",
       "      <td>...</td>\n",
       "      <td>0.0</td>\n",
       "      <td>0</td>\n",
       "      <td>6</td>\n",
       "      <td>6</td>\n",
       "      <td>6</td>\n",
       "      <td>0.722222</td>\n",
       "      <td>0</td>\n",
       "      <td>13.9</td>\n",
       "      <td>-0.3</td>\n",
       "      <td>0.79</td>\n",
       "    </tr>\n",
       "    <tr>\n",
       "      <th>2</th>\n",
       "      <td>1</td>\n",
       "      <td>1</td>\n",
       "      <td>0.555556</td>\n",
       "      <td>9070</td>\n",
       "      <td>1</td>\n",
       "      <td>0.0</td>\n",
       "      <td>122.0</td>\n",
       "      <td>1</td>\n",
       "      <td>37</td>\n",
       "      <td>37</td>\n",
       "      <td>...</td>\n",
       "      <td>0.0</td>\n",
       "      <td>0</td>\n",
       "      <td>6</td>\n",
       "      <td>0</td>\n",
       "      <td>0</td>\n",
       "      <td>0.000000</td>\n",
       "      <td>0</td>\n",
       "      <td>10.8</td>\n",
       "      <td>1.4</td>\n",
       "      <td>1.74</td>\n",
       "    </tr>\n",
       "    <tr>\n",
       "      <th>3</th>\n",
       "      <td>1</td>\n",
       "      <td>17</td>\n",
       "      <td>0.222222</td>\n",
       "      <td>9773</td>\n",
       "      <td>1</td>\n",
       "      <td>0.0</td>\n",
       "      <td>122.0</td>\n",
       "      <td>1</td>\n",
       "      <td>38</td>\n",
       "      <td>37</td>\n",
       "      <td>...</td>\n",
       "      <td>0.0</td>\n",
       "      <td>0</td>\n",
       "      <td>6</td>\n",
       "      <td>10</td>\n",
       "      <td>5</td>\n",
       "      <td>0.666667</td>\n",
       "      <td>0</td>\n",
       "      <td>9.4</td>\n",
       "      <td>-0.8</td>\n",
       "      <td>-3.12</td>\n",
       "    </tr>\n",
       "    <tr>\n",
       "      <th>4</th>\n",
       "      <td>2</td>\n",
       "      <td>39</td>\n",
       "      <td>0.111111</td>\n",
       "      <td>8014</td>\n",
       "      <td>0</td>\n",
       "      <td>0.0</td>\n",
       "      <td>100.0</td>\n",
       "      <td>1</td>\n",
       "      <td>37</td>\n",
       "      <td>38</td>\n",
       "      <td>...</td>\n",
       "      <td>0.0</td>\n",
       "      <td>0</td>\n",
       "      <td>6</td>\n",
       "      <td>6</td>\n",
       "      <td>6</td>\n",
       "      <td>0.722222</td>\n",
       "      <td>0</td>\n",
       "      <td>13.9</td>\n",
       "      <td>-0.3</td>\n",
       "      <td>0.79</td>\n",
       "    </tr>\n",
       "  </tbody>\n",
       "</table>\n",
       "<p>5 rows × 36 columns</p>\n",
       "</div>"
      ],
      "text/plain": [
       "   Marital status  Application mode  Application order  Course  \\\n",
       "0               1                17           0.555556     171   \n",
       "1               1                15           0.111111    9254   \n",
       "2               1                 1           0.555556    9070   \n",
       "3               1                17           0.222222    9773   \n",
       "4               2                39           0.111111    8014   \n",
       "\n",
       "   Daytime/evening attendance  Previous qualification  \\\n",
       "0                           1                     0.0   \n",
       "1                           1                     0.0   \n",
       "2                           1                     0.0   \n",
       "3                           1                     0.0   \n",
       "4                           0                     0.0   \n",
       "\n",
       "   Previous qualification (grade)  Nacionality  Mother's qualification  \\\n",
       "0                           122.0            1                      19   \n",
       "1                           160.0            1                       1   \n",
       "2                           122.0            1                      37   \n",
       "3                           122.0            1                      38   \n",
       "4                           100.0            1                      37   \n",
       "\n",
       "   Father's qualification  ...  \\\n",
       "0                      12  ...   \n",
       "1                       3  ...   \n",
       "2                      37  ...   \n",
       "3                      37  ...   \n",
       "4                      38  ...   \n",
       "\n",
       "   Curricular units 1st sem (without evaluations)  \\\n",
       "0                                             0.0   \n",
       "1                                             0.0   \n",
       "2                                             0.0   \n",
       "3                                             0.0   \n",
       "4                                             0.0   \n",
       "\n",
       "   Curricular units 2nd sem (credited)  Curricular units 2nd sem (enrolled)  \\\n",
       "0                                    0                                    0   \n",
       "1                                    0                                    6   \n",
       "2                                    0                                    6   \n",
       "3                                    0                                    6   \n",
       "4                                    0                                    6   \n",
       "\n",
       "   Curricular units 2nd sem (evaluations)  \\\n",
       "0                                       0   \n",
       "1                                       6   \n",
       "2                                       0   \n",
       "3                                      10   \n",
       "4                                       6   \n",
       "\n",
       "   Curricular units 2nd sem (approved)  Curricular units 2nd sem (grade)  \\\n",
       "0                                    0                          0.000000   \n",
       "1                                    6                          0.722222   \n",
       "2                                    0                          0.000000   \n",
       "3                                    5                          0.666667   \n",
       "4                                    6                          0.722222   \n",
       "\n",
       "   Curricular units 2nd sem (without evaluations)  Unemployment rate  \\\n",
       "0                                               0               10.8   \n",
       "1                                               0               13.9   \n",
       "2                                               0               10.8   \n",
       "3                                               0                9.4   \n",
       "4                                               0               13.9   \n",
       "\n",
       "   Inflation rate   GDP  \n",
       "0             1.4  1.74  \n",
       "1            -0.3  0.79  \n",
       "2             1.4  1.74  \n",
       "3            -0.8 -3.12  \n",
       "4            -0.3  0.79  \n",
       "\n",
       "[5 rows x 36 columns]"
      ]
     },
     "execution_count": 174,
     "metadata": {},
     "output_type": "execute_result"
    }
   ],
   "source": [
    "student_no_label.head()\n"
   ]
  },
  {
   "cell_type": "markdown",
   "id": "1b6ef23b",
   "metadata": {},
   "source": [
    "We now see 36 features after removing \"Target\"."
   ]
  },
  {
   "cell_type": "code",
   "execution_count": 175,
   "id": "2cdce5ef",
   "metadata": {},
   "outputs": [],
   "source": [
    "from matplotlib import pyplot\n",
    "from sklearn.model_selection import train_test_split\n",
    "from sklearn.model_selection import cross_val_score\n",
    "from sklearn.model_selection import StratifiedKFold\n",
    "from sklearn.linear_model import LogisticRegression\n",
    "from sklearn.tree import DecisionTreeClassifier\n",
    "from sklearn.neighbors import KNeighborsClassifier\n",
    "from sklearn.discriminant_analysis import LinearDiscriminantAnalysis\n",
    "from sklearn.naive_bayes import GaussianNB\n",
    "from sklearn.metrics import classification_report\n",
    "from sklearn.metrics import confusion_matrix\n",
    "from sklearn.metrics import accuracy_score\n",
    "from sklearn.svm import SVC"
   ]
  },
  {
   "cell_type": "markdown",
   "id": "79f007aa",
   "metadata": {},
   "source": [
    "I installed all the above libaries."
   ]
  },
  {
   "cell_type": "code",
   "execution_count": 176,
   "id": "aa566899",
   "metadata": {
    "scrolled": true
   },
   "outputs": [],
   "source": [
    "pca = PCA().fit(student_no_label)"
   ]
  },
  {
   "cell_type": "markdown",
   "id": "6353f18c",
   "metadata": {},
   "source": [
    "We now load our data set named \"student_no_label\" into \"PCA\""
   ]
  },
  {
   "cell_type": "code",
   "execution_count": 177,
   "id": "078bf44a",
   "metadata": {
    "scrolled": false
   },
   "outputs": [
    {
     "data": {
      "text/plain": [
       "Text(0, 0.5, 'cumulative explained variance')"
      ]
     },
     "execution_count": 177,
     "metadata": {},
     "output_type": "execute_result"
    },
    {
     "data": {
      "image/png": "[encoded data removed]",
      "text/plain": [
       "<Figure size 640x480 with 1 Axes>"
      ]
     },
     "metadata": {},
     "output_type": "display_data"
    }
   ],
   "source": [
    "plt.plot(np.cumsum(pca.explained_variance_ratio_))\n",
    "plt.xlabel(\"number of components\")\n",
    "plt.ylabel(\"cumulative explained variance\")"
   ]
  },
  {
   "cell_type": "markdown",
   "id": "aff47a5d",
   "metadata": {},
   "source": [
    "This graph illistrates the number of components required to maintain a minium of 99.5% of the signal held in the origianl data set. I have chosen 8 features."
   ]
  },
  {
   "cell_type": "code",
   "execution_count": 178,
   "id": "715fd657",
   "metadata": {
    "scrolled": false
   },
   "outputs": [
    {
     "data": {
      "text/plain": [
       "array([[-1.35542676e-05, -5.35207359e-04, -4.30678650e-06, ...,\n",
       "        -6.40043418e-06, -1.03667021e-05,  2.36493320e-05],\n",
       "       [ 7.41424388e-04,  3.11170763e-02, -1.78626733e-04, ...,\n",
       "        -7.58862218e-03,  1.10164712e-03,  8.15201866e-03],\n",
       "       [-8.87492162e-03, -4.74902981e-01,  1.30436463e-03, ...,\n",
       "         5.93263532e-03, -3.11713027e-03,  1.09122574e-02],\n",
       "       ...,\n",
       "       [ 2.99462278e-03,  6.93174289e-05, -5.39977036e-02, ...,\n",
       "        -2.52049491e-03, -8.12412229e-04, -1.51779119e-03],\n",
       "       [ 6.74885545e-03, -7.33616589e-05,  1.93764885e-02, ...,\n",
       "         3.25800096e-04,  3.41718453e-04, -9.76922003e-04],\n",
       "       [-1.83484583e-03,  5.71649910e-05,  8.52956255e-03, ...,\n",
       "         2.02748937e-03,  2.00365446e-03,  2.65995748e-03]])"
      ]
     },
     "execution_count": 178,
     "metadata": {},
     "output_type": "execute_result"
    }
   ],
   "source": [
    "pca.components_"
   ]
  },
  {
   "cell_type": "markdown",
   "id": "f5b7c0a7",
   "metadata": {},
   "source": [
    "This is our new feature list maintaining 95.5% of the original signal."
   ]
  },
  {
   "cell_type": "code",
   "execution_count": 179,
   "id": "bf77638b",
   "metadata": {
    "scrolled": true
   },
   "outputs": [
    {
     "data": {
      "text/plain": [
       "array([4.21850310e+06, 1.28324364e+03, 3.98909444e+02, 2.99799791e+02,\n",
       "       2.92719221e+02, 1.12325346e+02, 8.00206864e+01, 5.93179282e+01,\n",
       "       5.14226163e+01, 4.63614021e+01, 3.62052346e+01, 1.31926769e+01,\n",
       "       1.00606758e+01, 8.07195325e+00, 4.05044932e+00, 3.20482012e+00,\n",
       "       1.99724478e+00, 1.80373295e+00, 1.17661135e+00, 7.37804069e-01,\n",
       "       5.21218864e-01, 2.72956833e-01, 2.39509213e-01, 2.17278319e-01,\n",
       "       1.84803189e-01, 1.56491186e-01, 1.26877924e-01, 1.13404363e-01,\n",
       "       7.04211062e-02, 5.75488606e-02, 4.39513497e-02, 1.71207374e-02,\n",
       "       1.41163373e-02, 1.13116110e-02, 8.95405630e-03, 1.93464528e-03])"
      ]
     },
     "execution_count": 179,
     "metadata": {},
     "output_type": "execute_result"
    }
   ],
   "source": [
    "pca.explained_variance_"
   ]
  },
  {
   "cell_type": "markdown",
   "id": "2f6a033c",
   "metadata": {},
   "source": [
    "Here we can see the signal value of each observations, 4.21850617e+06 = 4 % for example."
   ]
  },
  {
   "cell_type": "code",
   "execution_count": 180,
   "id": "fba64e66",
   "metadata": {},
   "outputs": [],
   "source": [
    "pca =PCA(8)\n",
    "projected = pca.fit_transform(student_no_label)"
   ]
  },
  {
   "cell_type": "markdown",
   "id": "8a8457be",
   "metadata": {},
   "source": [
    "we now transform the total number of new features to 8"
   ]
  },
  {
   "cell_type": "code",
   "execution_count": 181,
   "id": "8fd2a385",
   "metadata": {
    "scrolled": true
   },
   "outputs": [
    {
     "data": {
      "text/plain": [
       "(4411, 8)"
      ]
     },
     "execution_count": 181,
     "metadata": {},
     "output_type": "execute_result"
    }
   ],
   "source": [
    "projected.shape"
   ]
  },
  {
   "cell_type": "markdown",
   "id": "ede55bf2",
   "metadata": {},
   "source": [
    "new data set has  8 new features and 4411 observations"
   ]
  },
  {
   "cell_type": "markdown",
   "id": "5e2dc6e8",
   "metadata": {},
   "source": [
    "Note: our observations have been reduced from our original data set from (4424) to (4411)after we removed null values.\n",
    "and the features have now been reduced from 37 to 8 new features."
   ]
  },
  {
   "cell_type": "code",
   "execution_count": 182,
   "id": "fd08ae28",
   "metadata": {
    "scrolled": true
   },
   "outputs": [
    {
     "data": {
      "text/plain": [
       "array([[ 8.69061224e+03, -9.09670154e-01, -1.89510534e+00, ...,\n",
       "         6.70999612e+00, -5.88443923e+00, -3.40609212e+00],\n",
       "       [-3.92350059e+02, -1.37557549e+01,  3.06464600e+01, ...,\n",
       "         4.58003763e-01,  1.03798917e+01, -1.29306936e+00],\n",
       "       [-2.08386907e+02, -2.09260499e+00, -1.14928579e+01, ...,\n",
       "         2.92798903e+00, -5.84695128e+00,  2.05071839e-01],\n",
       "       ...,\n",
       "       [-6.38374787e+02, -3.05627348e+00, -5.12391390e+00, ...,\n",
       "         3.41888641e+00,  1.54372761e-01,  3.17254825e-01],\n",
       "       [-2.85348511e+02, -8.17715891e+00,  5.65069318e-01, ...,\n",
       "         2.04936405e+00,  1.81256559e+01, -4.12958489e-01],\n",
       "       [-9.11368760e+02, -5.80211343e+00, -7.67648157e+00, ...,\n",
       "         3.82367666e+00, -5.52520134e-01,  8.07022143e-01]])"
      ]
     },
     "execution_count": 182,
     "metadata": {},
     "output_type": "execute_result"
    }
   ],
   "source": [
    "projected"
   ]
  },
  {
   "cell_type": "markdown",
   "id": "d8336d2b",
   "metadata": {},
   "source": [
    "As these are new features we need to name them, below they are named A1 to A8."
   ]
  },
  {
   "cell_type": "code",
   "execution_count": 183,
   "id": "bf86c5a7",
   "metadata": {
    "scrolled": true
   },
   "outputs": [],
   "source": [
    "student_pca =pd.DataFrame(projected,columns= [\"A1\",\"A2\",\"A3\",\"A4\",\"A5\",\"A6\",\"A7\",\"A8\"])"
   ]
  },
  {
   "cell_type": "code",
   "execution_count": 184,
   "id": "ca5923ef",
   "metadata": {
    "scrolled": true
   },
   "outputs": [
    {
     "data": {
      "text/html": [
       "<div>\n",
       "<style scoped>\n",
       "    .dataframe tbody tr th:only-of-type {\n",
       "        vertical-align: middle;\n",
       "    }\n",
       "\n",
       "    .dataframe tbody tr th {\n",
       "        vertical-align: top;\n",
       "    }\n",
       "\n",
       "    .dataframe thead th {\n",
       "        text-align: right;\n",
       "    }\n",
       "</style>\n",
       "<table border=\"1\" class=\"dataframe\">\n",
       "  <thead>\n",
       "    <tr style=\"text-align: right;\">\n",
       "      <th></th>\n",
       "      <th>A1</th>\n",
       "      <th>A2</th>\n",
       "      <th>A3</th>\n",
       "      <th>A4</th>\n",
       "      <th>A5</th>\n",
       "      <th>A6</th>\n",
       "      <th>A7</th>\n",
       "      <th>A8</th>\n",
       "    </tr>\n",
       "  </thead>\n",
       "  <tbody>\n",
       "    <tr>\n",
       "      <th>0</th>\n",
       "      <td>8690.612245</td>\n",
       "      <td>-0.909670</td>\n",
       "      <td>-1.895105</td>\n",
       "      <td>-8.136566</td>\n",
       "      <td>13.765585</td>\n",
       "      <td>6.709996</td>\n",
       "      <td>-5.884439</td>\n",
       "      <td>-3.406092</td>\n",
       "    </tr>\n",
       "    <tr>\n",
       "      <th>1</th>\n",
       "      <td>-392.350059</td>\n",
       "      <td>-13.755755</td>\n",
       "      <td>30.646460</td>\n",
       "      <td>23.704817</td>\n",
       "      <td>-10.723005</td>\n",
       "      <td>0.458004</td>\n",
       "      <td>10.379892</td>\n",
       "      <td>-1.293069</td>\n",
       "    </tr>\n",
       "    <tr>\n",
       "      <th>2</th>\n",
       "      <td>-208.386907</td>\n",
       "      <td>-2.092605</td>\n",
       "      <td>-11.492858</td>\n",
       "      <td>-24.365067</td>\n",
       "      <td>-14.251037</td>\n",
       "      <td>2.927989</td>\n",
       "      <td>-5.846951</td>\n",
       "      <td>0.205072</td>\n",
       "    </tr>\n",
       "    <tr>\n",
       "      <th>3</th>\n",
       "      <td>-911.420071</td>\n",
       "      <td>-8.994291</td>\n",
       "      <td>-20.441832</td>\n",
       "      <td>-15.605460</td>\n",
       "      <td>-4.415244</td>\n",
       "      <td>2.287403</td>\n",
       "      <td>-2.629272</td>\n",
       "      <td>1.212777</td>\n",
       "    </tr>\n",
       "    <tr>\n",
       "      <th>4</th>\n",
       "      <td>847.567387</td>\n",
       "      <td>-0.124222</td>\n",
       "      <td>-36.794626</td>\n",
       "      <td>3.811266</td>\n",
       "      <td>9.117390</td>\n",
       "      <td>3.349117</td>\n",
       "      <td>-34.256615</td>\n",
       "      <td>4.157979</td>\n",
       "    </tr>\n",
       "  </tbody>\n",
       "</table>\n",
       "</div>"
      ],
      "text/plain": [
       "            A1         A2         A3         A4         A5        A6  \\\n",
       "0  8690.612245  -0.909670  -1.895105  -8.136566  13.765585  6.709996   \n",
       "1  -392.350059 -13.755755  30.646460  23.704817 -10.723005  0.458004   \n",
       "2  -208.386907  -2.092605 -11.492858 -24.365067 -14.251037  2.927989   \n",
       "3  -911.420071  -8.994291 -20.441832 -15.605460  -4.415244  2.287403   \n",
       "4   847.567387  -0.124222 -36.794626   3.811266   9.117390  3.349117   \n",
       "\n",
       "          A7        A8  \n",
       "0  -5.884439 -3.406092  \n",
       "1  10.379892 -1.293069  \n",
       "2  -5.846951  0.205072  \n",
       "3  -2.629272  1.212777  \n",
       "4 -34.256615  4.157979  "
      ]
     },
     "execution_count": 184,
     "metadata": {},
     "output_type": "execute_result"
    }
   ],
   "source": [
    "student_pca.head()"
   ]
  },
  {
   "cell_type": "markdown",
   "id": "82bb51db",
   "metadata": {},
   "source": [
    "Here we see the new data set named \" student_pca.head\" with the new feature names"
   ]
  },
  {
   "cell_type": "code",
   "execution_count": 185,
   "id": "527cf651",
   "metadata": {},
   "outputs": [],
   "source": [
    "student_pca[\"Target\"]=df[\"Target\"]"
   ]
  },
  {
   "cell_type": "code",
   "execution_count": 186,
   "id": "e3348dde",
   "metadata": {
    "scrolled": false
   },
   "outputs": [
    {
     "data": {
      "text/html": [
       "<div>\n",
       "<style scoped>\n",
       "    .dataframe tbody tr th:only-of-type {\n",
       "        vertical-align: middle;\n",
       "    }\n",
       "\n",
       "    .dataframe tbody tr th {\n",
       "        vertical-align: top;\n",
       "    }\n",
       "\n",
       "    .dataframe thead th {\n",
       "        text-align: right;\n",
       "    }\n",
       "</style>\n",
       "<table border=\"1\" class=\"dataframe\">\n",
       "  <thead>\n",
       "    <tr style=\"text-align: right;\">\n",
       "      <th></th>\n",
       "      <th>A1</th>\n",
       "      <th>A2</th>\n",
       "      <th>A3</th>\n",
       "      <th>A4</th>\n",
       "      <th>A5</th>\n",
       "      <th>A6</th>\n",
       "      <th>A7</th>\n",
       "      <th>A8</th>\n",
       "      <th>Target</th>\n",
       "    </tr>\n",
       "  </thead>\n",
       "  <tbody>\n",
       "    <tr>\n",
       "      <th>0</th>\n",
       "      <td>8690.612245</td>\n",
       "      <td>-0.909670</td>\n",
       "      <td>-1.895105</td>\n",
       "      <td>-8.136566</td>\n",
       "      <td>13.765585</td>\n",
       "      <td>6.709996</td>\n",
       "      <td>-5.884439</td>\n",
       "      <td>-3.406092</td>\n",
       "      <td>1</td>\n",
       "    </tr>\n",
       "    <tr>\n",
       "      <th>1</th>\n",
       "      <td>-392.350059</td>\n",
       "      <td>-13.755755</td>\n",
       "      <td>30.646460</td>\n",
       "      <td>23.704817</td>\n",
       "      <td>-10.723005</td>\n",
       "      <td>0.458004</td>\n",
       "      <td>10.379892</td>\n",
       "      <td>-1.293069</td>\n",
       "      <td>2</td>\n",
       "    </tr>\n",
       "    <tr>\n",
       "      <th>2</th>\n",
       "      <td>-208.386907</td>\n",
       "      <td>-2.092605</td>\n",
       "      <td>-11.492858</td>\n",
       "      <td>-24.365067</td>\n",
       "      <td>-14.251037</td>\n",
       "      <td>2.927989</td>\n",
       "      <td>-5.846951</td>\n",
       "      <td>0.205072</td>\n",
       "      <td>1</td>\n",
       "    </tr>\n",
       "    <tr>\n",
       "      <th>3</th>\n",
       "      <td>-911.420071</td>\n",
       "      <td>-8.994291</td>\n",
       "      <td>-20.441832</td>\n",
       "      <td>-15.605460</td>\n",
       "      <td>-4.415244</td>\n",
       "      <td>2.287403</td>\n",
       "      <td>-2.629272</td>\n",
       "      <td>1.212777</td>\n",
       "      <td>2</td>\n",
       "    </tr>\n",
       "    <tr>\n",
       "      <th>4</th>\n",
       "      <td>847.567387</td>\n",
       "      <td>-0.124222</td>\n",
       "      <td>-36.794626</td>\n",
       "      <td>3.811266</td>\n",
       "      <td>9.117390</td>\n",
       "      <td>3.349117</td>\n",
       "      <td>-34.256615</td>\n",
       "      <td>4.157979</td>\n",
       "      <td>2</td>\n",
       "    </tr>\n",
       "  </tbody>\n",
       "</table>\n",
       "</div>"
      ],
      "text/plain": [
       "            A1         A2         A3         A4         A5        A6  \\\n",
       "0  8690.612245  -0.909670  -1.895105  -8.136566  13.765585  6.709996   \n",
       "1  -392.350059 -13.755755  30.646460  23.704817 -10.723005  0.458004   \n",
       "2  -208.386907  -2.092605 -11.492858 -24.365067 -14.251037  2.927989   \n",
       "3  -911.420071  -8.994291 -20.441832 -15.605460  -4.415244  2.287403   \n",
       "4   847.567387  -0.124222 -36.794626   3.811266   9.117390  3.349117   \n",
       "\n",
       "          A7        A8 Target  \n",
       "0  -5.884439 -3.406092      1  \n",
       "1  10.379892 -1.293069      2  \n",
       "2  -5.846951  0.205072      1  \n",
       "3  -2.629272  1.212777      2  \n",
       "4 -34.256615  4.157979      2  "
      ]
     },
     "execution_count": 186,
     "metadata": {},
     "output_type": "execute_result"
    }
   ],
   "source": [
    "student_pca.head()"
   ]
  },
  {
   "cell_type": "code",
   "execution_count": 187,
   "id": "700fbe2d",
   "metadata": {},
   "outputs": [
    {
     "data": {
      "text/html": [
       "<div>\n",
       "<style scoped>\n",
       "    .dataframe tbody tr th:only-of-type {\n",
       "        vertical-align: middle;\n",
       "    }\n",
       "\n",
       "    .dataframe tbody tr th {\n",
       "        vertical-align: top;\n",
       "    }\n",
       "\n",
       "    .dataframe thead th {\n",
       "        text-align: right;\n",
       "    }\n",
       "</style>\n",
       "<table border=\"1\" class=\"dataframe\">\n",
       "  <thead>\n",
       "    <tr style=\"text-align: right;\">\n",
       "      <th></th>\n",
       "      <th>A1</th>\n",
       "      <th>A2</th>\n",
       "      <th>A3</th>\n",
       "      <th>A4</th>\n",
       "      <th>A5</th>\n",
       "      <th>A6</th>\n",
       "      <th>A7</th>\n",
       "      <th>A8</th>\n",
       "    </tr>\n",
       "  </thead>\n",
       "  <tbody>\n",
       "    <tr>\n",
       "      <th>count</th>\n",
       "      <td>4.411000e+03</td>\n",
       "      <td>4.411000e+03</td>\n",
       "      <td>4.411000e+03</td>\n",
       "      <td>4.411000e+03</td>\n",
       "      <td>4.411000e+03</td>\n",
       "      <td>4.411000e+03</td>\n",
       "      <td>4.411000e+03</td>\n",
       "      <td>4.411000e+03</td>\n",
       "    </tr>\n",
       "    <tr>\n",
       "      <th>mean</th>\n",
       "      <td>-3.397976e-13</td>\n",
       "      <td>9.278454e-16</td>\n",
       "      <td>-1.958785e-15</td>\n",
       "      <td>-7.835139e-15</td>\n",
       "      <td>4.355719e-15</td>\n",
       "      <td>-5.541299e-16</td>\n",
       "      <td>1.483264e-14</td>\n",
       "      <td>-2.532245e-15</td>\n",
       "    </tr>\n",
       "    <tr>\n",
       "      <th>std</th>\n",
       "      <td>2.053899e+03</td>\n",
       "      <td>3.582239e+01</td>\n",
       "      <td>1.997272e+01</td>\n",
       "      <td>1.731473e+01</td>\n",
       "      <td>1.710904e+01</td>\n",
       "      <td>1.059837e+01</td>\n",
       "      <td>8.945428e+00</td>\n",
       "      <td>7.701813e+00</td>\n",
       "    </tr>\n",
       "    <tr>\n",
       "      <th>min</th>\n",
       "      <td>-1.129568e+03</td>\n",
       "      <td>-1.860878e+01</td>\n",
       "      <td>-4.720536e+01</td>\n",
       "      <td>-5.072334e+01</td>\n",
       "      <td>-5.706896e+01</td>\n",
       "      <td>-2.991695e+01</td>\n",
       "      <td>-5.211267e+01</td>\n",
       "      <td>-6.909632e+01</td>\n",
       "    </tr>\n",
       "    <tr>\n",
       "      <th>25%</th>\n",
       "      <td>-6.944079e+02</td>\n",
       "      <td>-9.977733e+00</td>\n",
       "      <td>-1.500470e+01</td>\n",
       "      <td>-1.249474e+01</td>\n",
       "      <td>-1.140748e+01</td>\n",
       "      <td>-4.927505e+00</td>\n",
       "      <td>-4.260829e+00</td>\n",
       "      <td>-1.707735e+00</td>\n",
       "    </tr>\n",
       "    <tr>\n",
       "      <th>50%</th>\n",
       "      <td>-3.764244e+02</td>\n",
       "      <td>-6.653314e+00</td>\n",
       "      <td>7.602791e-01</td>\n",
       "      <td>-2.107224e+00</td>\n",
       "      <td>1.853127e-01</td>\n",
       "      <td>1.620742e+00</td>\n",
       "      <td>-4.021521e-01</td>\n",
       "      <td>-8.177977e-02</td>\n",
       "    </tr>\n",
       "    <tr>\n",
       "      <th>75%</th>\n",
       "      <td>-2.234086e+02</td>\n",
       "      <td>-3.358178e+00</td>\n",
       "      <td>1.502159e+01</td>\n",
       "      <td>1.075005e+01</td>\n",
       "      <td>1.167356e+01</td>\n",
       "      <td>3.171872e+00</td>\n",
       "      <td>4.175158e+00</td>\n",
       "      <td>1.460576e+00</td>\n",
       "    </tr>\n",
       "    <tr>\n",
       "      <th>max</th>\n",
       "      <td>8.828611e+03</td>\n",
       "      <td>2.593684e+02</td>\n",
       "      <td>5.550386e+01</td>\n",
       "      <td>7.246170e+01</td>\n",
       "      <td>5.971279e+01</td>\n",
       "      <td>3.378068e+01</td>\n",
       "      <td>5.285731e+01</td>\n",
       "      <td>1.289340e+02</td>\n",
       "    </tr>\n",
       "  </tbody>\n",
       "</table>\n",
       "</div>"
      ],
      "text/plain": [
       "                 A1            A2            A3            A4            A5  \\\n",
       "count  4.411000e+03  4.411000e+03  4.411000e+03  4.411000e+03  4.411000e+03   \n",
       "mean  -3.397976e-13  9.278454e-16 -1.958785e-15 -7.835139e-15  4.355719e-15   \n",
       "std    2.053899e+03  3.582239e+01  1.997272e+01  1.731473e+01  1.710904e+01   \n",
       "min   -1.129568e+03 -1.860878e+01 -4.720536e+01 -5.072334e+01 -5.706896e+01   \n",
       "25%   -6.944079e+02 -9.977733e+00 -1.500470e+01 -1.249474e+01 -1.140748e+01   \n",
       "50%   -3.764244e+02 -6.653314e+00  7.602791e-01 -2.107224e+00  1.853127e-01   \n",
       "75%   -2.234086e+02 -3.358178e+00  1.502159e+01  1.075005e+01  1.167356e+01   \n",
       "max    8.828611e+03  2.593684e+02  5.550386e+01  7.246170e+01  5.971279e+01   \n",
       "\n",
       "                 A6            A7            A8  \n",
       "count  4.411000e+03  4.411000e+03  4.411000e+03  \n",
       "mean  -5.541299e-16  1.483264e-14 -2.532245e-15  \n",
       "std    1.059837e+01  8.945428e+00  7.701813e+00  \n",
       "min   -2.991695e+01 -5.211267e+01 -6.909632e+01  \n",
       "25%   -4.927505e+00 -4.260829e+00 -1.707735e+00  \n",
       "50%    1.620742e+00 -4.021521e-01 -8.177977e-02  \n",
       "75%    3.171872e+00  4.175158e+00  1.460576e+00  \n",
       "max    3.378068e+01  5.285731e+01  1.289340e+02  "
      ]
     },
     "execution_count": 187,
     "metadata": {},
     "output_type": "execute_result"
    }
   ],
   "source": [
    "student_pca.describe()"
   ]
  },
  {
   "cell_type": "code",
   "execution_count": 188,
   "id": "4bc7fc7b",
   "metadata": {
    "scrolled": false
   },
   "outputs": [
    {
     "name": "stdout",
     "output_type": "stream",
     "text": [
      "<class 'pandas.core.series.Series'>\n",
      "RangeIndex: 4411 entries, 0 to 4410\n",
      "Series name: Target\n",
      "Non-Null Count  Dtype \n",
      "--------------  ----- \n",
      "4411 non-null   object\n",
      "dtypes: object(1)\n",
      "memory usage: 34.6+ KB\n"
     ]
    }
   ],
   "source": [
    "student_pca[\"Target\"].info()"
   ]
  },
  {
   "cell_type": "code",
   "execution_count": 189,
   "id": "7adacbdc",
   "metadata": {
    "scrolled": true
   },
   "outputs": [
    {
     "data": {
      "text/plain": [
       "count     4411\n",
       "unique       3\n",
       "top          2\n",
       "freq      2202\n",
       "Name: Target, dtype: object"
      ]
     },
     "execution_count": 189,
     "metadata": {},
     "output_type": "execute_result"
    }
   ],
   "source": [
    "student_pca[\"Target\"].describe()"
   ]
  },
  {
   "cell_type": "code",
   "execution_count": 190,
   "id": "a81f9610",
   "metadata": {},
   "outputs": [
    {
     "data": {
      "text/html": [
       "<div>\n",
       "<style scoped>\n",
       "    .dataframe tbody tr th:only-of-type {\n",
       "        vertical-align: middle;\n",
       "    }\n",
       "\n",
       "    .dataframe tbody tr th {\n",
       "        vertical-align: top;\n",
       "    }\n",
       "\n",
       "    .dataframe thead th {\n",
       "        text-align: right;\n",
       "    }\n",
       "</style>\n",
       "<table border=\"1\" class=\"dataframe\">\n",
       "  <thead>\n",
       "    <tr style=\"text-align: right;\">\n",
       "      <th></th>\n",
       "      <th>A1</th>\n",
       "      <th>A2</th>\n",
       "      <th>A3</th>\n",
       "      <th>A4</th>\n",
       "      <th>A5</th>\n",
       "      <th>A6</th>\n",
       "      <th>A7</th>\n",
       "      <th>A8</th>\n",
       "    </tr>\n",
       "  </thead>\n",
       "  <tbody>\n",
       "    <tr>\n",
       "      <th>count</th>\n",
       "      <td>4.411000e+03</td>\n",
       "      <td>4.411000e+03</td>\n",
       "      <td>4.411000e+03</td>\n",
       "      <td>4.411000e+03</td>\n",
       "      <td>4.411000e+03</td>\n",
       "      <td>4.411000e+03</td>\n",
       "      <td>4.411000e+03</td>\n",
       "      <td>4.411000e+03</td>\n",
       "    </tr>\n",
       "    <tr>\n",
       "      <th>mean</th>\n",
       "      <td>-3.397976e-13</td>\n",
       "      <td>9.278454e-16</td>\n",
       "      <td>-1.958785e-15</td>\n",
       "      <td>-7.835139e-15</td>\n",
       "      <td>4.355719e-15</td>\n",
       "      <td>-5.541299e-16</td>\n",
       "      <td>1.483264e-14</td>\n",
       "      <td>-2.532245e-15</td>\n",
       "    </tr>\n",
       "    <tr>\n",
       "      <th>std</th>\n",
       "      <td>2.053899e+03</td>\n",
       "      <td>3.582239e+01</td>\n",
       "      <td>1.997272e+01</td>\n",
       "      <td>1.731473e+01</td>\n",
       "      <td>1.710904e+01</td>\n",
       "      <td>1.059837e+01</td>\n",
       "      <td>8.945428e+00</td>\n",
       "      <td>7.701813e+00</td>\n",
       "    </tr>\n",
       "    <tr>\n",
       "      <th>min</th>\n",
       "      <td>-1.129568e+03</td>\n",
       "      <td>-1.860878e+01</td>\n",
       "      <td>-4.720536e+01</td>\n",
       "      <td>-5.072334e+01</td>\n",
       "      <td>-5.706896e+01</td>\n",
       "      <td>-2.991695e+01</td>\n",
       "      <td>-5.211267e+01</td>\n",
       "      <td>-6.909632e+01</td>\n",
       "    </tr>\n",
       "    <tr>\n",
       "      <th>25%</th>\n",
       "      <td>-6.944079e+02</td>\n",
       "      <td>-9.977733e+00</td>\n",
       "      <td>-1.500470e+01</td>\n",
       "      <td>-1.249474e+01</td>\n",
       "      <td>-1.140748e+01</td>\n",
       "      <td>-4.927505e+00</td>\n",
       "      <td>-4.260829e+00</td>\n",
       "      <td>-1.707735e+00</td>\n",
       "    </tr>\n",
       "    <tr>\n",
       "      <th>50%</th>\n",
       "      <td>-3.764244e+02</td>\n",
       "      <td>-6.653314e+00</td>\n",
       "      <td>7.602791e-01</td>\n",
       "      <td>-2.107224e+00</td>\n",
       "      <td>1.853127e-01</td>\n",
       "      <td>1.620742e+00</td>\n",
       "      <td>-4.021521e-01</td>\n",
       "      <td>-8.177977e-02</td>\n",
       "    </tr>\n",
       "    <tr>\n",
       "      <th>75%</th>\n",
       "      <td>-2.234086e+02</td>\n",
       "      <td>-3.358178e+00</td>\n",
       "      <td>1.502159e+01</td>\n",
       "      <td>1.075005e+01</td>\n",
       "      <td>1.167356e+01</td>\n",
       "      <td>3.171872e+00</td>\n",
       "      <td>4.175158e+00</td>\n",
       "      <td>1.460576e+00</td>\n",
       "    </tr>\n",
       "    <tr>\n",
       "      <th>max</th>\n",
       "      <td>8.828611e+03</td>\n",
       "      <td>2.593684e+02</td>\n",
       "      <td>5.550386e+01</td>\n",
       "      <td>7.246170e+01</td>\n",
       "      <td>5.971279e+01</td>\n",
       "      <td>3.378068e+01</td>\n",
       "      <td>5.285731e+01</td>\n",
       "      <td>1.289340e+02</td>\n",
       "    </tr>\n",
       "  </tbody>\n",
       "</table>\n",
       "</div>"
      ],
      "text/plain": [
       "                 A1            A2            A3            A4            A5  \\\n",
       "count  4.411000e+03  4.411000e+03  4.411000e+03  4.411000e+03  4.411000e+03   \n",
       "mean  -3.397976e-13  9.278454e-16 -1.958785e-15 -7.835139e-15  4.355719e-15   \n",
       "std    2.053899e+03  3.582239e+01  1.997272e+01  1.731473e+01  1.710904e+01   \n",
       "min   -1.129568e+03 -1.860878e+01 -4.720536e+01 -5.072334e+01 -5.706896e+01   \n",
       "25%   -6.944079e+02 -9.977733e+00 -1.500470e+01 -1.249474e+01 -1.140748e+01   \n",
       "50%   -3.764244e+02 -6.653314e+00  7.602791e-01 -2.107224e+00  1.853127e-01   \n",
       "75%   -2.234086e+02 -3.358178e+00  1.502159e+01  1.075005e+01  1.167356e+01   \n",
       "max    8.828611e+03  2.593684e+02  5.550386e+01  7.246170e+01  5.971279e+01   \n",
       "\n",
       "                 A6            A7            A8  \n",
       "count  4.411000e+03  4.411000e+03  4.411000e+03  \n",
       "mean  -5.541299e-16  1.483264e-14 -2.532245e-15  \n",
       "std    1.059837e+01  8.945428e+00  7.701813e+00  \n",
       "min   -2.991695e+01 -5.211267e+01 -6.909632e+01  \n",
       "25%   -4.927505e+00 -4.260829e+00 -1.707735e+00  \n",
       "50%    1.620742e+00 -4.021521e-01 -8.177977e-02  \n",
       "75%    3.171872e+00  4.175158e+00  1.460576e+00  \n",
       "max    3.378068e+01  5.285731e+01  1.289340e+02  "
      ]
     },
     "execution_count": 190,
     "metadata": {},
     "output_type": "execute_result"
    }
   ],
   "source": [
    "student_pca.describe()"
   ]
  },
  {
   "cell_type": "code",
   "execution_count": 191,
   "id": "4f238d38",
   "metadata": {
    "scrolled": true
   },
   "outputs": [
    {
     "data": {
      "text/plain": [
       "(4411, 9)"
      ]
     },
     "execution_count": 191,
     "metadata": {},
     "output_type": "execute_result"
    }
   ],
   "source": [
    "student_pca.shape"
   ]
  },
  {
   "cell_type": "code",
   "execution_count": 192,
   "id": "b70f3cdf",
   "metadata": {
    "scrolled": true
   },
   "outputs": [
    {
     "data": {
      "text/plain": [
       "A1        0\n",
       "A2        0\n",
       "A3        0\n",
       "A4        0\n",
       "A5        0\n",
       "A6        0\n",
       "A7        0\n",
       "A8        0\n",
       "Target    0\n",
       "dtype: int64"
      ]
     },
     "execution_count": 192,
     "metadata": {},
     "output_type": "execute_result"
    }
   ],
   "source": [
    "student_pca.isnull().sum()"
   ]
  },
  {
   "cell_type": "code",
   "execution_count": 193,
   "id": "75321c2f",
   "metadata": {
    "scrolled": true
   },
   "outputs": [],
   "source": [
    "student_array = student_pca.values"
   ]
  },
  {
   "cell_type": "code",
   "execution_count": 194,
   "id": "3d69aaf5",
   "metadata": {
    "scrolled": true
   },
   "outputs": [
    {
     "data": {
      "text/plain": [
       "array([[8690.612244849714, -0.9096701542698742, -1.8951053392323314, ...,\n",
       "        -5.884439231727799, -3.406092115881916, '1'],\n",
       "       [-392.3500585630828, -13.755754896869249, 30.646459964176273, ...,\n",
       "        10.379891689701697, -1.2930693582432689, '2'],\n",
       "       [-208.3869066228331, -2.0926049920240217, -11.492857927192905,\n",
       "        ..., -5.846951280864886, 0.2050718385313963, '1'],\n",
       "       ...,\n",
       "       [-638.3747874079346, -3.0562734819328163, -5.1239139007210355,\n",
       "        ..., 0.15437276148304516, 0.3172548248589555, '1'],\n",
       "       [-285.3485111030649, -8.177158908236239, 0.5650693181619477, ...,\n",
       "        18.1256558737633, -0.41295848908415655, '2'],\n",
       "       [-911.3687599436324, -5.802113433128406, -7.676481568574672, ...,\n",
       "        -0.5525201335002974, 0.8070221426638879, '2']], dtype=object)"
      ]
     },
     "execution_count": 194,
     "metadata": {},
     "output_type": "execute_result"
    }
   ],
   "source": [
    "student_array"
   ]
  },
  {
   "cell_type": "code",
   "execution_count": 195,
   "id": "c6d59506",
   "metadata": {},
   "outputs": [],
   "source": [
    "from sklearn.model_selection import train_test_split\n",
    "X = student_array[:,0:8]\n",
    "y = student_array[:,8]\n",
    "X_train, X_validation, Y_train, Y_validation = train_test_split(X, y, test_size=30, random_state=1)"
   ]
  },
  {
   "cell_type": "code",
   "execution_count": 196,
   "id": "2a398f9d",
   "metadata": {},
   "outputs": [
    {
     "data": {
      "text/plain": [
       "((4381, 8), (30, 8), (4381,), (30,))"
      ]
     },
     "execution_count": 196,
     "metadata": {},
     "output_type": "execute_result"
    }
   ],
   "source": [
    "X_train.shape, X_validation.shape, Y_train.shape, Y_validation.shape"
   ]
  },
  {
   "cell_type": "code",
   "execution_count": 197,
   "id": "37aa6911",
   "metadata": {},
   "outputs": [],
   "source": [
    "models = []\n",
    "models.append(('LR', LogisticRegression(solver='liblinear', multi_class='ovr')))\n",
    "models.append(('LDA', LinearDiscriminantAnalysis()))\n",
    "models.append(('KNN', KNeighborsClassifier()))\n",
    "models.append(('CART', DecisionTreeClassifier()))\n",
    "models.append(('NB', GaussianNB()))\n",
    "models.append(('SVM', SVC(gamma='auto')))"
   ]
  },
  {
   "cell_type": "code",
   "execution_count": 198,
   "id": "160bcd97",
   "metadata": {
    "scrolled": true
   },
   "outputs": [
    {
     "name": "stdout",
     "output_type": "stream",
     "text": [
      "LR: 0.500343 (0.003683)\n",
      "LDA: 0.500343 (0.004735)\n",
      "KNN: 0.434377 (0.019881)\n",
      "CART: 0.385075 (0.020604)\n",
      "NB: 0.488474 (0.012063)\n",
      "SVM: 0.495091 (0.007843)\n"
     ]
    }
   ],
   "source": [
    "results = []\n",
    "names = []\n",
    "for name, model in models:\n",
    "\tkfold = StratifiedKFold(n_splits=10, random_state=1, shuffle=True)\n",
    "\tcv_results = cross_val_score(model, X_train, Y_train, cv=kfold, scoring='accuracy')\n",
    "\tresults.append(cv_results)\n",
    "\tnames.append(name)\n",
    "\tprint('%s: %f (%f)' % (name, cv_results.mean(), cv_results.std()))"
   ]
  },
  {
   "cell_type": "code",
   "execution_count": 199,
   "id": "0cdeb398",
   "metadata": {},
   "outputs": [],
   "source": [
    "model = LinearDiscriminantAnalysis()\n",
    "model.fit(X_train, Y_train)\n",
    "predictions = model.predict(X_validation)"
   ]
  },
  {
   "cell_type": "code",
   "execution_count": 201,
   "id": "06c75dc3",
   "metadata": {
    "scrolled": true
   },
   "outputs": [
    {
     "name": "stdout",
     "output_type": "stream",
     "text": [
      "0.3333333333333333\n",
      "[[ 0 12  0]\n",
      " [ 0 10  0]\n",
      " [ 0  8  0]]\n"
     ]
    }
   ],
   "source": [
    "print(accuracy_score(Y_validation, predictions))\n",
    "print(confusion_matrix(Y_validation, predictions))"
   ]
  }
 ],
 "metadata": {
  "kernelspec": {
   "display_name": "Python 3 (ipykernel)",
   "language": "python",
   "name": "python3"
  },
  "language_info": {
   "codemirror_mode": {
    "name": "ipython",
    "version": 3
   },
   "file_extension": ".py",
   "mimetype": "text/x-python",
   "name": "python",
   "nbconvert_exporter": "python",
   "pygments_lexer": "ipython3",
   "version": "3.11.5"
  }
 },
 "nbformat": 4,
 "nbformat_minor": 5
}
